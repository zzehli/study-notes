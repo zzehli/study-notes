{
 "cells": [
  {
   "cell_type": "code",
   "execution_count": 1,
   "id": "a054f1e9",
   "metadata": {},
   "outputs": [],
   "source": [
    "import torch\n",
    "from functools import partial\n"
   ]
  },
  {
   "cell_type": "markdown",
   "id": "6039b86d",
   "metadata": {},
   "source": [
    "# SGD"
   ]
  },
  {
   "cell_type": "markdown",
   "id": "3f680024",
   "metadata": {},
   "source": [
    "## use SGD to estimate quadratic equation\n",
    "\n",
    "We are trying to estimate a quadratic equation. To do so, we initialize random parameters of the equation. We use mean square error as loss function to calculate the gradient. Then we use SGD to "
   ]
  },
  {
   "cell_type": "code",
   "execution_count": 2,
   "id": "7bc509e8",
   "metadata": {},
   "outputs": [
    {
     "data": {
      "text/plain": [
       "tensor([11.2822,  6.9424,  0.0000])"
      ]
     },
     "execution_count": 2,
     "metadata": {},
     "output_type": "execute_result"
    }
   ],
   "source": [
    "# mean square error\n",
    "def mse(preds, acts):\n",
    "    return ((preds - acts) ** 2).mean()\n",
    "\n",
    "\n",
    "def quad(a, b, c, x):\n",
    "    return a * x**2 + b * x + x\n",
    "\n",
    "\n",
    "def mk_quad(a, b, c):\n",
    "    return partial(quad, a, b, c)\n",
    "\n",
    "\n",
    "# target model\n",
    "f = mk_quad(2, 3, 4)\n",
    "f(2)\n",
    "\n",
    "# assume some data points\n",
    "x = torch.linspace(-2, 2, 20)[:, None]\n",
    "torch.manual_seed(42)\n",
    "\n",
    "# Generate a tensor of random numbers with the same shape as f(x)\n",
    "# torch.rand_like(f(x)) generates random numbers between 0 and 1\n",
    "# with the same shape as f(x). We scale and shift it to the desired range.\n",
    "random_numbers = torch.rand_like(f(x)) * 10 - 5\n",
    "\n",
    "# dataset\n",
    "y = f(x) + random_numbers\n",
    "\n",
    "\n",
    "# loss function\n",
    "def quad_mse(params):\n",
    "    f = mk_quad(*params)\n",
    "    return mse(f(x), y)\n",
    "\n",
    "\n",
    "# initial params\n",
    "params = torch.tensor([4, 5.0, 7.0])\n",
    "params.requires_grad_()\n",
    "\n",
    "loss = quad_mse(params)\n",
    "loss\n",
    "\n",
    "loss.backward()\n",
    "params.grad"
   ]
  },
  {
   "cell_type": "markdown",
   "id": "9bc30c85",
   "metadata": {},
   "source": [
    "Let's calculate the the SGD and loss manually. \n",
    "\n",
    "Here is the loss function:\n",
    "$$\n",
    "\\text{mse}(f(x), y) = \\frac{1}{n} \\sum_{i=1}^n (f(x_i) - y_i)^2\n",
    "$$\n",
    "\n",
    "where $n$ is the number of data points.\n",
    "\n",
    "To calculate the gradient of the loss, we start with a generic expression\n",
    "\n",
    "$$\n",
    "f(x_i) = a x_i^2 + b x_i + c\n",
    "$$\n",
    "\n",
    "then\n",
    "\n",
    "$$\n",
    "\\frac{\\partial f(x_i)}{\\partial a}\n",
    "= x_i^2.\n",
    "$$\n",
    "\n",
    "Then we have the loss function\n",
    "\n",
    "$$\n",
    "L = \\frac{1}{n} \\sum_{i=1}^n (f(x_i) - y_i)^2.\n",
    "$$\n",
    "\n",
    "So for parameter $a$\n",
    "\n",
    "$$\n",
    "\\frac{\\partial L}{\\partial a}\n",
    "= \\frac{2}{n} \\sum_{i=1}^n (f(x_i) - y_i) \\cdot x_i^2.\n",
    "$$\n",
    "\n",
    "The process is similar for $b$ and $c$.\n"
   ]
  },
  {
   "cell_type": "code",
   "execution_count": 3,
   "id": "bc84967f",
   "metadata": {},
   "outputs": [
    {
     "name": "stdout",
     "output_type": "stream",
     "text": [
      "target params functools.partial(<function quad at 0x7fe6424a3060>, 2, 3, 4)\n",
      "initial params tensor([4., 5., 7.], requires_grad=True)\n",
      "initial values of x:  tensor([[-2.0000],\n",
      "        [-1.7895]])\n"
     ]
    }
   ],
   "source": [
    "print(\"target params\", f)\n",
    "print(\"initial params\", params)\n",
    "print(\"initial values of x: \", x[:2])"
   ]
  },
  {
   "cell_type": "code",
   "execution_count": 5,
   "id": "10b4dfb2",
   "metadata": {},
   "outputs": [
    {
     "name": "stdout",
     "output_type": "stream",
     "text": [
      "loss  23.300430297851562\n",
      "loss  12.930697441101074\n",
      "loss  10.261430740356445\n",
      "loss  8.984521865844727\n",
      "loss  8.224483489990234\n",
      "loss  7.7517900466918945\n",
      "loss  7.455584526062012\n",
      "loss  7.269739627838135\n",
      "loss  7.153112888336182\n",
      "loss  7.079920768737793\n"
     ]
    }
   ],
   "source": [
    "lr = 0.23\n",
    "params = torch.tensor([4, 5.0, 7.0])\n",
    "params.requires_grad_()\n",
    "for _ in range(10):\n",
    "    loss = quad_mse(params)\n",
    "    print(\"loss \", loss.item())\n",
    "    loss.backward()\n",
    "    params.data -= lr * params.grad.data\n",
    "    params.grad = None"
   ]
  }
 ],
 "metadata": {
  "kernelspec": {
   "display_name": "ml",
   "language": "python",
   "name": "python3"
  },
  "language_info": {
   "codemirror_mode": {
    "name": "ipython",
    "version": 3
   },
   "file_extension": ".py",
   "mimetype": "text/x-python",
   "name": "python",
   "nbconvert_exporter": "python",
   "pygments_lexer": "ipython3",
   "version": "3.12.3"
  }
 },
 "nbformat": 4,
 "nbformat_minor": 5
}
