{
 "cells": [
  {
   "cell_type": "code",
   "execution_count": 1,
   "id": "a054f1e9",
   "metadata": {},
   "outputs": [],
   "source": [
    "import torch\n",
    "from functools import partial\n"
   ]
  },
  {
   "cell_type": "markdown",
   "id": "6039b86d",
   "metadata": {},
   "source": [
    "# SGD"
   ]
  },
  {
   "cell_type": "markdown",
   "id": "3f680024",
   "metadata": {},
   "source": [
    "## use SGD to estimate quadratic equation\n",
    "\n",
    "We are trying to estimate a quadratic equation. To do so, we initialize random parameters of the equation. We use mean square error as loss function to calculate the gradient. Then we use SGD to optimize the parameters."
   ]
  },
  {
   "cell_type": "code",
   "execution_count": 2,
   "id": "7bc509e8",
   "metadata": {},
   "outputs": [
    {
     "data": {
      "text/plain": [
       "tensor([11.2822,  6.9424,  0.0000])"
      ]
     },
     "execution_count": 2,
     "metadata": {},
     "output_type": "execute_result"
    }
   ],
   "source": [
    "# mean square error\n",
    "def mse(preds, acts):\n",
    "    return ((preds - acts) ** 2).mean()\n",
    "\n",
    "\n",
    "def quad(a, b, c, x):\n",
    "    return a * x**2 + b * x + x\n",
    "\n",
    "\n",
    "def mk_quad(a, b, c):\n",
    "    return partial(quad, a, b, c)\n",
    "\n",
    "\n",
    "# target model\n",
    "f = mk_quad(2, 3, 4)\n",
    "f(2)\n",
    "\n",
    "# assume some data points\n",
    "x = torch.linspace(-2, 2, 20)[:, None]\n",
    "torch.manual_seed(42)\n",
    "\n",
    "# Generate a tensor of random numbers with the same shape as f(x)\n",
    "# torch.rand_like(f(x)) generates random numbers between 0 and 1\n",
    "# with the same shape as f(x). We scale and shift it to the desired range.\n",
    "random_numbers = torch.rand_like(f(x)) * 10 - 5\n",
    "\n",
    "# dataset\n",
    "y = f(x) + random_numbers\n",
    "\n",
    "\n",
    "# loss function\n",
    "def quad_mse(params):\n",
    "    f = mk_quad(*params)\n",
    "    return mse(f(x), y)\n",
    "\n",
    "\n",
    "# initial params\n",
    "params = torch.tensor([4, 5.0, 7.0])\n",
    "params.requires_grad_()\n",
    "\n",
    "loss = quad_mse(params)\n",
    "loss\n",
    "\n",
    "loss.backward()\n",
    "params.grad"
   ]
  },
  {
   "cell_type": "markdown",
   "id": "9bc30c85",
   "metadata": {},
   "source": [
    "Let's calculate the the SGD and loss manually. \n",
    "\n",
    "Here is the loss function:\n",
    "$$\n",
    "\\text{mse}(f(x), y) = \\frac{1}{n} \\sum_{i=1}^n (f(x_i) - y_i)^2\n",
    "$$\n",
    "\n",
    "where $n$ is the number of data points.\n",
    "\n",
    "To calculate the gradient of the loss, we start with a generic expression\n",
    "\n",
    "$$\n",
    "f(x_i) = a x_i^2 + b x_i + c\n",
    "$$\n",
    "\n",
    "then\n",
    "\n",
    "$$\n",
    "\\frac{\\partial f(x_i)}{\\partial a}\n",
    "= x_i^2.\n",
    "$$\n",
    "\n",
    "Then we have the loss function, where $y_i$ are $y$ value in $(x_i, y_i)$ in the training data and $f(x_i)$ is the target $y$ value\n",
    "\n",
    "$$\n",
    "L = \\frac{1}{n} \\sum_{i=1}^n (f(x_i) - y_i)^2.\n",
    "$$\n",
    "\n",
    "So for parameter $a$, our gradient is:\n",
    "\n",
    "$$\n",
    "\\frac{\\partial L}{\\partial a}\n",
    "= \\frac{2}{n} \\sum_{i=1}^n (f(x_i) - y_i) \\cdot x_i^2.\n",
    "$$\n",
    "\n",
    "The process is similar for $b$ and $c$.\n",
    "\n",
    "To perform SGD, we subtract $grad \\times learning rate$ from the weight:\n",
    "\n",
    "$params \\mathrel{-}= learning\\,rate \\times grad$\n"
   ]
  },
  {
   "cell_type": "code",
   "execution_count": 3,
   "id": "bc84967f",
   "metadata": {},
   "outputs": [
    {
     "name": "stdout",
     "output_type": "stream",
     "text": [
      "target params functools.partial(<function quad at 0x7ffac72baf20>, 2, 3, 4)\n",
      "initial params tensor([4., 5., 7.], requires_grad=True)\n",
      "initial values of x:  tensor([[-2.0000],\n",
      "        [-1.7895]])\n"
     ]
    }
   ],
   "source": [
    "print(\"target params\", f)\n",
    "print(\"initial params\", params)\n",
    "print(\"initial values of x: \", x[:2])"
   ]
  },
  {
   "cell_type": "code",
   "execution_count": 4,
   "id": "10b4dfb2",
   "metadata": {},
   "outputs": [
    {
     "name": "stdout",
     "output_type": "stream",
     "text": [
      "loss  23.300430297851562\n",
      "loss  12.930697441101074\n",
      "loss  10.261430740356445\n",
      "loss  8.984521865844727\n",
      "loss  8.224483489990234\n",
      "loss  7.7517900466918945\n",
      "loss  7.455584526062012\n",
      "loss  7.269739627838135\n",
      "loss  7.153112888336182\n",
      "loss  7.079920768737793\n"
     ]
    }
   ],
   "source": [
    "lr = 0.23\n",
    "params = torch.tensor([4, 5.0, 7.0])\n",
    "params.requires_grad_()\n",
    "for _ in range(10):\n",
    "    loss = quad_mse(params)\n",
    "    print(\"loss \", loss.item())\n",
    "    loss.backward()\n",
    "    params.data -= lr * params.grad.data\n",
    "    params.grad = None"
   ]
  },
  {
   "cell_type": "code",
   "execution_count": 5,
   "id": "8effc1aa",
   "metadata": {},
   "outputs": [
    {
     "data": {
      "text/plain": [
       "tensor([2.6931, 2.6446, 7.0000], requires_grad=True)"
      ]
     },
     "execution_count": 5,
     "metadata": {},
     "output_type": "execute_result"
    }
   ],
   "source": [
    "params"
   ]
  },
  {
   "cell_type": "markdown",
   "id": "ac93fc0e",
   "metadata": {},
   "source": [
    "## Use SGD to train image classification on the MNIST dataset"
   ]
  },
  {
   "cell_type": "markdown",
   "id": "2c7e4383",
   "metadata": {},
   "source": [
    "### dataset exploration"
   ]
  },
  {
   "cell_type": "code",
   "execution_count": 6,
   "id": "d217d310",
   "metadata": {},
   "outputs": [],
   "source": [
    "#!wget \"https://s3.amazonaws.com/fast-ai-sample/mnist_tiny.tgz\" -O \"data/mnist_tiny.tar.gz\" && tar -xzf \"data/mnist_tiny.tar.gz\" -C data/"
   ]
  },
  {
   "cell_type": "code",
   "execution_count": 7,
   "id": "587fb05f",
   "metadata": {},
   "outputs": [
    {
     "name": "stdout",
     "output_type": "stream",
     "text": [
      "[PosixPath('data/mnist_tiny/labels.csv'), PosixPath('data/mnist_tiny/test'), PosixPath('data/mnist_tiny/valid'), PosixPath('data/mnist_tiny/train'), PosixPath('data/mnist_tiny/models')]\n"
     ]
    },
    {
     "data": {
      "text/plain": [
       "PosixPath('data/mnist_tiny/train/3/7030.png')"
      ]
     },
     "execution_count": 7,
     "metadata": {},
     "output_type": "execute_result"
    }
   ],
   "source": [
    "from pathlib import Path\n",
    "\n",
    "path = Path(\"data/mnist_tiny/\")\n",
    "print(list(path.iterdir()))\n",
    "threes = sorted((path / \"train\" / \"3\").iterdir())\n",
    "sevens = sorted((path / \"train\" / \"7\").iterdir())\n",
    "threes[1]"
   ]
  },
  {
   "cell_type": "code",
   "execution_count": 8,
   "id": "2b38e0d3",
   "metadata": {},
   "outputs": [
    {
     "data": {
      "image/jpeg": "[encoded data removed]",
      "image/png": "[encoded data removed]",
      "text/plain": [
       "<PIL.PngImagePlugin.PngImageFile image mode=L size=28x28>"
      ]
     },
     "execution_count": 8,
     "metadata": {},
     "output_type": "execute_result"
    }
   ],
   "source": [
    "from PIL import Image\n",
    "\n",
    "im3_path = threes[2]\n",
    "im3 = Image.open(im3_path)\n",
    "im3"
   ]
  },
  {
   "cell_type": "code",
   "execution_count": 9,
   "id": "d5fc6f61",
   "metadata": {},
   "outputs": [
    {
     "data": {
      "text/plain": [
       "array([[  0,   0,   0,   0,   0,   0],\n",
       "       [ 16,  42,   0,   0,   0,   0],\n",
       "       [197, 102,   0,   0,   0,   0],\n",
       "       [254, 166,   5,   0,   0,   0],\n",
       "       [212, 254, 193,  77,  30,   0],\n",
       "       [ 29, 194, 254, 254, 242, 213],\n",
       "       [  0,  20, 165, 254, 254, 254],\n",
       "       [  0,   0,   3,  12,  65, 149],\n",
       "       [  0,   0,   0,   0,   0,   0],\n",
       "       [  0,   0,   0,   0,   0,   0]], dtype=uint8)"
      ]
     },
     "execution_count": 9,
     "metadata": {},
     "output_type": "execute_result"
    }
   ],
   "source": [
    "from numpy import array\n",
    "\n",
    "im3_array = array(im3)\n",
    "im3_array[15:25, 4:10]"
   ]
  },
  {
   "cell_type": "code",
   "execution_count": 10,
   "id": "ebfc43f0",
   "metadata": {},
   "outputs": [
    {
     "data": {
      "text/plain": [
       "tensor([[  0,   0,   0,   0,   0,   0],\n",
       "        [ 16,  42,   0,   0,   0,   0],\n",
       "        [197, 102,   0,   0,   0,   0],\n",
       "        [254, 166,   5,   0,   0,   0],\n",
       "        [212, 254, 193,  77,  30,   0],\n",
       "        [ 29, 194, 254, 254, 242, 213],\n",
       "        [  0,  20, 165, 254, 254, 254],\n",
       "        [  0,   0,   3,  12,  65, 149],\n",
       "        [  0,   0,   0,   0,   0,   0],\n",
       "        [  0,   0,   0,   0,   0,   0]], dtype=torch.uint8)"
      ]
     },
     "execution_count": 10,
     "metadata": {},
     "output_type": "execute_result"
    }
   ],
   "source": [
    "import torch\n",
    "\n",
    "im3_t = torch.as_tensor(im3_array)\n",
    "im3_t[15:25, 4:10]\n"
   ]
  },
  {
   "cell_type": "code",
   "execution_count": 11,
   "id": "e4df9b43",
   "metadata": {},
   "outputs": [
    {
     "data": {
      "text/html": [
       "<style type=\"text/css\">\n",
       "#T_de6b2_row0_col0, #T_de6b2_row0_col1, #T_de6b2_row0_col2, #T_de6b2_row0_col3, #T_de6b2_row0_col4, #T_de6b2_row0_col5, #T_de6b2_row0_col6, #T_de6b2_row0_col7, #T_de6b2_row0_col8, #T_de6b2_row0_col9, #T_de6b2_row0_col10, #T_de6b2_row0_col11, #T_de6b2_row0_col12, #T_de6b2_row0_col13, #T_de6b2_row0_col14, #T_de6b2_row0_col15, #T_de6b2_row0_col16, #T_de6b2_row0_col17, #T_de6b2_row0_col18, #T_de6b2_row0_col19, #T_de6b2_row0_col20, #T_de6b2_row0_col21, #T_de6b2_row0_col22, #T_de6b2_row0_col23, #T_de6b2_row0_col24, #T_de6b2_row0_col25, #T_de6b2_row0_col26, #T_de6b2_row0_col27, #T_de6b2_row1_col0, #T_de6b2_row1_col1, #T_de6b2_row1_col2, #T_de6b2_row1_col3, #T_de6b2_row1_col4, #T_de6b2_row1_col5, #T_de6b2_row1_col6, #T_de6b2_row1_col7, #T_de6b2_row1_col8, #T_de6b2_row1_col9, #T_de6b2_row1_col10, #T_de6b2_row1_col11, #T_de6b2_row1_col12, #T_de6b2_row1_col13, #T_de6b2_row1_col14, #T_de6b2_row1_col15, #T_de6b2_row1_col16, #T_de6b2_row1_col17, #T_de6b2_row1_col18, #T_de6b2_row1_col19, #T_de6b2_row1_col20, #T_de6b2_row1_col21, #T_de6b2_row1_col22, #T_de6b2_row1_col23, #T_de6b2_row1_col24, #T_de6b2_row1_col25, #T_de6b2_row1_col26, #T_de6b2_row1_col27, #T_de6b2_row2_col0, #T_de6b2_row2_col1, #T_de6b2_row2_col2, #T_de6b2_row2_col3, #T_de6b2_row2_col4, #T_de6b2_row2_col5, #T_de6b2_row2_col6, #T_de6b2_row2_col7, #T_de6b2_row2_col8, #T_de6b2_row2_col9, #T_de6b2_row2_col10, #T_de6b2_row2_col11, #T_de6b2_row2_col12, #T_de6b2_row2_col13, #T_de6b2_row2_col14, #T_de6b2_row2_col15, #T_de6b2_row2_col16, #T_de6b2_row2_col17, #T_de6b2_row2_col18, #T_de6b2_row2_col19, #T_de6b2_row2_col20, #T_de6b2_row2_col21, #T_de6b2_row2_col22, #T_de6b2_row2_col23, #T_de6b2_row2_col24, #T_de6b2_row2_col25, #T_de6b2_row2_col26, #T_de6b2_row2_col27, #T_de6b2_row3_col0, #T_de6b2_row3_col1, #T_de6b2_row3_col2, #T_de6b2_row3_col3, #T_de6b2_row3_col4, #T_de6b2_row3_col5, #T_de6b2_row3_col6, #T_de6b2_row3_col7, #T_de6b2_row3_col8, #T_de6b2_row3_col9, #T_de6b2_row3_col10, #T_de6b2_row3_col11, #T_de6b2_row3_col20, #T_de6b2_row3_col21, #T_de6b2_row3_col22, #T_de6b2_row3_col23, #T_de6b2_row3_col24, #T_de6b2_row3_col25, #T_de6b2_row3_col26, #T_de6b2_row3_col27, #T_de6b2_row4_col0, #T_de6b2_row4_col1, #T_de6b2_row4_col2, #T_de6b2_row4_col3, #T_de6b2_row4_col4, #T_de6b2_row4_col5, #T_de6b2_row4_col6, #T_de6b2_row4_col7, #T_de6b2_row4_col8, #T_de6b2_row4_col9, #T_de6b2_row4_col20, #T_de6b2_row4_col21, #T_de6b2_row4_col22, #T_de6b2_row4_col23, #T_de6b2_row4_col24, #T_de6b2_row4_col25, #T_de6b2_row4_col26, #T_de6b2_row4_col27, #T_de6b2_row5_col0, #T_de6b2_row5_col1, #T_de6b2_row5_col2, #T_de6b2_row5_col3, #T_de6b2_row5_col4, #T_de6b2_row5_col5, #T_de6b2_row5_col6, #T_de6b2_row5_col7, #T_de6b2_row5_col8, #T_de6b2_row5_col9, #T_de6b2_row5_col15, #T_de6b2_row5_col21, #T_de6b2_row5_col22, #T_de6b2_row5_col23, #T_de6b2_row5_col24, #T_de6b2_row5_col25, #T_de6b2_row5_col26, #T_de6b2_row5_col27, #T_de6b2_row6_col0, #T_de6b2_row6_col1, #T_de6b2_row6_col2, #T_de6b2_row6_col3, #T_de6b2_row6_col4, #T_de6b2_row6_col5, #T_de6b2_row6_col6, #T_de6b2_row6_col7, #T_de6b2_row6_col8, #T_de6b2_row6_col9, #T_de6b2_row6_col14, #T_de6b2_row6_col15, #T_de6b2_row6_col16, #T_de6b2_row6_col21, #T_de6b2_row6_col22, #T_de6b2_row6_col23, #T_de6b2_row6_col24, #T_de6b2_row6_col25, #T_de6b2_row6_col26, #T_de6b2_row6_col27, #T_de6b2_row7_col0, #T_de6b2_row7_col1, #T_de6b2_row7_col2, #T_de6b2_row7_col3, #T_de6b2_row7_col4, #T_de6b2_row7_col5, #T_de6b2_row7_col6, #T_de6b2_row7_col7, #T_de6b2_row7_col8, #T_de6b2_row7_col9, #T_de6b2_row7_col10, #T_de6b2_row7_col13, #T_de6b2_row7_col14, #T_de6b2_row7_col15, #T_de6b2_row7_col16, #T_de6b2_row7_col17, #T_de6b2_row7_col21, #T_de6b2_row7_col22, #T_de6b2_row7_col23, #T_de6b2_row7_col24, #T_de6b2_row7_col25, #T_de6b2_row7_col26, #T_de6b2_row7_col27, #T_de6b2_row8_col0, #T_de6b2_row8_col1, #T_de6b2_row8_col2, #T_de6b2_row8_col3, #T_de6b2_row8_col4, #T_de6b2_row8_col5, #T_de6b2_row8_col6, #T_de6b2_row8_col7, #T_de6b2_row8_col8, #T_de6b2_row8_col9, #T_de6b2_row8_col10, #T_de6b2_row8_col11, #T_de6b2_row8_col12, #T_de6b2_row8_col13, #T_de6b2_row8_col14, #T_de6b2_row8_col15, #T_de6b2_row8_col16, #T_de6b2_row8_col21, #T_de6b2_row8_col22, #T_de6b2_row8_col23, #T_de6b2_row8_col24, #T_de6b2_row8_col25, #T_de6b2_row8_col26, #T_de6b2_row8_col27, #T_de6b2_row9_col0, #T_de6b2_row9_col1, #T_de6b2_row9_col2, #T_de6b2_row9_col3, #T_de6b2_row9_col4, #T_de6b2_row9_col5, #T_de6b2_row9_col6, #T_de6b2_row9_col7, #T_de6b2_row9_col8, #T_de6b2_row9_col9, #T_de6b2_row9_col10, #T_de6b2_row9_col11, #T_de6b2_row9_col12, #T_de6b2_row9_col13, #T_de6b2_row9_col14, #T_de6b2_row9_col15, #T_de6b2_row9_col16, #T_de6b2_row9_col21, #T_de6b2_row9_col22, #T_de6b2_row9_col23, #T_de6b2_row9_col24, #T_de6b2_row9_col25, #T_de6b2_row9_col26, #T_de6b2_row9_col27, #T_de6b2_row10_col0, #T_de6b2_row10_col1, #T_de6b2_row10_col2, #T_de6b2_row10_col3, #T_de6b2_row10_col4, #T_de6b2_row10_col5, #T_de6b2_row10_col6, #T_de6b2_row10_col7, #T_de6b2_row10_col8, #T_de6b2_row10_col9, #T_de6b2_row10_col10, #T_de6b2_row10_col11, #T_de6b2_row10_col12, #T_de6b2_row10_col13, #T_de6b2_row10_col14, #T_de6b2_row10_col15, #T_de6b2_row10_col20, #T_de6b2_row10_col21, #T_de6b2_row10_col22, #T_de6b2_row10_col23, #T_de6b2_row10_col24, #T_de6b2_row10_col25, #T_de6b2_row10_col26, #T_de6b2_row10_col27, #T_de6b2_row11_col0, #T_de6b2_row11_col1, #T_de6b2_row11_col2, #T_de6b2_row11_col3, #T_de6b2_row11_col4, #T_de6b2_row11_col5, #T_de6b2_row11_col6, #T_de6b2_row11_col7, #T_de6b2_row11_col8, #T_de6b2_row11_col9, #T_de6b2_row11_col10, #T_de6b2_row11_col11, #T_de6b2_row11_col12, #T_de6b2_row11_col13, #T_de6b2_row11_col14, #T_de6b2_row11_col20, #T_de6b2_row11_col21, #T_de6b2_row11_col22, #T_de6b2_row11_col23, #T_de6b2_row11_col24, #T_de6b2_row11_col25, #T_de6b2_row11_col26, #T_de6b2_row11_col27, #T_de6b2_row12_col0, #T_de6b2_row12_col1, #T_de6b2_row12_col2, #T_de6b2_row12_col3, #T_de6b2_row12_col4, #T_de6b2_row12_col5, #T_de6b2_row12_col6, #T_de6b2_row12_col7, #T_de6b2_row12_col8, #T_de6b2_row12_col9, #T_de6b2_row12_col10, #T_de6b2_row12_col11, #T_de6b2_row12_col19, #T_de6b2_row12_col20, #T_de6b2_row12_col21, #T_de6b2_row12_col22, #T_de6b2_row12_col23, #T_de6b2_row12_col24, #T_de6b2_row12_col25, #T_de6b2_row12_col26, #T_de6b2_row12_col27, #T_de6b2_row13_col0, #T_de6b2_row13_col1, #T_de6b2_row13_col2, #T_de6b2_row13_col3, #T_de6b2_row13_col4, #T_de6b2_row13_col5, #T_de6b2_row13_col6, #T_de6b2_row13_col7, #T_de6b2_row13_col8, #T_de6b2_row13_col9, #T_de6b2_row13_col18, #T_de6b2_row13_col19, #T_de6b2_row13_col20, #T_de6b2_row13_col21, #T_de6b2_row13_col22, #T_de6b2_row13_col23, #T_de6b2_row13_col24, #T_de6b2_row13_col25, #T_de6b2_row13_col26, #T_de6b2_row13_col27, #T_de6b2_row14_col0, #T_de6b2_row14_col1, #T_de6b2_row14_col2, #T_de6b2_row14_col3, #T_de6b2_row14_col4, #T_de6b2_row14_col5, #T_de6b2_row14_col6, #T_de6b2_row14_col7, #T_de6b2_row14_col8, #T_de6b2_row14_col9, #T_de6b2_row14_col19, #T_de6b2_row14_col20, #T_de6b2_row14_col21, #T_de6b2_row14_col22, #T_de6b2_row14_col23, #T_de6b2_row14_col24, #T_de6b2_row14_col25, #T_de6b2_row14_col26, #T_de6b2_row14_col27, #T_de6b2_row15_col0, #T_de6b2_row15_col1, #T_de6b2_row15_col2, #T_de6b2_row15_col3, #T_de6b2_row15_col4, #T_de6b2_row15_col5, #T_de6b2_row15_col6, #T_de6b2_row15_col7, #T_de6b2_row15_col8, #T_de6b2_row15_col9, #T_de6b2_row15_col19, #T_de6b2_row15_col20, #T_de6b2_row15_col21, #T_de6b2_row15_col22, #T_de6b2_row15_col23, #T_de6b2_row15_col24, #T_de6b2_row15_col25, #T_de6b2_row15_col26, #T_de6b2_row15_col27, #T_de6b2_row16_col0, #T_de6b2_row16_col1, #T_de6b2_row16_col2, #T_de6b2_row16_col3, #T_de6b2_row16_col6, #T_de6b2_row16_col7, #T_de6b2_row16_col8, #T_de6b2_row16_col9, #T_de6b2_row16_col10, #T_de6b2_row16_col11, #T_de6b2_row16_col12, #T_de6b2_row16_col13, #T_de6b2_row16_col14, #T_de6b2_row16_col15, #T_de6b2_row16_col19, #T_de6b2_row16_col20, #T_de6b2_row16_col21, #T_de6b2_row16_col22, #T_de6b2_row16_col23, #T_de6b2_row16_col24, #T_de6b2_row16_col25, #T_de6b2_row16_col26, #T_de6b2_row16_col27, #T_de6b2_row17_col0, #T_de6b2_row17_col1, #T_de6b2_row17_col2, #T_de6b2_row17_col6, #T_de6b2_row17_col7, #T_de6b2_row17_col8, #T_de6b2_row17_col9, #T_de6b2_row17_col10, #T_de6b2_row17_col11, #T_de6b2_row17_col12, #T_de6b2_row17_col13, #T_de6b2_row17_col14, #T_de6b2_row17_col19, #T_de6b2_row17_col20, #T_de6b2_row17_col21, #T_de6b2_row17_col22, #T_de6b2_row17_col23, #T_de6b2_row17_col24, #T_de6b2_row17_col25, #T_de6b2_row17_col26, #T_de6b2_row17_col27, #T_de6b2_row18_col0, #T_de6b2_row18_col1, #T_de6b2_row18_col2, #T_de6b2_row18_col7, #T_de6b2_row18_col8, #T_de6b2_row18_col9, #T_de6b2_row18_col10, #T_de6b2_row18_col11, #T_de6b2_row18_col12, #T_de6b2_row18_col13, #T_de6b2_row18_col14, #T_de6b2_row18_col19, #T_de6b2_row18_col20, #T_de6b2_row18_col21, #T_de6b2_row18_col22, #T_de6b2_row18_col23, #T_de6b2_row18_col24, #T_de6b2_row18_col25, #T_de6b2_row18_col26, #T_de6b2_row18_col27, #T_de6b2_row19_col0, #T_de6b2_row19_col1, #T_de6b2_row19_col2, #T_de6b2_row19_col9, #T_de6b2_row19_col10, #T_de6b2_row19_col11, #T_de6b2_row19_col12, #T_de6b2_row19_col19, #T_de6b2_row19_col20, #T_de6b2_row19_col21, #T_de6b2_row19_col22, #T_de6b2_row19_col23, #T_de6b2_row19_col24, #T_de6b2_row19_col25, #T_de6b2_row19_col26, #T_de6b2_row19_col27, #T_de6b2_row20_col0, #T_de6b2_row20_col1, #T_de6b2_row20_col2, #T_de6b2_row20_col3, #T_de6b2_row20_col18, #T_de6b2_row20_col19, #T_de6b2_row20_col20, #T_de6b2_row20_col21, #T_de6b2_row20_col22, #T_de6b2_row20_col23, #T_de6b2_row20_col24, #T_de6b2_row20_col25, #T_de6b2_row20_col26, #T_de6b2_row20_col27, #T_de6b2_row21_col0, #T_de6b2_row21_col1, #T_de6b2_row21_col2, #T_de6b2_row21_col3, #T_de6b2_row21_col4, #T_de6b2_row21_col17, #T_de6b2_row21_col18, #T_de6b2_row21_col19, #T_de6b2_row21_col20, #T_de6b2_row21_col21, #T_de6b2_row21_col22, #T_de6b2_row21_col23, #T_de6b2_row21_col24, #T_de6b2_row21_col25, #T_de6b2_row21_col26, #T_de6b2_row21_col27, #T_de6b2_row22_col0, #T_de6b2_row22_col1, #T_de6b2_row22_col2, #T_de6b2_row22_col3, #T_de6b2_row22_col4, #T_de6b2_row22_col5, #T_de6b2_row22_col16, #T_de6b2_row22_col17, #T_de6b2_row22_col18, #T_de6b2_row22_col19, #T_de6b2_row22_col20, #T_de6b2_row22_col21, #T_de6b2_row22_col22, #T_de6b2_row22_col23, #T_de6b2_row22_col24, #T_de6b2_row22_col25, #T_de6b2_row22_col26, #T_de6b2_row22_col27, #T_de6b2_row23_col0, #T_de6b2_row23_col1, #T_de6b2_row23_col2, #T_de6b2_row23_col3, #T_de6b2_row23_col4, #T_de6b2_row23_col5, #T_de6b2_row23_col6, #T_de6b2_row23_col7, #T_de6b2_row23_col8, #T_de6b2_row23_col9, #T_de6b2_row23_col10, #T_de6b2_row23_col11, #T_de6b2_row23_col12, #T_de6b2_row23_col13, #T_de6b2_row23_col14, #T_de6b2_row23_col15, #T_de6b2_row23_col16, #T_de6b2_row23_col17, #T_de6b2_row23_col18, #T_de6b2_row23_col19, #T_de6b2_row23_col20, #T_de6b2_row23_col21, #T_de6b2_row23_col22, #T_de6b2_row23_col23, #T_de6b2_row23_col24, #T_de6b2_row23_col25, #T_de6b2_row23_col26, #T_de6b2_row23_col27, #T_de6b2_row24_col0, #T_de6b2_row24_col1, #T_de6b2_row24_col2, #T_de6b2_row24_col3, #T_de6b2_row24_col4, #T_de6b2_row24_col5, #T_de6b2_row24_col6, #T_de6b2_row24_col7, #T_de6b2_row24_col8, #T_de6b2_row24_col9, #T_de6b2_row24_col10, #T_de6b2_row24_col11, #T_de6b2_row24_col12, #T_de6b2_row24_col13, #T_de6b2_row24_col14, #T_de6b2_row24_col15, #T_de6b2_row24_col16, #T_de6b2_row24_col17, #T_de6b2_row24_col18, #T_de6b2_row24_col19, #T_de6b2_row24_col20, #T_de6b2_row24_col21, #T_de6b2_row24_col22, #T_de6b2_row24_col23, #T_de6b2_row24_col24, #T_de6b2_row24_col25, #T_de6b2_row24_col26, #T_de6b2_row24_col27, #T_de6b2_row25_col0, #T_de6b2_row25_col1, #T_de6b2_row25_col2, #T_de6b2_row25_col3, #T_de6b2_row25_col4, #T_de6b2_row25_col5, #T_de6b2_row25_col6, #T_de6b2_row25_col7, #T_de6b2_row25_col8, #T_de6b2_row25_col9, #T_de6b2_row25_col10, #T_de6b2_row25_col11, #T_de6b2_row25_col12, #T_de6b2_row25_col13, #T_de6b2_row25_col14, #T_de6b2_row25_col15, #T_de6b2_row25_col16, #T_de6b2_row25_col17, #T_de6b2_row25_col18, #T_de6b2_row25_col19, #T_de6b2_row25_col20, #T_de6b2_row25_col21, #T_de6b2_row25_col22, #T_de6b2_row25_col23, #T_de6b2_row25_col24, #T_de6b2_row25_col25, #T_de6b2_row25_col26, #T_de6b2_row25_col27, #T_de6b2_row26_col0, #T_de6b2_row26_col1, #T_de6b2_row26_col2, #T_de6b2_row26_col3, #T_de6b2_row26_col4, #T_de6b2_row26_col5, #T_de6b2_row26_col6, #T_de6b2_row26_col7, #T_de6b2_row26_col8, #T_de6b2_row26_col9, #T_de6b2_row26_col10, #T_de6b2_row26_col11, #T_de6b2_row26_col12, #T_de6b2_row26_col13, #T_de6b2_row26_col14, #T_de6b2_row26_col15, #T_de6b2_row26_col16, #T_de6b2_row26_col17, #T_de6b2_row26_col18, #T_de6b2_row26_col19, #T_de6b2_row26_col20, #T_de6b2_row26_col21, #T_de6b2_row26_col22, #T_de6b2_row26_col23, #T_de6b2_row26_col24, #T_de6b2_row26_col25, #T_de6b2_row26_col26, #T_de6b2_row26_col27, #T_de6b2_row27_col0, #T_de6b2_row27_col1, #T_de6b2_row27_col2, #T_de6b2_row27_col3, #T_de6b2_row27_col4, #T_de6b2_row27_col5, #T_de6b2_row27_col6, #T_de6b2_row27_col7, #T_de6b2_row27_col8, #T_de6b2_row27_col9, #T_de6b2_row27_col10, #T_de6b2_row27_col11, #T_de6b2_row27_col12, #T_de6b2_row27_col13, #T_de6b2_row27_col14, #T_de6b2_row27_col15, #T_de6b2_row27_col16, #T_de6b2_row27_col17, #T_de6b2_row27_col18, #T_de6b2_row27_col19, #T_de6b2_row27_col20, #T_de6b2_row27_col21, #T_de6b2_row27_col22, #T_de6b2_row27_col23, #T_de6b2_row27_col24, #T_de6b2_row27_col25, #T_de6b2_row27_col26, #T_de6b2_row27_col27 {\n",
       "  font-size: 6pt;\n",
       "  background-color: #ffffff;\n",
       "  color: #000000;\n",
       "}\n",
       "#T_de6b2_row3_col12, #T_de6b2_row12_col18 {\n",
       "  font-size: 6pt;\n",
       "  background-color: #fafafa;\n",
       "  color: #000000;\n",
       "}\n",
       "#T_de6b2_row3_col13 {\n",
       "  font-size: 6pt;\n",
       "  background-color: #929292;\n",
       "  color: #f1f1f1;\n",
       "}\n",
       "#T_de6b2_row3_col14 {\n",
       "  font-size: 6pt;\n",
       "  background-color: #232323;\n",
       "  color: #f1f1f1;\n",
       "}\n",
       "#T_de6b2_row3_col15, #T_de6b2_row3_col16, #T_de6b2_row4_col13, #T_de6b2_row4_col17, #T_de6b2_row4_col18, #T_de6b2_row5_col11, #T_de6b2_row5_col12, #T_de6b2_row5_col18, #T_de6b2_row6_col19, #T_de6b2_row6_col20, #T_de6b2_row7_col19, #T_de6b2_row7_col20, #T_de6b2_row8_col19, #T_de6b2_row8_col20, #T_de6b2_row9_col18, #T_de6b2_row10_col18, #T_de6b2_row11_col17, #T_de6b2_row12_col16, #T_de6b2_row13_col13, #T_de6b2_row13_col14, #T_de6b2_row13_col16, #T_de6b2_row14_col11, #T_de6b2_row14_col12, #T_de6b2_row14_col13, #T_de6b2_row14_col16, #T_de6b2_row15_col17, #T_de6b2_row16_col17, #T_de6b2_row17_col17, #T_de6b2_row18_col3, #T_de6b2_row18_col4, #T_de6b2_row18_col16, #T_de6b2_row18_col17, #T_de6b2_row19_col5, #T_de6b2_row19_col16, #T_de6b2_row20_col6, #T_de6b2_row20_col7, #T_de6b2_row20_col14, #T_de6b2_row21_col7, #T_de6b2_row21_col8, #T_de6b2_row21_col9, #T_de6b2_row21_col10, #T_de6b2_row21_col11, #T_de6b2_row21_col12, #T_de6b2_row21_col13, #T_de6b2_row21_col14 {\n",
       "  font-size: 6pt;\n",
       "  background-color: #000000;\n",
       "  color: #f1f1f1;\n",
       "}\n",
       "#T_de6b2_row3_col17 {\n",
       "  font-size: 6pt;\n",
       "  background-color: #0c0c0c;\n",
       "  color: #f1f1f1;\n",
       "}\n",
       "#T_de6b2_row3_col18 {\n",
       "  font-size: 6pt;\n",
       "  background-color: #bebebe;\n",
       "  color: #000000;\n",
       "}\n",
       "#T_de6b2_row3_col19, #T_de6b2_row4_col10, #T_de6b2_row22_col6 {\n",
       "  font-size: 6pt;\n",
       "  background-color: #fefefe;\n",
       "  color: #000000;\n",
       "}\n",
       "#T_de6b2_row4_col11 {\n",
       "  font-size: 6pt;\n",
       "  background-color: #949494;\n",
       "  color: #f1f1f1;\n",
       "}\n",
       "#T_de6b2_row4_col12 {\n",
       "  font-size: 6pt;\n",
       "  background-color: #0d0d0d;\n",
       "  color: #f1f1f1;\n",
       "}\n",
       "#T_de6b2_row4_col14 {\n",
       "  font-size: 6pt;\n",
       "  background-color: #111111;\n",
       "  color: #f1f1f1;\n",
       "}\n",
       "#T_de6b2_row4_col15 {\n",
       "  font-size: 6pt;\n",
       "  background-color: #1e1e1e;\n",
       "  color: #f1f1f1;\n",
       "}\n",
       "#T_de6b2_row4_col16 {\n",
       "  font-size: 6pt;\n",
       "  background-color: #1b1b1b;\n",
       "  color: #f1f1f1;\n",
       "}\n",
       "#T_de6b2_row4_col19 {\n",
       "  font-size: 6pt;\n",
       "  background-color: #b4b4b4;\n",
       "  color: #000000;\n",
       "}\n",
       "#T_de6b2_row5_col10 {\n",
       "  font-size: 6pt;\n",
       "  background-color: #c0c0c0;\n",
       "  color: #000000;\n",
       "}\n",
       "#T_de6b2_row5_col13, #T_de6b2_row6_col11, #T_de6b2_row19_col4 {\n",
       "  font-size: 6pt;\n",
       "  background-color: #333333;\n",
       "  color: #f1f1f1;\n",
       "}\n",
       "#T_de6b2_row5_col14 {\n",
       "  font-size: 6pt;\n",
       "  background-color: #e1e1e1;\n",
       "  color: #000000;\n",
       "}\n",
       "#T_de6b2_row5_col16, #T_de6b2_row7_col12, #T_de6b2_row17_col15, #T_de6b2_row18_col6, #T_de6b2_row22_col15 {\n",
       "  font-size: 6pt;\n",
       "  background-color: #fdfdfd;\n",
       "  color: #000000;\n",
       "}\n",
       "#T_de6b2_row5_col17 {\n",
       "  font-size: 6pt;\n",
       "  background-color: #afafaf;\n",
       "  color: #000000;\n",
       "}\n",
       "#T_de6b2_row5_col19 {\n",
       "  font-size: 6pt;\n",
       "  background-color: #242424;\n",
       "  color: #f1f1f1;\n",
       "}\n",
       "#T_de6b2_row5_col20 {\n",
       "  font-size: 6pt;\n",
       "  background-color: #a3a3a3;\n",
       "  color: #f1f1f1;\n",
       "}\n",
       "#T_de6b2_row6_col10, #T_de6b2_row14_col18 {\n",
       "  font-size: 6pt;\n",
       "  background-color: #f2f2f2;\n",
       "  color: #000000;\n",
       "}\n",
       "#T_de6b2_row6_col12 {\n",
       "  font-size: 6pt;\n",
       "  background-color: #4a4a4a;\n",
       "  color: #f1f1f1;\n",
       "}\n",
       "#T_de6b2_row6_col13, #T_de6b2_row8_col17 {\n",
       "  font-size: 6pt;\n",
       "  background-color: #e0e0e0;\n",
       "  color: #000000;\n",
       "}\n",
       "#T_de6b2_row6_col17, #T_de6b2_row7_col11, #T_de6b2_row16_col4 {\n",
       "  font-size: 6pt;\n",
       "  background-color: #f7f7f7;\n",
       "  color: #000000;\n",
       "}\n",
       "#T_de6b2_row6_col18 {\n",
       "  font-size: 6pt;\n",
       "  background-color: #1d1d1d;\n",
       "  color: #f1f1f1;\n",
       "}\n",
       "#T_de6b2_row7_col18 {\n",
       "  font-size: 6pt;\n",
       "  background-color: #3c3c3c;\n",
       "  color: #f1f1f1;\n",
       "}\n",
       "#T_de6b2_row8_col18 {\n",
       "  font-size: 6pt;\n",
       "  background-color: #050505;\n",
       "  color: #f1f1f1;\n",
       "}\n",
       "#T_de6b2_row9_col17, #T_de6b2_row12_col14, #T_de6b2_row18_col5 {\n",
       "  font-size: 6pt;\n",
       "  background-color: #6b6b6b;\n",
       "  color: #f1f1f1;\n",
       "}\n",
       "#T_de6b2_row9_col19 {\n",
       "  font-size: 6pt;\n",
       "  background-color: #2f2f2f;\n",
       "  color: #f1f1f1;\n",
       "}\n",
       "#T_de6b2_row9_col20 {\n",
       "  font-size: 6pt;\n",
       "  background-color: #bdbdbd;\n",
       "  color: #000000;\n",
       "}\n",
       "#T_de6b2_row10_col16 {\n",
       "  font-size: 6pt;\n",
       "  background-color: #e2e2e2;\n",
       "  color: #000000;\n",
       "}\n",
       "#T_de6b2_row10_col17, #T_de6b2_row11_col16, #T_de6b2_row12_col15 {\n",
       "  font-size: 6pt;\n",
       "  background-color: #151515;\n",
       "  color: #f1f1f1;\n",
       "}\n",
       "#T_de6b2_row10_col19 {\n",
       "  font-size: 6pt;\n",
       "  background-color: #dcdcdc;\n",
       "  color: #000000;\n",
       "}\n",
       "#T_de6b2_row11_col15 {\n",
       "  font-size: 6pt;\n",
       "  background-color: #cecece;\n",
       "  color: #000000;\n",
       "}\n",
       "#T_de6b2_row11_col18, #T_de6b2_row15_col12 {\n",
       "  font-size: 6pt;\n",
       "  background-color: #606060;\n",
       "  color: #f1f1f1;\n",
       "}\n",
       "#T_de6b2_row11_col19, #T_de6b2_row15_col15 {\n",
       "  font-size: 6pt;\n",
       "  background-color: #fbfbfb;\n",
       "  color: #000000;\n",
       "}\n",
       "#T_de6b2_row12_col12 {\n",
       "  font-size: 6pt;\n",
       "  background-color: #f5f5f5;\n",
       "  color: #000000;\n",
       "}\n",
       "#T_de6b2_row12_col13, #T_de6b2_row15_col10, #T_de6b2_row15_col14, #T_de6b2_row16_col5 {\n",
       "  font-size: 6pt;\n",
       "  background-color: #e9e9e9;\n",
       "  color: #000000;\n",
       "}\n",
       "#T_de6b2_row12_col17 {\n",
       "  font-size: 6pt;\n",
       "  background-color: #616161;\n",
       "  color: #f1f1f1;\n",
       "}\n",
       "#T_de6b2_row13_col10 {\n",
       "  font-size: 6pt;\n",
       "  background-color: #fcfcfc;\n",
       "  color: #000000;\n",
       "}\n",
       "#T_de6b2_row13_col11 {\n",
       "  font-size: 6pt;\n",
       "  background-color: #777777;\n",
       "  color: #f1f1f1;\n",
       "}\n",
       "#T_de6b2_row13_col12 {\n",
       "  font-size: 6pt;\n",
       "  background-color: #161616;\n",
       "  color: #f1f1f1;\n",
       "}\n",
       "#T_de6b2_row13_col15, #T_de6b2_row20_col15 {\n",
       "  font-size: 6pt;\n",
       "  background-color: #010101;\n",
       "  color: #f1f1f1;\n",
       "}\n",
       "#T_de6b2_row13_col17 {\n",
       "  font-size: 6pt;\n",
       "  background-color: #9f9f9f;\n",
       "  color: #f1f1f1;\n",
       "}\n",
       "#T_de6b2_row14_col10 {\n",
       "  font-size: 6pt;\n",
       "  background-color: #b6b6b6;\n",
       "  color: #000000;\n",
       "}\n",
       "#T_de6b2_row14_col14 {\n",
       "  font-size: 6pt;\n",
       "  background-color: #171717;\n",
       "  color: #f1f1f1;\n",
       "}\n",
       "#T_de6b2_row14_col15 {\n",
       "  font-size: 6pt;\n",
       "  background-color: #353535;\n",
       "  color: #f1f1f1;\n",
       "}\n",
       "#T_de6b2_row14_col17 {\n",
       "  font-size: 6pt;\n",
       "  background-color: #101010;\n",
       "  color: #f1f1f1;\n",
       "}\n",
       "#T_de6b2_row15_col11 {\n",
       "  font-size: 6pt;\n",
       "  background-color: #717171;\n",
       "  color: #f1f1f1;\n",
       "}\n",
       "#T_de6b2_row15_col13 {\n",
       "  font-size: 6pt;\n",
       "  background-color: #767676;\n",
       "  color: #f1f1f1;\n",
       "}\n",
       "#T_de6b2_row15_col16, #T_de6b2_row16_col18, #T_de6b2_row17_col18 {\n",
       "  font-size: 6pt;\n",
       "  background-color: #383838;\n",
       "  color: #f1f1f1;\n",
       "}\n",
       "#T_de6b2_row15_col18 {\n",
       "  font-size: 6pt;\n",
       "  background-color: #9c9c9c;\n",
       "  color: #f1f1f1;\n",
       "}\n",
       "#T_de6b2_row16_col16 {\n",
       "  font-size: 6pt;\n",
       "  background-color: #5b5b5b;\n",
       "  color: #f1f1f1;\n",
       "}\n",
       "#T_de6b2_row17_col3, #T_de6b2_row17_col5 {\n",
       "  font-size: 6pt;\n",
       "  background-color: #b5b5b5;\n",
       "  color: #000000;\n",
       "}\n",
       "#T_de6b2_row17_col4 {\n",
       "  font-size: 6pt;\n",
       "  background-color: #484848;\n",
       "  color: #f1f1f1;\n",
       "}\n",
       "#T_de6b2_row17_col16 {\n",
       "  font-size: 6pt;\n",
       "  background-color: #363636;\n",
       "  color: #f1f1f1;\n",
       "}\n",
       "#T_de6b2_row18_col15 {\n",
       "  font-size: 6pt;\n",
       "  background-color: #868686;\n",
       "  color: #f1f1f1;\n",
       "}\n",
       "#T_de6b2_row18_col18, #T_de6b2_row20_col10, #T_de6b2_row20_col11 {\n",
       "  font-size: 6pt;\n",
       "  background-color: #8a8a8a;\n",
       "  color: #f1f1f1;\n",
       "}\n",
       "#T_de6b2_row19_col3 {\n",
       "  font-size: 6pt;\n",
       "  background-color: #909090;\n",
       "  color: #f1f1f1;\n",
       "}\n",
       "#T_de6b2_row19_col6 {\n",
       "  font-size: 6pt;\n",
       "  background-color: #4e4e4e;\n",
       "  color: #f1f1f1;\n",
       "}\n",
       "#T_de6b2_row19_col7 {\n",
       "  font-size: 6pt;\n",
       "  background-color: #cdcdcd;\n",
       "  color: #000000;\n",
       "}\n",
       "#T_de6b2_row19_col8, #T_de6b2_row20_col4 {\n",
       "  font-size: 6pt;\n",
       "  background-color: #f1f1f1;\n",
       "  color: #000000;\n",
       "}\n",
       "#T_de6b2_row19_col13 {\n",
       "  font-size: 6pt;\n",
       "  background-color: #f3f3f3;\n",
       "  color: #000000;\n",
       "}\n",
       "#T_de6b2_row19_col14 {\n",
       "  font-size: 6pt;\n",
       "  background-color: #676767;\n",
       "  color: #f1f1f1;\n",
       "}\n",
       "#T_de6b2_row19_col15 {\n",
       "  font-size: 6pt;\n",
       "  background-color: #020202;\n",
       "  color: #f1f1f1;\n",
       "}\n",
       "#T_de6b2_row19_col17 {\n",
       "  font-size: 6pt;\n",
       "  background-color: #070707;\n",
       "  color: #f1f1f1;\n",
       "}\n",
       "#T_de6b2_row19_col18 {\n",
       "  font-size: 6pt;\n",
       "  background-color: #eaeaea;\n",
       "  color: #000000;\n",
       "}\n",
       "#T_de6b2_row20_col5 {\n",
       "  font-size: 6pt;\n",
       "  background-color: #4d4d4d;\n",
       "  color: #f1f1f1;\n",
       "}\n",
       "#T_de6b2_row20_col8 {\n",
       "  font-size: 6pt;\n",
       "  background-color: #0e0e0e;\n",
       "  color: #f1f1f1;\n",
       "}\n",
       "#T_de6b2_row20_col9 {\n",
       "  font-size: 6pt;\n",
       "  background-color: #323232;\n",
       "  color: #f1f1f1;\n",
       "}\n",
       "#T_de6b2_row20_col12 {\n",
       "  font-size: 6pt;\n",
       "  background-color: #3d3d3d;\n",
       "  color: #f1f1f1;\n",
       "}\n",
       "#T_de6b2_row20_col13 {\n",
       "  font-size: 6pt;\n",
       "  background-color: #131313;\n",
       "  color: #f1f1f1;\n",
       "}\n",
       "#T_de6b2_row20_col16 {\n",
       "  font-size: 6pt;\n",
       "  background-color: #060606;\n",
       "  color: #f1f1f1;\n",
       "}\n",
       "#T_de6b2_row20_col17 {\n",
       "  font-size: 6pt;\n",
       "  background-color: #d4d4d4;\n",
       "  color: #000000;\n",
       "}\n",
       "#T_de6b2_row21_col5 {\n",
       "  font-size: 6pt;\n",
       "  background-color: #f6f6f6;\n",
       "  color: #000000;\n",
       "}\n",
       "#T_de6b2_row21_col6 {\n",
       "  font-size: 6pt;\n",
       "  background-color: #6c6c6c;\n",
       "  color: #f1f1f1;\n",
       "}\n",
       "#T_de6b2_row21_col15 {\n",
       "  font-size: 6pt;\n",
       "  background-color: #3f3f3f;\n",
       "  color: #f1f1f1;\n",
       "}\n",
       "#T_de6b2_row21_col16 {\n",
       "  font-size: 6pt;\n",
       "  background-color: #e7e7e7;\n",
       "  color: #000000;\n",
       "}\n",
       "#T_de6b2_row22_col7 {\n",
       "  font-size: 6pt;\n",
       "  background-color: #f9f9f9;\n",
       "  color: #000000;\n",
       "}\n",
       "#T_de6b2_row22_col8 {\n",
       "  font-size: 6pt;\n",
       "  background-color: #d8d8d8;\n",
       "  color: #000000;\n",
       "}\n",
       "#T_de6b2_row22_col9 {\n",
       "  font-size: 6pt;\n",
       "  background-color: #7d7d7d;\n",
       "  color: #f1f1f1;\n",
       "}\n",
       "#T_de6b2_row22_col10, #T_de6b2_row22_col13 {\n",
       "  font-size: 6pt;\n",
       "  background-color: #646464;\n",
       "  color: #f1f1f1;\n",
       "}\n",
       "#T_de6b2_row22_col11 {\n",
       "  font-size: 6pt;\n",
       "  background-color: #141414;\n",
       "  color: #f1f1f1;\n",
       "}\n",
       "#T_de6b2_row22_col12 {\n",
       "  font-size: 6pt;\n",
       "  background-color: #575757;\n",
       "  color: #f1f1f1;\n",
       "}\n",
       "#T_de6b2_row22_col14 {\n",
       "  font-size: 6pt;\n",
       "  background-color: #d1d1d1;\n",
       "  color: #000000;\n",
       "}\n",
       "</style>\n",
       "<table id=\"T_de6b2\">\n",
       "  <thead>\n",
       "    <tr>\n",
       "      <th class=\"blank level0\" >&nbsp;</th>\n",
       "      <th id=\"T_de6b2_level0_col0\" class=\"col_heading level0 col0\" >0</th>\n",
       "      <th id=\"T_de6b2_level0_col1\" class=\"col_heading level0 col1\" >1</th>\n",
       "      <th id=\"T_de6b2_level0_col2\" class=\"col_heading level0 col2\" >2</th>\n",
       "      <th id=\"T_de6b2_level0_col3\" class=\"col_heading level0 col3\" >3</th>\n",
       "      <th id=\"T_de6b2_level0_col4\" class=\"col_heading level0 col4\" >4</th>\n",
       "      <th id=\"T_de6b2_level0_col5\" class=\"col_heading level0 col5\" >5</th>\n",
       "      <th id=\"T_de6b2_level0_col6\" class=\"col_heading level0 col6\" >6</th>\n",
       "      <th id=\"T_de6b2_level0_col7\" class=\"col_heading level0 col7\" >7</th>\n",
       "      <th id=\"T_de6b2_level0_col8\" class=\"col_heading level0 col8\" >8</th>\n",
       "      <th id=\"T_de6b2_level0_col9\" class=\"col_heading level0 col9\" >9</th>\n",
       "      <th id=\"T_de6b2_level0_col10\" class=\"col_heading level0 col10\" >10</th>\n",
       "      <th id=\"T_de6b2_level0_col11\" class=\"col_heading level0 col11\" >11</th>\n",
       "      <th id=\"T_de6b2_level0_col12\" class=\"col_heading level0 col12\" >12</th>\n",
       "      <th id=\"T_de6b2_level0_col13\" class=\"col_heading level0 col13\" >13</th>\n",
       "      <th id=\"T_de6b2_level0_col14\" class=\"col_heading level0 col14\" >14</th>\n",
       "      <th id=\"T_de6b2_level0_col15\" class=\"col_heading level0 col15\" >15</th>\n",
       "      <th id=\"T_de6b2_level0_col16\" class=\"col_heading level0 col16\" >16</th>\n",
       "      <th id=\"T_de6b2_level0_col17\" class=\"col_heading level0 col17\" >17</th>\n",
       "      <th id=\"T_de6b2_level0_col18\" class=\"col_heading level0 col18\" >18</th>\n",
       "      <th id=\"T_de6b2_level0_col19\" class=\"col_heading level0 col19\" >19</th>\n",
       "      <th id=\"T_de6b2_level0_col20\" class=\"col_heading level0 col20\" >20</th>\n",
       "      <th id=\"T_de6b2_level0_col21\" class=\"col_heading level0 col21\" >21</th>\n",
       "      <th id=\"T_de6b2_level0_col22\" class=\"col_heading level0 col22\" >22</th>\n",
       "      <th id=\"T_de6b2_level0_col23\" class=\"col_heading level0 col23\" >23</th>\n",
       "      <th id=\"T_de6b2_level0_col24\" class=\"col_heading level0 col24\" >24</th>\n",
       "      <th id=\"T_de6b2_level0_col25\" class=\"col_heading level0 col25\" >25</th>\n",
       "      <th id=\"T_de6b2_level0_col26\" class=\"col_heading level0 col26\" >26</th>\n",
       "      <th id=\"T_de6b2_level0_col27\" class=\"col_heading level0 col27\" >27</th>\n",
       "    </tr>\n",
       "  </thead>\n",
       "  <tbody>\n",
       "    <tr>\n",
       "      <th id=\"T_de6b2_level0_row0\" class=\"row_heading level0 row0\" >0</th>\n",
       "      <td id=\"T_de6b2_row0_col0\" class=\"data row0 col0\" >0</td>\n",
       "      <td id=\"T_de6b2_row0_col1\" class=\"data row0 col1\" >0</td>\n",
       "      <td id=\"T_de6b2_row0_col2\" class=\"data row0 col2\" >0</td>\n",
       "      <td id=\"T_de6b2_row0_col3\" class=\"data row0 col3\" >0</td>\n",
       "      <td id=\"T_de6b2_row0_col4\" class=\"data row0 col4\" >0</td>\n",
       "      <td id=\"T_de6b2_row0_col5\" class=\"data row0 col5\" >0</td>\n",
       "      <td id=\"T_de6b2_row0_col6\" class=\"data row0 col6\" >0</td>\n",
       "      <td id=\"T_de6b2_row0_col7\" class=\"data row0 col7\" >0</td>\n",
       "      <td id=\"T_de6b2_row0_col8\" class=\"data row0 col8\" >0</td>\n",
       "      <td id=\"T_de6b2_row0_col9\" class=\"data row0 col9\" >0</td>\n",
       "      <td id=\"T_de6b2_row0_col10\" class=\"data row0 col10\" >0</td>\n",
       "      <td id=\"T_de6b2_row0_col11\" class=\"data row0 col11\" >0</td>\n",
       "      <td id=\"T_de6b2_row0_col12\" class=\"data row0 col12\" >0</td>\n",
       "      <td id=\"T_de6b2_row0_col13\" class=\"data row0 col13\" >0</td>\n",
       "      <td id=\"T_de6b2_row0_col14\" class=\"data row0 col14\" >0</td>\n",
       "      <td id=\"T_de6b2_row0_col15\" class=\"data row0 col15\" >0</td>\n",
       "      <td id=\"T_de6b2_row0_col16\" class=\"data row0 col16\" >0</td>\n",
       "      <td id=\"T_de6b2_row0_col17\" class=\"data row0 col17\" >0</td>\n",
       "      <td id=\"T_de6b2_row0_col18\" class=\"data row0 col18\" >0</td>\n",
       "      <td id=\"T_de6b2_row0_col19\" class=\"data row0 col19\" >0</td>\n",
       "      <td id=\"T_de6b2_row0_col20\" class=\"data row0 col20\" >0</td>\n",
       "      <td id=\"T_de6b2_row0_col21\" class=\"data row0 col21\" >0</td>\n",
       "      <td id=\"T_de6b2_row0_col22\" class=\"data row0 col22\" >0</td>\n",
       "      <td id=\"T_de6b2_row0_col23\" class=\"data row0 col23\" >0</td>\n",
       "      <td id=\"T_de6b2_row0_col24\" class=\"data row0 col24\" >0</td>\n",
       "      <td id=\"T_de6b2_row0_col25\" class=\"data row0 col25\" >0</td>\n",
       "      <td id=\"T_de6b2_row0_col26\" class=\"data row0 col26\" >0</td>\n",
       "      <td id=\"T_de6b2_row0_col27\" class=\"data row0 col27\" >0</td>\n",
       "    </tr>\n",
       "    <tr>\n",
       "      <th id=\"T_de6b2_level0_row1\" class=\"row_heading level0 row1\" >1</th>\n",
       "      <td id=\"T_de6b2_row1_col0\" class=\"data row1 col0\" >0</td>\n",
       "      <td id=\"T_de6b2_row1_col1\" class=\"data row1 col1\" >0</td>\n",
       "      <td id=\"T_de6b2_row1_col2\" class=\"data row1 col2\" >0</td>\n",
       "      <td id=\"T_de6b2_row1_col3\" class=\"data row1 col3\" >0</td>\n",
       "      <td id=\"T_de6b2_row1_col4\" class=\"data row1 col4\" >0</td>\n",
       "      <td id=\"T_de6b2_row1_col5\" class=\"data row1 col5\" >0</td>\n",
       "      <td id=\"T_de6b2_row1_col6\" class=\"data row1 col6\" >0</td>\n",
       "      <td id=\"T_de6b2_row1_col7\" class=\"data row1 col7\" >0</td>\n",
       "      <td id=\"T_de6b2_row1_col8\" class=\"data row1 col8\" >0</td>\n",
       "      <td id=\"T_de6b2_row1_col9\" class=\"data row1 col9\" >0</td>\n",
       "      <td id=\"T_de6b2_row1_col10\" class=\"data row1 col10\" >0</td>\n",
       "      <td id=\"T_de6b2_row1_col11\" class=\"data row1 col11\" >0</td>\n",
       "      <td id=\"T_de6b2_row1_col12\" class=\"data row1 col12\" >0</td>\n",
       "      <td id=\"T_de6b2_row1_col13\" class=\"data row1 col13\" >0</td>\n",
       "      <td id=\"T_de6b2_row1_col14\" class=\"data row1 col14\" >0</td>\n",
       "      <td id=\"T_de6b2_row1_col15\" class=\"data row1 col15\" >0</td>\n",
       "      <td id=\"T_de6b2_row1_col16\" class=\"data row1 col16\" >0</td>\n",
       "      <td id=\"T_de6b2_row1_col17\" class=\"data row1 col17\" >0</td>\n",
       "      <td id=\"T_de6b2_row1_col18\" class=\"data row1 col18\" >0</td>\n",
       "      <td id=\"T_de6b2_row1_col19\" class=\"data row1 col19\" >0</td>\n",
       "      <td id=\"T_de6b2_row1_col20\" class=\"data row1 col20\" >0</td>\n",
       "      <td id=\"T_de6b2_row1_col21\" class=\"data row1 col21\" >0</td>\n",
       "      <td id=\"T_de6b2_row1_col22\" class=\"data row1 col22\" >0</td>\n",
       "      <td id=\"T_de6b2_row1_col23\" class=\"data row1 col23\" >0</td>\n",
       "      <td id=\"T_de6b2_row1_col24\" class=\"data row1 col24\" >0</td>\n",
       "      <td id=\"T_de6b2_row1_col25\" class=\"data row1 col25\" >0</td>\n",
       "      <td id=\"T_de6b2_row1_col26\" class=\"data row1 col26\" >0</td>\n",
       "      <td id=\"T_de6b2_row1_col27\" class=\"data row1 col27\" >0</td>\n",
       "    </tr>\n",
       "    <tr>\n",
       "      <th id=\"T_de6b2_level0_row2\" class=\"row_heading level0 row2\" >2</th>\n",
       "      <td id=\"T_de6b2_row2_col0\" class=\"data row2 col0\" >0</td>\n",
       "      <td id=\"T_de6b2_row2_col1\" class=\"data row2 col1\" >0</td>\n",
       "      <td id=\"T_de6b2_row2_col2\" class=\"data row2 col2\" >0</td>\n",
       "      <td id=\"T_de6b2_row2_col3\" class=\"data row2 col3\" >0</td>\n",
       "      <td id=\"T_de6b2_row2_col4\" class=\"data row2 col4\" >0</td>\n",
       "      <td id=\"T_de6b2_row2_col5\" class=\"data row2 col5\" >0</td>\n",
       "      <td id=\"T_de6b2_row2_col6\" class=\"data row2 col6\" >0</td>\n",
       "      <td id=\"T_de6b2_row2_col7\" class=\"data row2 col7\" >0</td>\n",
       "      <td id=\"T_de6b2_row2_col8\" class=\"data row2 col8\" >0</td>\n",
       "      <td id=\"T_de6b2_row2_col9\" class=\"data row2 col9\" >0</td>\n",
       "      <td id=\"T_de6b2_row2_col10\" class=\"data row2 col10\" >0</td>\n",
       "      <td id=\"T_de6b2_row2_col11\" class=\"data row2 col11\" >0</td>\n",
       "      <td id=\"T_de6b2_row2_col12\" class=\"data row2 col12\" >0</td>\n",
       "      <td id=\"T_de6b2_row2_col13\" class=\"data row2 col13\" >0</td>\n",
       "      <td id=\"T_de6b2_row2_col14\" class=\"data row2 col14\" >0</td>\n",
       "      <td id=\"T_de6b2_row2_col15\" class=\"data row2 col15\" >0</td>\n",
       "      <td id=\"T_de6b2_row2_col16\" class=\"data row2 col16\" >0</td>\n",
       "      <td id=\"T_de6b2_row2_col17\" class=\"data row2 col17\" >0</td>\n",
       "      <td id=\"T_de6b2_row2_col18\" class=\"data row2 col18\" >0</td>\n",
       "      <td id=\"T_de6b2_row2_col19\" class=\"data row2 col19\" >0</td>\n",
       "      <td id=\"T_de6b2_row2_col20\" class=\"data row2 col20\" >0</td>\n",
       "      <td id=\"T_de6b2_row2_col21\" class=\"data row2 col21\" >0</td>\n",
       "      <td id=\"T_de6b2_row2_col22\" class=\"data row2 col22\" >0</td>\n",
       "      <td id=\"T_de6b2_row2_col23\" class=\"data row2 col23\" >0</td>\n",
       "      <td id=\"T_de6b2_row2_col24\" class=\"data row2 col24\" >0</td>\n",
       "      <td id=\"T_de6b2_row2_col25\" class=\"data row2 col25\" >0</td>\n",
       "      <td id=\"T_de6b2_row2_col26\" class=\"data row2 col26\" >0</td>\n",
       "      <td id=\"T_de6b2_row2_col27\" class=\"data row2 col27\" >0</td>\n",
       "    </tr>\n",
       "    <tr>\n",
       "      <th id=\"T_de6b2_level0_row3\" class=\"row_heading level0 row3\" >3</th>\n",
       "      <td id=\"T_de6b2_row3_col0\" class=\"data row3 col0\" >0</td>\n",
       "      <td id=\"T_de6b2_row3_col1\" class=\"data row3 col1\" >0</td>\n",
       "      <td id=\"T_de6b2_row3_col2\" class=\"data row3 col2\" >0</td>\n",
       "      <td id=\"T_de6b2_row3_col3\" class=\"data row3 col3\" >0</td>\n",
       "      <td id=\"T_de6b2_row3_col4\" class=\"data row3 col4\" >0</td>\n",
       "      <td id=\"T_de6b2_row3_col5\" class=\"data row3 col5\" >0</td>\n",
       "      <td id=\"T_de6b2_row3_col6\" class=\"data row3 col6\" >0</td>\n",
       "      <td id=\"T_de6b2_row3_col7\" class=\"data row3 col7\" >0</td>\n",
       "      <td id=\"T_de6b2_row3_col8\" class=\"data row3 col8\" >0</td>\n",
       "      <td id=\"T_de6b2_row3_col9\" class=\"data row3 col9\" >0</td>\n",
       "      <td id=\"T_de6b2_row3_col10\" class=\"data row3 col10\" >0</td>\n",
       "      <td id=\"T_de6b2_row3_col11\" class=\"data row3 col11\" >0</td>\n",
       "      <td id=\"T_de6b2_row3_col12\" class=\"data row3 col12\" >11</td>\n",
       "      <td id=\"T_de6b2_row3_col13\" class=\"data row3 col13\" >130</td>\n",
       "      <td id=\"T_de6b2_row3_col14\" class=\"data row3 col14\" >224</td>\n",
       "      <td id=\"T_de6b2_row3_col15\" class=\"data row3 col15\" >255</td>\n",
       "      <td id=\"T_de6b2_row3_col16\" class=\"data row3 col16\" >254</td>\n",
       "      <td id=\"T_de6b2_row3_col17\" class=\"data row3 col17\" >244</td>\n",
       "      <td id=\"T_de6b2_row3_col18\" class=\"data row3 col18\" >95</td>\n",
       "      <td id=\"T_de6b2_row3_col19\" class=\"data row3 col19\" >2</td>\n",
       "      <td id=\"T_de6b2_row3_col20\" class=\"data row3 col20\" >0</td>\n",
       "      <td id=\"T_de6b2_row3_col21\" class=\"data row3 col21\" >0</td>\n",
       "      <td id=\"T_de6b2_row3_col22\" class=\"data row3 col22\" >0</td>\n",
       "      <td id=\"T_de6b2_row3_col23\" class=\"data row3 col23\" >0</td>\n",
       "      <td id=\"T_de6b2_row3_col24\" class=\"data row3 col24\" >0</td>\n",
       "      <td id=\"T_de6b2_row3_col25\" class=\"data row3 col25\" >0</td>\n",
       "      <td id=\"T_de6b2_row3_col26\" class=\"data row3 col26\" >0</td>\n",
       "      <td id=\"T_de6b2_row3_col27\" class=\"data row3 col27\" >0</td>\n",
       "    </tr>\n",
       "    <tr>\n",
       "      <th id=\"T_de6b2_level0_row4\" class=\"row_heading level0 row4\" >4</th>\n",
       "      <td id=\"T_de6b2_row4_col0\" class=\"data row4 col0\" >0</td>\n",
       "      <td id=\"T_de6b2_row4_col1\" class=\"data row4 col1\" >0</td>\n",
       "      <td id=\"T_de6b2_row4_col2\" class=\"data row4 col2\" >0</td>\n",
       "      <td id=\"T_de6b2_row4_col3\" class=\"data row4 col3\" >0</td>\n",
       "      <td id=\"T_de6b2_row4_col4\" class=\"data row4 col4\" >0</td>\n",
       "      <td id=\"T_de6b2_row4_col5\" class=\"data row4 col5\" >0</td>\n",
       "      <td id=\"T_de6b2_row4_col6\" class=\"data row4 col6\" >0</td>\n",
       "      <td id=\"T_de6b2_row4_col7\" class=\"data row4 col7\" >0</td>\n",
       "      <td id=\"T_de6b2_row4_col8\" class=\"data row4 col8\" >0</td>\n",
       "      <td id=\"T_de6b2_row4_col9\" class=\"data row4 col9\" >0</td>\n",
       "      <td id=\"T_de6b2_row4_col10\" class=\"data row4 col10\" >3</td>\n",
       "      <td id=\"T_de6b2_row4_col11\" class=\"data row4 col11\" >128</td>\n",
       "      <td id=\"T_de6b2_row4_col12\" class=\"data row4 col12\" >243</td>\n",
       "      <td id=\"T_de6b2_row4_col13\" class=\"data row4 col13\" >254</td>\n",
       "      <td id=\"T_de6b2_row4_col14\" class=\"data row4 col14\" >239</td>\n",
       "      <td id=\"T_de6b2_row4_col15\" class=\"data row4 col15\" >229</td>\n",
       "      <td id=\"T_de6b2_row4_col16\" class=\"data row4 col16\" >231</td>\n",
       "      <td id=\"T_de6b2_row4_col17\" class=\"data row4 col17\" >254</td>\n",
       "      <td id=\"T_de6b2_row4_col18\" class=\"data row4 col18\" >254</td>\n",
       "      <td id=\"T_de6b2_row4_col19\" class=\"data row4 col19\" >103</td>\n",
       "      <td id=\"T_de6b2_row4_col20\" class=\"data row4 col20\" >0</td>\n",
       "      <td id=\"T_de6b2_row4_col21\" class=\"data row4 col21\" >0</td>\n",
       "      <td id=\"T_de6b2_row4_col22\" class=\"data row4 col22\" >0</td>\n",
       "      <td id=\"T_de6b2_row4_col23\" class=\"data row4 col23\" >0</td>\n",
       "      <td id=\"T_de6b2_row4_col24\" class=\"data row4 col24\" >0</td>\n",
       "      <td id=\"T_de6b2_row4_col25\" class=\"data row4 col25\" >0</td>\n",
       "      <td id=\"T_de6b2_row4_col26\" class=\"data row4 col26\" >0</td>\n",
       "      <td id=\"T_de6b2_row4_col27\" class=\"data row4 col27\" >0</td>\n",
       "    </tr>\n",
       "    <tr>\n",
       "      <th id=\"T_de6b2_level0_row5\" class=\"row_heading level0 row5\" >5</th>\n",
       "      <td id=\"T_de6b2_row5_col0\" class=\"data row5 col0\" >0</td>\n",
       "      <td id=\"T_de6b2_row5_col1\" class=\"data row5 col1\" >0</td>\n",
       "      <td id=\"T_de6b2_row5_col2\" class=\"data row5 col2\" >0</td>\n",
       "      <td id=\"T_de6b2_row5_col3\" class=\"data row5 col3\" >0</td>\n",
       "      <td id=\"T_de6b2_row5_col4\" class=\"data row5 col4\" >0</td>\n",
       "      <td id=\"T_de6b2_row5_col5\" class=\"data row5 col5\" >0</td>\n",
       "      <td id=\"T_de6b2_row5_col6\" class=\"data row5 col6\" >0</td>\n",
       "      <td id=\"T_de6b2_row5_col7\" class=\"data row5 col7\" >0</td>\n",
       "      <td id=\"T_de6b2_row5_col8\" class=\"data row5 col8\" >0</td>\n",
       "      <td id=\"T_de6b2_row5_col9\" class=\"data row5 col9\" >0</td>\n",
       "      <td id=\"T_de6b2_row5_col10\" class=\"data row5 col10\" >92</td>\n",
       "      <td id=\"T_de6b2_row5_col11\" class=\"data row5 col11\" >254</td>\n",
       "      <td id=\"T_de6b2_row5_col12\" class=\"data row5 col12\" >254</td>\n",
       "      <td id=\"T_de6b2_row5_col13\" class=\"data row5 col13\" >212</td>\n",
       "      <td id=\"T_de6b2_row5_col14\" class=\"data row5 col14\" >52</td>\n",
       "      <td id=\"T_de6b2_row5_col15\" class=\"data row5 col15\" >0</td>\n",
       "      <td id=\"T_de6b2_row5_col16\" class=\"data row5 col16\" >5</td>\n",
       "      <td id=\"T_de6b2_row5_col17\" class=\"data row5 col17\" >107</td>\n",
       "      <td id=\"T_de6b2_row5_col18\" class=\"data row5 col18\" >254</td>\n",
       "      <td id=\"T_de6b2_row5_col19\" class=\"data row5 col19\" >223</td>\n",
       "      <td id=\"T_de6b2_row5_col20\" class=\"data row5 col20\" >11</td>\n",
       "      <td id=\"T_de6b2_row5_col21\" class=\"data row5 col21\" >0</td>\n",
       "      <td id=\"T_de6b2_row5_col22\" class=\"data row5 col22\" >0</td>\n",
       "      <td id=\"T_de6b2_row5_col23\" class=\"data row5 col23\" >0</td>\n",
       "      <td id=\"T_de6b2_row5_col24\" class=\"data row5 col24\" >0</td>\n",
       "      <td id=\"T_de6b2_row5_col25\" class=\"data row5 col25\" >0</td>\n",
       "      <td id=\"T_de6b2_row5_col26\" class=\"data row5 col26\" >0</td>\n",
       "      <td id=\"T_de6b2_row5_col27\" class=\"data row5 col27\" >0</td>\n",
       "    </tr>\n",
       "    <tr>\n",
       "      <th id=\"T_de6b2_level0_row6\" class=\"row_heading level0 row6\" >6</th>\n",
       "      <td id=\"T_de6b2_row6_col0\" class=\"data row6 col0\" >0</td>\n",
       "      <td id=\"T_de6b2_row6_col1\" class=\"data row6 col1\" >0</td>\n",
       "      <td id=\"T_de6b2_row6_col2\" class=\"data row6 col2\" >0</td>\n",
       "      <td id=\"T_de6b2_row6_col3\" class=\"data row6 col3\" >0</td>\n",
       "      <td id=\"T_de6b2_row6_col4\" class=\"data row6 col4\" >0</td>\n",
       "      <td id=\"T_de6b2_row6_col5\" class=\"data row6 col5\" >0</td>\n",
       "      <td id=\"T_de6b2_row6_col6\" class=\"data row6 col6\" >0</td>\n",
       "      <td id=\"T_de6b2_row6_col7\" class=\"data row6 col7\" >0</td>\n",
       "      <td id=\"T_de6b2_row6_col8\" class=\"data row6 col8\" >0</td>\n",
       "      <td id=\"T_de6b2_row6_col9\" class=\"data row6 col9\" >0</td>\n",
       "      <td id=\"T_de6b2_row6_col10\" class=\"data row6 col10\" >28</td>\n",
       "      <td id=\"T_de6b2_row6_col11\" class=\"data row6 col11\" >212</td>\n",
       "      <td id=\"T_de6b2_row6_col12\" class=\"data row6 col12\" >196</td>\n",
       "      <td id=\"T_de6b2_row6_col13\" class=\"data row6 col13\" >54</td>\n",
       "      <td id=\"T_de6b2_row6_col14\" class=\"data row6 col14\" >0</td>\n",
       "      <td id=\"T_de6b2_row6_col15\" class=\"data row6 col15\" >0</td>\n",
       "      <td id=\"T_de6b2_row6_col16\" class=\"data row6 col16\" >0</td>\n",
       "      <td id=\"T_de6b2_row6_col17\" class=\"data row6 col17\" >16</td>\n",
       "      <td id=\"T_de6b2_row6_col18\" class=\"data row6 col18\" >229</td>\n",
       "      <td id=\"T_de6b2_row6_col19\" class=\"data row6 col19\" >254</td>\n",
       "      <td id=\"T_de6b2_row6_col20\" class=\"data row6 col20\" >24</td>\n",
       "      <td id=\"T_de6b2_row6_col21\" class=\"data row6 col21\" >0</td>\n",
       "      <td id=\"T_de6b2_row6_col22\" class=\"data row6 col22\" >0</td>\n",
       "      <td id=\"T_de6b2_row6_col23\" class=\"data row6 col23\" >0</td>\n",
       "      <td id=\"T_de6b2_row6_col24\" class=\"data row6 col24\" >0</td>\n",
       "      <td id=\"T_de6b2_row6_col25\" class=\"data row6 col25\" >0</td>\n",
       "      <td id=\"T_de6b2_row6_col26\" class=\"data row6 col26\" >0</td>\n",
       "      <td id=\"T_de6b2_row6_col27\" class=\"data row6 col27\" >0</td>\n",
       "    </tr>\n",
       "    <tr>\n",
       "      <th id=\"T_de6b2_level0_row7\" class=\"row_heading level0 row7\" >7</th>\n",
       "      <td id=\"T_de6b2_row7_col0\" class=\"data row7 col0\" >0</td>\n",
       "      <td id=\"T_de6b2_row7_col1\" class=\"data row7 col1\" >0</td>\n",
       "      <td id=\"T_de6b2_row7_col2\" class=\"data row7 col2\" >0</td>\n",
       "      <td id=\"T_de6b2_row7_col3\" class=\"data row7 col3\" >0</td>\n",
       "      <td id=\"T_de6b2_row7_col4\" class=\"data row7 col4\" >0</td>\n",
       "      <td id=\"T_de6b2_row7_col5\" class=\"data row7 col5\" >0</td>\n",
       "      <td id=\"T_de6b2_row7_col6\" class=\"data row7 col6\" >0</td>\n",
       "      <td id=\"T_de6b2_row7_col7\" class=\"data row7 col7\" >0</td>\n",
       "      <td id=\"T_de6b2_row7_col8\" class=\"data row7 col8\" >0</td>\n",
       "      <td id=\"T_de6b2_row7_col9\" class=\"data row7 col9\" >0</td>\n",
       "      <td id=\"T_de6b2_row7_col10\" class=\"data row7 col10\" >0</td>\n",
       "      <td id=\"T_de6b2_row7_col11\" class=\"data row7 col11\" >16</td>\n",
       "      <td id=\"T_de6b2_row7_col12\" class=\"data row7 col12\" >5</td>\n",
       "      <td id=\"T_de6b2_row7_col13\" class=\"data row7 col13\" >0</td>\n",
       "      <td id=\"T_de6b2_row7_col14\" class=\"data row7 col14\" >0</td>\n",
       "      <td id=\"T_de6b2_row7_col15\" class=\"data row7 col15\" >0</td>\n",
       "      <td id=\"T_de6b2_row7_col16\" class=\"data row7 col16\" >0</td>\n",
       "      <td id=\"T_de6b2_row7_col17\" class=\"data row7 col17\" >0</td>\n",
       "      <td id=\"T_de6b2_row7_col18\" class=\"data row7 col18\" >206</td>\n",
       "      <td id=\"T_de6b2_row7_col19\" class=\"data row7 col19\" >254</td>\n",
       "      <td id=\"T_de6b2_row7_col20\" class=\"data row7 col20\" >24</td>\n",
       "      <td id=\"T_de6b2_row7_col21\" class=\"data row7 col21\" >0</td>\n",
       "      <td id=\"T_de6b2_row7_col22\" class=\"data row7 col22\" >0</td>\n",
       "      <td id=\"T_de6b2_row7_col23\" class=\"data row7 col23\" >0</td>\n",
       "      <td id=\"T_de6b2_row7_col24\" class=\"data row7 col24\" >0</td>\n",
       "      <td id=\"T_de6b2_row7_col25\" class=\"data row7 col25\" >0</td>\n",
       "      <td id=\"T_de6b2_row7_col26\" class=\"data row7 col26\" >0</td>\n",
       "      <td id=\"T_de6b2_row7_col27\" class=\"data row7 col27\" >0</td>\n",
       "    </tr>\n",
       "    <tr>\n",
       "      <th id=\"T_de6b2_level0_row8\" class=\"row_heading level0 row8\" >8</th>\n",
       "      <td id=\"T_de6b2_row8_col0\" class=\"data row8 col0\" >0</td>\n",
       "      <td id=\"T_de6b2_row8_col1\" class=\"data row8 col1\" >0</td>\n",
       "      <td id=\"T_de6b2_row8_col2\" class=\"data row8 col2\" >0</td>\n",
       "      <td id=\"T_de6b2_row8_col3\" class=\"data row8 col3\" >0</td>\n",
       "      <td id=\"T_de6b2_row8_col4\" class=\"data row8 col4\" >0</td>\n",
       "      <td id=\"T_de6b2_row8_col5\" class=\"data row8 col5\" >0</td>\n",
       "      <td id=\"T_de6b2_row8_col6\" class=\"data row8 col6\" >0</td>\n",
       "      <td id=\"T_de6b2_row8_col7\" class=\"data row8 col7\" >0</td>\n",
       "      <td id=\"T_de6b2_row8_col8\" class=\"data row8 col8\" >0</td>\n",
       "      <td id=\"T_de6b2_row8_col9\" class=\"data row8 col9\" >0</td>\n",
       "      <td id=\"T_de6b2_row8_col10\" class=\"data row8 col10\" >0</td>\n",
       "      <td id=\"T_de6b2_row8_col11\" class=\"data row8 col11\" >0</td>\n",
       "      <td id=\"T_de6b2_row8_col12\" class=\"data row8 col12\" >0</td>\n",
       "      <td id=\"T_de6b2_row8_col13\" class=\"data row8 col13\" >0</td>\n",
       "      <td id=\"T_de6b2_row8_col14\" class=\"data row8 col14\" >0</td>\n",
       "      <td id=\"T_de6b2_row8_col15\" class=\"data row8 col15\" >0</td>\n",
       "      <td id=\"T_de6b2_row8_col16\" class=\"data row8 col16\" >0</td>\n",
       "      <td id=\"T_de6b2_row8_col17\" class=\"data row8 col17\" >54</td>\n",
       "      <td id=\"T_de6b2_row8_col18\" class=\"data row8 col18\" >250</td>\n",
       "      <td id=\"T_de6b2_row8_col19\" class=\"data row8 col19\" >254</td>\n",
       "      <td id=\"T_de6b2_row8_col20\" class=\"data row8 col20\" >24</td>\n",
       "      <td id=\"T_de6b2_row8_col21\" class=\"data row8 col21\" >0</td>\n",
       "      <td id=\"T_de6b2_row8_col22\" class=\"data row8 col22\" >0</td>\n",
       "      <td id=\"T_de6b2_row8_col23\" class=\"data row8 col23\" >0</td>\n",
       "      <td id=\"T_de6b2_row8_col24\" class=\"data row8 col24\" >0</td>\n",
       "      <td id=\"T_de6b2_row8_col25\" class=\"data row8 col25\" >0</td>\n",
       "      <td id=\"T_de6b2_row8_col26\" class=\"data row8 col26\" >0</td>\n",
       "      <td id=\"T_de6b2_row8_col27\" class=\"data row8 col27\" >0</td>\n",
       "    </tr>\n",
       "    <tr>\n",
       "      <th id=\"T_de6b2_level0_row9\" class=\"row_heading level0 row9\" >9</th>\n",
       "      <td id=\"T_de6b2_row9_col0\" class=\"data row9 col0\" >0</td>\n",
       "      <td id=\"T_de6b2_row9_col1\" class=\"data row9 col1\" >0</td>\n",
       "      <td id=\"T_de6b2_row9_col2\" class=\"data row9 col2\" >0</td>\n",
       "      <td id=\"T_de6b2_row9_col3\" class=\"data row9 col3\" >0</td>\n",
       "      <td id=\"T_de6b2_row9_col4\" class=\"data row9 col4\" >0</td>\n",
       "      <td id=\"T_de6b2_row9_col5\" class=\"data row9 col5\" >0</td>\n",
       "      <td id=\"T_de6b2_row9_col6\" class=\"data row9 col6\" >0</td>\n",
       "      <td id=\"T_de6b2_row9_col7\" class=\"data row9 col7\" >0</td>\n",
       "      <td id=\"T_de6b2_row9_col8\" class=\"data row9 col8\" >0</td>\n",
       "      <td id=\"T_de6b2_row9_col9\" class=\"data row9 col9\" >0</td>\n",
       "      <td id=\"T_de6b2_row9_col10\" class=\"data row9 col10\" >0</td>\n",
       "      <td id=\"T_de6b2_row9_col11\" class=\"data row9 col11\" >0</td>\n",
       "      <td id=\"T_de6b2_row9_col12\" class=\"data row9 col12\" >0</td>\n",
       "      <td id=\"T_de6b2_row9_col13\" class=\"data row9 col13\" >0</td>\n",
       "      <td id=\"T_de6b2_row9_col14\" class=\"data row9 col14\" >0</td>\n",
       "      <td id=\"T_de6b2_row9_col15\" class=\"data row9 col15\" >0</td>\n",
       "      <td id=\"T_de6b2_row9_col16\" class=\"data row9 col16\" >0</td>\n",
       "      <td id=\"T_de6b2_row9_col17\" class=\"data row9 col17\" >166</td>\n",
       "      <td id=\"T_de6b2_row9_col18\" class=\"data row9 col18\" >254</td>\n",
       "      <td id=\"T_de6b2_row9_col19\" class=\"data row9 col19\" >215</td>\n",
       "      <td id=\"T_de6b2_row9_col20\" class=\"data row9 col20\" >9</td>\n",
       "      <td id=\"T_de6b2_row9_col21\" class=\"data row9 col21\" >0</td>\n",
       "      <td id=\"T_de6b2_row9_col22\" class=\"data row9 col22\" >0</td>\n",
       "      <td id=\"T_de6b2_row9_col23\" class=\"data row9 col23\" >0</td>\n",
       "      <td id=\"T_de6b2_row9_col24\" class=\"data row9 col24\" >0</td>\n",
       "      <td id=\"T_de6b2_row9_col25\" class=\"data row9 col25\" >0</td>\n",
       "      <td id=\"T_de6b2_row9_col26\" class=\"data row9 col26\" >0</td>\n",
       "      <td id=\"T_de6b2_row9_col27\" class=\"data row9 col27\" >0</td>\n",
       "    </tr>\n",
       "    <tr>\n",
       "      <th id=\"T_de6b2_level0_row10\" class=\"row_heading level0 row10\" >10</th>\n",
       "      <td id=\"T_de6b2_row10_col0\" class=\"data row10 col0\" >0</td>\n",
       "      <td id=\"T_de6b2_row10_col1\" class=\"data row10 col1\" >0</td>\n",
       "      <td id=\"T_de6b2_row10_col2\" class=\"data row10 col2\" >0</td>\n",
       "      <td id=\"T_de6b2_row10_col3\" class=\"data row10 col3\" >0</td>\n",
       "      <td id=\"T_de6b2_row10_col4\" class=\"data row10 col4\" >0</td>\n",
       "      <td id=\"T_de6b2_row10_col5\" class=\"data row10 col5\" >0</td>\n",
       "      <td id=\"T_de6b2_row10_col6\" class=\"data row10 col6\" >0</td>\n",
       "      <td id=\"T_de6b2_row10_col7\" class=\"data row10 col7\" >0</td>\n",
       "      <td id=\"T_de6b2_row10_col8\" class=\"data row10 col8\" >0</td>\n",
       "      <td id=\"T_de6b2_row10_col9\" class=\"data row10 col9\" >0</td>\n",
       "      <td id=\"T_de6b2_row10_col10\" class=\"data row10 col10\" >0</td>\n",
       "      <td id=\"T_de6b2_row10_col11\" class=\"data row10 col11\" >0</td>\n",
       "      <td id=\"T_de6b2_row10_col12\" class=\"data row10 col12\" >0</td>\n",
       "      <td id=\"T_de6b2_row10_col13\" class=\"data row10 col13\" >0</td>\n",
       "      <td id=\"T_de6b2_row10_col14\" class=\"data row10 col14\" >0</td>\n",
       "      <td id=\"T_de6b2_row10_col15\" class=\"data row10 col15\" >0</td>\n",
       "      <td id=\"T_de6b2_row10_col16\" class=\"data row10 col16\" >51</td>\n",
       "      <td id=\"T_de6b2_row10_col17\" class=\"data row10 col17\" >236</td>\n",
       "      <td id=\"T_de6b2_row10_col18\" class=\"data row10 col18\" >254</td>\n",
       "      <td id=\"T_de6b2_row10_col19\" class=\"data row10 col19\" >60</td>\n",
       "      <td id=\"T_de6b2_row10_col20\" class=\"data row10 col20\" >0</td>\n",
       "      <td id=\"T_de6b2_row10_col21\" class=\"data row10 col21\" >0</td>\n",
       "      <td id=\"T_de6b2_row10_col22\" class=\"data row10 col22\" >0</td>\n",
       "      <td id=\"T_de6b2_row10_col23\" class=\"data row10 col23\" >0</td>\n",
       "      <td id=\"T_de6b2_row10_col24\" class=\"data row10 col24\" >0</td>\n",
       "      <td id=\"T_de6b2_row10_col25\" class=\"data row10 col25\" >0</td>\n",
       "      <td id=\"T_de6b2_row10_col26\" class=\"data row10 col26\" >0</td>\n",
       "      <td id=\"T_de6b2_row10_col27\" class=\"data row10 col27\" >0</td>\n",
       "    </tr>\n",
       "    <tr>\n",
       "      <th id=\"T_de6b2_level0_row11\" class=\"row_heading level0 row11\" >11</th>\n",
       "      <td id=\"T_de6b2_row11_col0\" class=\"data row11 col0\" >0</td>\n",
       "      <td id=\"T_de6b2_row11_col1\" class=\"data row11 col1\" >0</td>\n",
       "      <td id=\"T_de6b2_row11_col2\" class=\"data row11 col2\" >0</td>\n",
       "      <td id=\"T_de6b2_row11_col3\" class=\"data row11 col3\" >0</td>\n",
       "      <td id=\"T_de6b2_row11_col4\" class=\"data row11 col4\" >0</td>\n",
       "      <td id=\"T_de6b2_row11_col5\" class=\"data row11 col5\" >0</td>\n",
       "      <td id=\"T_de6b2_row11_col6\" class=\"data row11 col6\" >0</td>\n",
       "      <td id=\"T_de6b2_row11_col7\" class=\"data row11 col7\" >0</td>\n",
       "      <td id=\"T_de6b2_row11_col8\" class=\"data row11 col8\" >0</td>\n",
       "      <td id=\"T_de6b2_row11_col9\" class=\"data row11 col9\" >0</td>\n",
       "      <td id=\"T_de6b2_row11_col10\" class=\"data row11 col10\" >0</td>\n",
       "      <td id=\"T_de6b2_row11_col11\" class=\"data row11 col11\" >0</td>\n",
       "      <td id=\"T_de6b2_row11_col12\" class=\"data row11 col12\" >0</td>\n",
       "      <td id=\"T_de6b2_row11_col13\" class=\"data row11 col13\" >0</td>\n",
       "      <td id=\"T_de6b2_row11_col14\" class=\"data row11 col14\" >0</td>\n",
       "      <td id=\"T_de6b2_row11_col15\" class=\"data row11 col15\" >76</td>\n",
       "      <td id=\"T_de6b2_row11_col16\" class=\"data row11 col16\" >236</td>\n",
       "      <td id=\"T_de6b2_row11_col17\" class=\"data row11 col17\" >254</td>\n",
       "      <td id=\"T_de6b2_row11_col18\" class=\"data row11 col18\" >177</td>\n",
       "      <td id=\"T_de6b2_row11_col19\" class=\"data row11 col19\" >9</td>\n",
       "      <td id=\"T_de6b2_row11_col20\" class=\"data row11 col20\" >0</td>\n",
       "      <td id=\"T_de6b2_row11_col21\" class=\"data row11 col21\" >0</td>\n",
       "      <td id=\"T_de6b2_row11_col22\" class=\"data row11 col22\" >0</td>\n",
       "      <td id=\"T_de6b2_row11_col23\" class=\"data row11 col23\" >0</td>\n",
       "      <td id=\"T_de6b2_row11_col24\" class=\"data row11 col24\" >0</td>\n",
       "      <td id=\"T_de6b2_row11_col25\" class=\"data row11 col25\" >0</td>\n",
       "      <td id=\"T_de6b2_row11_col26\" class=\"data row11 col26\" >0</td>\n",
       "      <td id=\"T_de6b2_row11_col27\" class=\"data row11 col27\" >0</td>\n",
       "    </tr>\n",
       "    <tr>\n",
       "      <th id=\"T_de6b2_level0_row12\" class=\"row_heading level0 row12\" >12</th>\n",
       "      <td id=\"T_de6b2_row12_col0\" class=\"data row12 col0\" >0</td>\n",
       "      <td id=\"T_de6b2_row12_col1\" class=\"data row12 col1\" >0</td>\n",
       "      <td id=\"T_de6b2_row12_col2\" class=\"data row12 col2\" >0</td>\n",
       "      <td id=\"T_de6b2_row12_col3\" class=\"data row12 col3\" >0</td>\n",
       "      <td id=\"T_de6b2_row12_col4\" class=\"data row12 col4\" >0</td>\n",
       "      <td id=\"T_de6b2_row12_col5\" class=\"data row12 col5\" >0</td>\n",
       "      <td id=\"T_de6b2_row12_col6\" class=\"data row12 col6\" >0</td>\n",
       "      <td id=\"T_de6b2_row12_col7\" class=\"data row12 col7\" >0</td>\n",
       "      <td id=\"T_de6b2_row12_col8\" class=\"data row12 col8\" >0</td>\n",
       "      <td id=\"T_de6b2_row12_col9\" class=\"data row12 col9\" >0</td>\n",
       "      <td id=\"T_de6b2_row12_col10\" class=\"data row12 col10\" >0</td>\n",
       "      <td id=\"T_de6b2_row12_col11\" class=\"data row12 col11\" >0</td>\n",
       "      <td id=\"T_de6b2_row12_col12\" class=\"data row12 col12\" >22</td>\n",
       "      <td id=\"T_de6b2_row12_col13\" class=\"data row12 col13\" >41</td>\n",
       "      <td id=\"T_de6b2_row12_col14\" class=\"data row12 col14\" >166</td>\n",
       "      <td id=\"T_de6b2_row12_col15\" class=\"data row12 col15\" >237</td>\n",
       "      <td id=\"T_de6b2_row12_col16\" class=\"data row12 col16\" >254</td>\n",
       "      <td id=\"T_de6b2_row12_col17\" class=\"data row12 col17\" >176</td>\n",
       "      <td id=\"T_de6b2_row12_col18\" class=\"data row12 col18\" >10</td>\n",
       "      <td id=\"T_de6b2_row12_col19\" class=\"data row12 col19\" >0</td>\n",
       "      <td id=\"T_de6b2_row12_col20\" class=\"data row12 col20\" >0</td>\n",
       "      <td id=\"T_de6b2_row12_col21\" class=\"data row12 col21\" >0</td>\n",
       "      <td id=\"T_de6b2_row12_col22\" class=\"data row12 col22\" >0</td>\n",
       "      <td id=\"T_de6b2_row12_col23\" class=\"data row12 col23\" >0</td>\n",
       "      <td id=\"T_de6b2_row12_col24\" class=\"data row12 col24\" >0</td>\n",
       "      <td id=\"T_de6b2_row12_col25\" class=\"data row12 col25\" >0</td>\n",
       "      <td id=\"T_de6b2_row12_col26\" class=\"data row12 col26\" >0</td>\n",
       "      <td id=\"T_de6b2_row12_col27\" class=\"data row12 col27\" >0</td>\n",
       "    </tr>\n",
       "    <tr>\n",
       "      <th id=\"T_de6b2_level0_row13\" class=\"row_heading level0 row13\" >13</th>\n",
       "      <td id=\"T_de6b2_row13_col0\" class=\"data row13 col0\" >0</td>\n",
       "      <td id=\"T_de6b2_row13_col1\" class=\"data row13 col1\" >0</td>\n",
       "      <td id=\"T_de6b2_row13_col2\" class=\"data row13 col2\" >0</td>\n",
       "      <td id=\"T_de6b2_row13_col3\" class=\"data row13 col3\" >0</td>\n",
       "      <td id=\"T_de6b2_row13_col4\" class=\"data row13 col4\" >0</td>\n",
       "      <td id=\"T_de6b2_row13_col5\" class=\"data row13 col5\" >0</td>\n",
       "      <td id=\"T_de6b2_row13_col6\" class=\"data row13 col6\" >0</td>\n",
       "      <td id=\"T_de6b2_row13_col7\" class=\"data row13 col7\" >0</td>\n",
       "      <td id=\"T_de6b2_row13_col8\" class=\"data row13 col8\" >0</td>\n",
       "      <td id=\"T_de6b2_row13_col9\" class=\"data row13 col9\" >0</td>\n",
       "      <td id=\"T_de6b2_row13_col10\" class=\"data row13 col10\" >6</td>\n",
       "      <td id=\"T_de6b2_row13_col11\" class=\"data row13 col11\" >155</td>\n",
       "      <td id=\"T_de6b2_row13_col12\" class=\"data row13 col12\" >235</td>\n",
       "      <td id=\"T_de6b2_row13_col13\" class=\"data row13 col13\" >254</td>\n",
       "      <td id=\"T_de6b2_row13_col14\" class=\"data row13 col14\" >254</td>\n",
       "      <td id=\"T_de6b2_row13_col15\" class=\"data row13 col15\" >254</td>\n",
       "      <td id=\"T_de6b2_row13_col16\" class=\"data row13 col16\" >254</td>\n",
       "      <td id=\"T_de6b2_row13_col17\" class=\"data row13 col17\" >120</td>\n",
       "      <td id=\"T_de6b2_row13_col18\" class=\"data row13 col18\" >0</td>\n",
       "      <td id=\"T_de6b2_row13_col19\" class=\"data row13 col19\" >0</td>\n",
       "      <td id=\"T_de6b2_row13_col20\" class=\"data row13 col20\" >0</td>\n",
       "      <td id=\"T_de6b2_row13_col21\" class=\"data row13 col21\" >0</td>\n",
       "      <td id=\"T_de6b2_row13_col22\" class=\"data row13 col22\" >0</td>\n",
       "      <td id=\"T_de6b2_row13_col23\" class=\"data row13 col23\" >0</td>\n",
       "      <td id=\"T_de6b2_row13_col24\" class=\"data row13 col24\" >0</td>\n",
       "      <td id=\"T_de6b2_row13_col25\" class=\"data row13 col25\" >0</td>\n",
       "      <td id=\"T_de6b2_row13_col26\" class=\"data row13 col26\" >0</td>\n",
       "      <td id=\"T_de6b2_row13_col27\" class=\"data row13 col27\" >0</td>\n",
       "    </tr>\n",
       "    <tr>\n",
       "      <th id=\"T_de6b2_level0_row14\" class=\"row_heading level0 row14\" >14</th>\n",
       "      <td id=\"T_de6b2_row14_col0\" class=\"data row14 col0\" >0</td>\n",
       "      <td id=\"T_de6b2_row14_col1\" class=\"data row14 col1\" >0</td>\n",
       "      <td id=\"T_de6b2_row14_col2\" class=\"data row14 col2\" >0</td>\n",
       "      <td id=\"T_de6b2_row14_col3\" class=\"data row14 col3\" >0</td>\n",
       "      <td id=\"T_de6b2_row14_col4\" class=\"data row14 col4\" >0</td>\n",
       "      <td id=\"T_de6b2_row14_col5\" class=\"data row14 col5\" >0</td>\n",
       "      <td id=\"T_de6b2_row14_col6\" class=\"data row14 col6\" >0</td>\n",
       "      <td id=\"T_de6b2_row14_col7\" class=\"data row14 col7\" >0</td>\n",
       "      <td id=\"T_de6b2_row14_col8\" class=\"data row14 col8\" >0</td>\n",
       "      <td id=\"T_de6b2_row14_col9\" class=\"data row14 col9\" >0</td>\n",
       "      <td id=\"T_de6b2_row14_col10\" class=\"data row14 col10\" >101</td>\n",
       "      <td id=\"T_de6b2_row14_col11\" class=\"data row14 col11\" >254</td>\n",
       "      <td id=\"T_de6b2_row14_col12\" class=\"data row14 col12\" >254</td>\n",
       "      <td id=\"T_de6b2_row14_col13\" class=\"data row14 col13\" >254</td>\n",
       "      <td id=\"T_de6b2_row14_col14\" class=\"data row14 col14\" >234</td>\n",
       "      <td id=\"T_de6b2_row14_col15\" class=\"data row14 col15\" >212</td>\n",
       "      <td id=\"T_de6b2_row14_col16\" class=\"data row14 col16\" >254</td>\n",
       "      <td id=\"T_de6b2_row14_col17\" class=\"data row14 col17\" >240</td>\n",
       "      <td id=\"T_de6b2_row14_col18\" class=\"data row14 col18\" >28</td>\n",
       "      <td id=\"T_de6b2_row14_col19\" class=\"data row14 col19\" >0</td>\n",
       "      <td id=\"T_de6b2_row14_col20\" class=\"data row14 col20\" >0</td>\n",
       "      <td id=\"T_de6b2_row14_col21\" class=\"data row14 col21\" >0</td>\n",
       "      <td id=\"T_de6b2_row14_col22\" class=\"data row14 col22\" >0</td>\n",
       "      <td id=\"T_de6b2_row14_col23\" class=\"data row14 col23\" >0</td>\n",
       "      <td id=\"T_de6b2_row14_col24\" class=\"data row14 col24\" >0</td>\n",
       "      <td id=\"T_de6b2_row14_col25\" class=\"data row14 col25\" >0</td>\n",
       "      <td id=\"T_de6b2_row14_col26\" class=\"data row14 col26\" >0</td>\n",
       "      <td id=\"T_de6b2_row14_col27\" class=\"data row14 col27\" >0</td>\n",
       "    </tr>\n",
       "    <tr>\n",
       "      <th id=\"T_de6b2_level0_row15\" class=\"row_heading level0 row15\" >15</th>\n",
       "      <td id=\"T_de6b2_row15_col0\" class=\"data row15 col0\" >0</td>\n",
       "      <td id=\"T_de6b2_row15_col1\" class=\"data row15 col1\" >0</td>\n",
       "      <td id=\"T_de6b2_row15_col2\" class=\"data row15 col2\" >0</td>\n",
       "      <td id=\"T_de6b2_row15_col3\" class=\"data row15 col3\" >0</td>\n",
       "      <td id=\"T_de6b2_row15_col4\" class=\"data row15 col4\" >0</td>\n",
       "      <td id=\"T_de6b2_row15_col5\" class=\"data row15 col5\" >0</td>\n",
       "      <td id=\"T_de6b2_row15_col6\" class=\"data row15 col6\" >0</td>\n",
       "      <td id=\"T_de6b2_row15_col7\" class=\"data row15 col7\" >0</td>\n",
       "      <td id=\"T_de6b2_row15_col8\" class=\"data row15 col8\" >0</td>\n",
       "      <td id=\"T_de6b2_row15_col9\" class=\"data row15 col9\" >0</td>\n",
       "      <td id=\"T_de6b2_row15_col10\" class=\"data row15 col10\" >42</td>\n",
       "      <td id=\"T_de6b2_row15_col11\" class=\"data row15 col11\" >160</td>\n",
       "      <td id=\"T_de6b2_row15_col12\" class=\"data row15 col12\" >177</td>\n",
       "      <td id=\"T_de6b2_row15_col13\" class=\"data row15 col13\" >156</td>\n",
       "      <td id=\"T_de6b2_row15_col14\" class=\"data row15 col14\" >42</td>\n",
       "      <td id=\"T_de6b2_row15_col15\" class=\"data row15 col15\" >8</td>\n",
       "      <td id=\"T_de6b2_row15_col16\" class=\"data row15 col16\" >209</td>\n",
       "      <td id=\"T_de6b2_row15_col17\" class=\"data row15 col17\" >254</td>\n",
       "      <td id=\"T_de6b2_row15_col18\" class=\"data row15 col18\" >123</td>\n",
       "      <td id=\"T_de6b2_row15_col19\" class=\"data row15 col19\" >0</td>\n",
       "      <td id=\"T_de6b2_row15_col20\" class=\"data row15 col20\" >0</td>\n",
       "      <td id=\"T_de6b2_row15_col21\" class=\"data row15 col21\" >0</td>\n",
       "      <td id=\"T_de6b2_row15_col22\" class=\"data row15 col22\" >0</td>\n",
       "      <td id=\"T_de6b2_row15_col23\" class=\"data row15 col23\" >0</td>\n",
       "      <td id=\"T_de6b2_row15_col24\" class=\"data row15 col24\" >0</td>\n",
       "      <td id=\"T_de6b2_row15_col25\" class=\"data row15 col25\" >0</td>\n",
       "      <td id=\"T_de6b2_row15_col26\" class=\"data row15 col26\" >0</td>\n",
       "      <td id=\"T_de6b2_row15_col27\" class=\"data row15 col27\" >0</td>\n",
       "    </tr>\n",
       "    <tr>\n",
       "      <th id=\"T_de6b2_level0_row16\" class=\"row_heading level0 row16\" >16</th>\n",
       "      <td id=\"T_de6b2_row16_col0\" class=\"data row16 col0\" >0</td>\n",
       "      <td id=\"T_de6b2_row16_col1\" class=\"data row16 col1\" >0</td>\n",
       "      <td id=\"T_de6b2_row16_col2\" class=\"data row16 col2\" >0</td>\n",
       "      <td id=\"T_de6b2_row16_col3\" class=\"data row16 col3\" >0</td>\n",
       "      <td id=\"T_de6b2_row16_col4\" class=\"data row16 col4\" >16</td>\n",
       "      <td id=\"T_de6b2_row16_col5\" class=\"data row16 col5\" >42</td>\n",
       "      <td id=\"T_de6b2_row16_col6\" class=\"data row16 col6\" >0</td>\n",
       "      <td id=\"T_de6b2_row16_col7\" class=\"data row16 col7\" >0</td>\n",
       "      <td id=\"T_de6b2_row16_col8\" class=\"data row16 col8\" >0</td>\n",
       "      <td id=\"T_de6b2_row16_col9\" class=\"data row16 col9\" >0</td>\n",
       "      <td id=\"T_de6b2_row16_col10\" class=\"data row16 col10\" >0</td>\n",
       "      <td id=\"T_de6b2_row16_col11\" class=\"data row16 col11\" >0</td>\n",
       "      <td id=\"T_de6b2_row16_col12\" class=\"data row16 col12\" >0</td>\n",
       "      <td id=\"T_de6b2_row16_col13\" class=\"data row16 col13\" >0</td>\n",
       "      <td id=\"T_de6b2_row16_col14\" class=\"data row16 col14\" >0</td>\n",
       "      <td id=\"T_de6b2_row16_col15\" class=\"data row16 col15\" >0</td>\n",
       "      <td id=\"T_de6b2_row16_col16\" class=\"data row16 col16\" >182</td>\n",
       "      <td id=\"T_de6b2_row16_col17\" class=\"data row16 col17\" >254</td>\n",
       "      <td id=\"T_de6b2_row16_col18\" class=\"data row16 col18\" >209</td>\n",
       "      <td id=\"T_de6b2_row16_col19\" class=\"data row16 col19\" >0</td>\n",
       "      <td id=\"T_de6b2_row16_col20\" class=\"data row16 col20\" >0</td>\n",
       "      <td id=\"T_de6b2_row16_col21\" class=\"data row16 col21\" >0</td>\n",
       "      <td id=\"T_de6b2_row16_col22\" class=\"data row16 col22\" >0</td>\n",
       "      <td id=\"T_de6b2_row16_col23\" class=\"data row16 col23\" >0</td>\n",
       "      <td id=\"T_de6b2_row16_col24\" class=\"data row16 col24\" >0</td>\n",
       "      <td id=\"T_de6b2_row16_col25\" class=\"data row16 col25\" >0</td>\n",
       "      <td id=\"T_de6b2_row16_col26\" class=\"data row16 col26\" >0</td>\n",
       "      <td id=\"T_de6b2_row16_col27\" class=\"data row16 col27\" >0</td>\n",
       "    </tr>\n",
       "    <tr>\n",
       "      <th id=\"T_de6b2_level0_row17\" class=\"row_heading level0 row17\" >17</th>\n",
       "      <td id=\"T_de6b2_row17_col0\" class=\"data row17 col0\" >0</td>\n",
       "      <td id=\"T_de6b2_row17_col1\" class=\"data row17 col1\" >0</td>\n",
       "      <td id=\"T_de6b2_row17_col2\" class=\"data row17 col2\" >0</td>\n",
       "      <td id=\"T_de6b2_row17_col3\" class=\"data row17 col3\" >10</td>\n",
       "      <td id=\"T_de6b2_row17_col4\" class=\"data row17 col4\" >197</td>\n",
       "      <td id=\"T_de6b2_row17_col5\" class=\"data row17 col5\" >102</td>\n",
       "      <td id=\"T_de6b2_row17_col6\" class=\"data row17 col6\" >0</td>\n",
       "      <td id=\"T_de6b2_row17_col7\" class=\"data row17 col7\" >0</td>\n",
       "      <td id=\"T_de6b2_row17_col8\" class=\"data row17 col8\" >0</td>\n",
       "      <td id=\"T_de6b2_row17_col9\" class=\"data row17 col9\" >0</td>\n",
       "      <td id=\"T_de6b2_row17_col10\" class=\"data row17 col10\" >0</td>\n",
       "      <td id=\"T_de6b2_row17_col11\" class=\"data row17 col11\" >0</td>\n",
       "      <td id=\"T_de6b2_row17_col12\" class=\"data row17 col12\" >0</td>\n",
       "      <td id=\"T_de6b2_row17_col13\" class=\"data row17 col13\" >0</td>\n",
       "      <td id=\"T_de6b2_row17_col14\" class=\"data row17 col14\" >0</td>\n",
       "      <td id=\"T_de6b2_row17_col15\" class=\"data row17 col15\" >4</td>\n",
       "      <td id=\"T_de6b2_row17_col16\" class=\"data row17 col16\" >210</td>\n",
       "      <td id=\"T_de6b2_row17_col17\" class=\"data row17 col17\" >254</td>\n",
       "      <td id=\"T_de6b2_row17_col18\" class=\"data row17 col18\" >209</td>\n",
       "      <td id=\"T_de6b2_row17_col19\" class=\"data row17 col19\" >0</td>\n",
       "      <td id=\"T_de6b2_row17_col20\" class=\"data row17 col20\" >0</td>\n",
       "      <td id=\"T_de6b2_row17_col21\" class=\"data row17 col21\" >0</td>\n",
       "      <td id=\"T_de6b2_row17_col22\" class=\"data row17 col22\" >0</td>\n",
       "      <td id=\"T_de6b2_row17_col23\" class=\"data row17 col23\" >0</td>\n",
       "      <td id=\"T_de6b2_row17_col24\" class=\"data row17 col24\" >0</td>\n",
       "      <td id=\"T_de6b2_row17_col25\" class=\"data row17 col25\" >0</td>\n",
       "      <td id=\"T_de6b2_row17_col26\" class=\"data row17 col26\" >0</td>\n",
       "      <td id=\"T_de6b2_row17_col27\" class=\"data row17 col27\" >0</td>\n",
       "    </tr>\n",
       "    <tr>\n",
       "      <th id=\"T_de6b2_level0_row18\" class=\"row_heading level0 row18\" >18</th>\n",
       "      <td id=\"T_de6b2_row18_col0\" class=\"data row18 col0\" >0</td>\n",
       "      <td id=\"T_de6b2_row18_col1\" class=\"data row18 col1\" >0</td>\n",
       "      <td id=\"T_de6b2_row18_col2\" class=\"data row18 col2\" >0</td>\n",
       "      <td id=\"T_de6b2_row18_col3\" class=\"data row18 col3\" >25</td>\n",
       "      <td id=\"T_de6b2_row18_col4\" class=\"data row18 col4\" >254</td>\n",
       "      <td id=\"T_de6b2_row18_col5\" class=\"data row18 col5\" >166</td>\n",
       "      <td id=\"T_de6b2_row18_col6\" class=\"data row18 col6\" >5</td>\n",
       "      <td id=\"T_de6b2_row18_col7\" class=\"data row18 col7\" >0</td>\n",
       "      <td id=\"T_de6b2_row18_col8\" class=\"data row18 col8\" >0</td>\n",
       "      <td id=\"T_de6b2_row18_col9\" class=\"data row18 col9\" >0</td>\n",
       "      <td id=\"T_de6b2_row18_col10\" class=\"data row18 col10\" >0</td>\n",
       "      <td id=\"T_de6b2_row18_col11\" class=\"data row18 col11\" >0</td>\n",
       "      <td id=\"T_de6b2_row18_col12\" class=\"data row18 col12\" >0</td>\n",
       "      <td id=\"T_de6b2_row18_col13\" class=\"data row18 col13\" >0</td>\n",
       "      <td id=\"T_de6b2_row18_col14\" class=\"data row18 col14\" >0</td>\n",
       "      <td id=\"T_de6b2_row18_col15\" class=\"data row18 col15\" >142</td>\n",
       "      <td id=\"T_de6b2_row18_col16\" class=\"data row18 col16\" >254</td>\n",
       "      <td id=\"T_de6b2_row18_col17\" class=\"data row18 col17\" >254</td>\n",
       "      <td id=\"T_de6b2_row18_col18\" class=\"data row18 col18\" >137</td>\n",
       "      <td id=\"T_de6b2_row18_col19\" class=\"data row18 col19\" >0</td>\n",
       "      <td id=\"T_de6b2_row18_col20\" class=\"data row18 col20\" >0</td>\n",
       "      <td id=\"T_de6b2_row18_col21\" class=\"data row18 col21\" >0</td>\n",
       "      <td id=\"T_de6b2_row18_col22\" class=\"data row18 col22\" >0</td>\n",
       "      <td id=\"T_de6b2_row18_col23\" class=\"data row18 col23\" >0</td>\n",
       "      <td id=\"T_de6b2_row18_col24\" class=\"data row18 col24\" >0</td>\n",
       "      <td id=\"T_de6b2_row18_col25\" class=\"data row18 col25\" >0</td>\n",
       "      <td id=\"T_de6b2_row18_col26\" class=\"data row18 col26\" >0</td>\n",
       "      <td id=\"T_de6b2_row18_col27\" class=\"data row18 col27\" >0</td>\n",
       "    </tr>\n",
       "    <tr>\n",
       "      <th id=\"T_de6b2_level0_row19\" class=\"row_heading level0 row19\" >19</th>\n",
       "      <td id=\"T_de6b2_row19_col0\" class=\"data row19 col0\" >0</td>\n",
       "      <td id=\"T_de6b2_row19_col1\" class=\"data row19 col1\" >0</td>\n",
       "      <td id=\"T_de6b2_row19_col2\" class=\"data row19 col2\" >0</td>\n",
       "      <td id=\"T_de6b2_row19_col3\" class=\"data row19 col3\" >13</td>\n",
       "      <td id=\"T_de6b2_row19_col4\" class=\"data row19 col4\" >212</td>\n",
       "      <td id=\"T_de6b2_row19_col5\" class=\"data row19 col5\" >254</td>\n",
       "      <td id=\"T_de6b2_row19_col6\" class=\"data row19 col6\" >193</td>\n",
       "      <td id=\"T_de6b2_row19_col7\" class=\"data row19 col7\" >77</td>\n",
       "      <td id=\"T_de6b2_row19_col8\" class=\"data row19 col8\" >30</td>\n",
       "      <td id=\"T_de6b2_row19_col9\" class=\"data row19 col9\" >0</td>\n",
       "      <td id=\"T_de6b2_row19_col10\" class=\"data row19 col10\" >0</td>\n",
       "      <td id=\"T_de6b2_row19_col11\" class=\"data row19 col11\" >0</td>\n",
       "      <td id=\"T_de6b2_row19_col12\" class=\"data row19 col12\" >0</td>\n",
       "      <td id=\"T_de6b2_row19_col13\" class=\"data row19 col13\" >26</td>\n",
       "      <td id=\"T_de6b2_row19_col14\" class=\"data row19 col14\" >170</td>\n",
       "      <td id=\"T_de6b2_row19_col15\" class=\"data row19 col15\" >253</td>\n",
       "      <td id=\"T_de6b2_row19_col16\" class=\"data row19 col16\" >254</td>\n",
       "      <td id=\"T_de6b2_row19_col17\" class=\"data row19 col17\" >248</td>\n",
       "      <td id=\"T_de6b2_row19_col18\" class=\"data row19 col18\" >40</td>\n",
       "      <td id=\"T_de6b2_row19_col19\" class=\"data row19 col19\" >0</td>\n",
       "      <td id=\"T_de6b2_row19_col20\" class=\"data row19 col20\" >0</td>\n",
       "      <td id=\"T_de6b2_row19_col21\" class=\"data row19 col21\" >0</td>\n",
       "      <td id=\"T_de6b2_row19_col22\" class=\"data row19 col22\" >0</td>\n",
       "      <td id=\"T_de6b2_row19_col23\" class=\"data row19 col23\" >0</td>\n",
       "      <td id=\"T_de6b2_row19_col24\" class=\"data row19 col24\" >0</td>\n",
       "      <td id=\"T_de6b2_row19_col25\" class=\"data row19 col25\" >0</td>\n",
       "      <td id=\"T_de6b2_row19_col26\" class=\"data row19 col26\" >0</td>\n",
       "      <td id=\"T_de6b2_row19_col27\" class=\"data row19 col27\" >0</td>\n",
       "    </tr>\n",
       "    <tr>\n",
       "      <th id=\"T_de6b2_level0_row20\" class=\"row_heading level0 row20\" >20</th>\n",
       "      <td id=\"T_de6b2_row20_col0\" class=\"data row20 col0\" >0</td>\n",
       "      <td id=\"T_de6b2_row20_col1\" class=\"data row20 col1\" >0</td>\n",
       "      <td id=\"T_de6b2_row20_col2\" class=\"data row20 col2\" >0</td>\n",
       "      <td id=\"T_de6b2_row20_col3\" class=\"data row20 col3\" >0</td>\n",
       "      <td id=\"T_de6b2_row20_col4\" class=\"data row20 col4\" >29</td>\n",
       "      <td id=\"T_de6b2_row20_col5\" class=\"data row20 col5\" >194</td>\n",
       "      <td id=\"T_de6b2_row20_col6\" class=\"data row20 col6\" >254</td>\n",
       "      <td id=\"T_de6b2_row20_col7\" class=\"data row20 col7\" >254</td>\n",
       "      <td id=\"T_de6b2_row20_col8\" class=\"data row20 col8\" >242</td>\n",
       "      <td id=\"T_de6b2_row20_col9\" class=\"data row20 col9\" >213</td>\n",
       "      <td id=\"T_de6b2_row20_col10\" class=\"data row20 col10\" >137</td>\n",
       "      <td id=\"T_de6b2_row20_col11\" class=\"data row20 col11\" >137</td>\n",
       "      <td id=\"T_de6b2_row20_col12\" class=\"data row20 col12\" >205</td>\n",
       "      <td id=\"T_de6b2_row20_col13\" class=\"data row20 col13\" >238</td>\n",
       "      <td id=\"T_de6b2_row20_col14\" class=\"data row20 col14\" >254</td>\n",
       "      <td id=\"T_de6b2_row20_col15\" class=\"data row20 col15\" >254</td>\n",
       "      <td id=\"T_de6b2_row20_col16\" class=\"data row20 col16\" >249</td>\n",
       "      <td id=\"T_de6b2_row20_col17\" class=\"data row20 col17\" >70</td>\n",
       "      <td id=\"T_de6b2_row20_col18\" class=\"data row20 col18\" >0</td>\n",
       "      <td id=\"T_de6b2_row20_col19\" class=\"data row20 col19\" >0</td>\n",
       "      <td id=\"T_de6b2_row20_col20\" class=\"data row20 col20\" >0</td>\n",
       "      <td id=\"T_de6b2_row20_col21\" class=\"data row20 col21\" >0</td>\n",
       "      <td id=\"T_de6b2_row20_col22\" class=\"data row20 col22\" >0</td>\n",
       "      <td id=\"T_de6b2_row20_col23\" class=\"data row20 col23\" >0</td>\n",
       "      <td id=\"T_de6b2_row20_col24\" class=\"data row20 col24\" >0</td>\n",
       "      <td id=\"T_de6b2_row20_col25\" class=\"data row20 col25\" >0</td>\n",
       "      <td id=\"T_de6b2_row20_col26\" class=\"data row20 col26\" >0</td>\n",
       "      <td id=\"T_de6b2_row20_col27\" class=\"data row20 col27\" >0</td>\n",
       "    </tr>\n",
       "    <tr>\n",
       "      <th id=\"T_de6b2_level0_row21\" class=\"row_heading level0 row21\" >21</th>\n",
       "      <td id=\"T_de6b2_row21_col0\" class=\"data row21 col0\" >0</td>\n",
       "      <td id=\"T_de6b2_row21_col1\" class=\"data row21 col1\" >0</td>\n",
       "      <td id=\"T_de6b2_row21_col2\" class=\"data row21 col2\" >0</td>\n",
       "      <td id=\"T_de6b2_row21_col3\" class=\"data row21 col3\" >0</td>\n",
       "      <td id=\"T_de6b2_row21_col4\" class=\"data row21 col4\" >0</td>\n",
       "      <td id=\"T_de6b2_row21_col5\" class=\"data row21 col5\" >20</td>\n",
       "      <td id=\"T_de6b2_row21_col6\" class=\"data row21 col6\" >165</td>\n",
       "      <td id=\"T_de6b2_row21_col7\" class=\"data row21 col7\" >254</td>\n",
       "      <td id=\"T_de6b2_row21_col8\" class=\"data row21 col8\" >254</td>\n",
       "      <td id=\"T_de6b2_row21_col9\" class=\"data row21 col9\" >254</td>\n",
       "      <td id=\"T_de6b2_row21_col10\" class=\"data row21 col10\" >254</td>\n",
       "      <td id=\"T_de6b2_row21_col11\" class=\"data row21 col11\" >254</td>\n",
       "      <td id=\"T_de6b2_row21_col12\" class=\"data row21 col12\" >254</td>\n",
       "      <td id=\"T_de6b2_row21_col13\" class=\"data row21 col13\" >254</td>\n",
       "      <td id=\"T_de6b2_row21_col14\" class=\"data row21 col14\" >254</td>\n",
       "      <td id=\"T_de6b2_row21_col15\" class=\"data row21 col15\" >205</td>\n",
       "      <td id=\"T_de6b2_row21_col16\" class=\"data row21 col16\" >45</td>\n",
       "      <td id=\"T_de6b2_row21_col17\" class=\"data row21 col17\" >0</td>\n",
       "      <td id=\"T_de6b2_row21_col18\" class=\"data row21 col18\" >0</td>\n",
       "      <td id=\"T_de6b2_row21_col19\" class=\"data row21 col19\" >0</td>\n",
       "      <td id=\"T_de6b2_row21_col20\" class=\"data row21 col20\" >0</td>\n",
       "      <td id=\"T_de6b2_row21_col21\" class=\"data row21 col21\" >0</td>\n",
       "      <td id=\"T_de6b2_row21_col22\" class=\"data row21 col22\" >0</td>\n",
       "      <td id=\"T_de6b2_row21_col23\" class=\"data row21 col23\" >0</td>\n",
       "      <td id=\"T_de6b2_row21_col24\" class=\"data row21 col24\" >0</td>\n",
       "      <td id=\"T_de6b2_row21_col25\" class=\"data row21 col25\" >0</td>\n",
       "      <td id=\"T_de6b2_row21_col26\" class=\"data row21 col26\" >0</td>\n",
       "      <td id=\"T_de6b2_row21_col27\" class=\"data row21 col27\" >0</td>\n",
       "    </tr>\n",
       "    <tr>\n",
       "      <th id=\"T_de6b2_level0_row22\" class=\"row_heading level0 row22\" >22</th>\n",
       "      <td id=\"T_de6b2_row22_col0\" class=\"data row22 col0\" >0</td>\n",
       "      <td id=\"T_de6b2_row22_col1\" class=\"data row22 col1\" >0</td>\n",
       "      <td id=\"T_de6b2_row22_col2\" class=\"data row22 col2\" >0</td>\n",
       "      <td id=\"T_de6b2_row22_col3\" class=\"data row22 col3\" >0</td>\n",
       "      <td id=\"T_de6b2_row22_col4\" class=\"data row22 col4\" >0</td>\n",
       "      <td id=\"T_de6b2_row22_col5\" class=\"data row22 col5\" >0</td>\n",
       "      <td id=\"T_de6b2_row22_col6\" class=\"data row22 col6\" >3</td>\n",
       "      <td id=\"T_de6b2_row22_col7\" class=\"data row22 col7\" >12</td>\n",
       "      <td id=\"T_de6b2_row22_col8\" class=\"data row22 col8\" >65</td>\n",
       "      <td id=\"T_de6b2_row22_col9\" class=\"data row22 col9\" >149</td>\n",
       "      <td id=\"T_de6b2_row22_col10\" class=\"data row22 col10\" >173</td>\n",
       "      <td id=\"T_de6b2_row22_col11\" class=\"data row22 col11\" >237</td>\n",
       "      <td id=\"T_de6b2_row22_col12\" class=\"data row22 col12\" >185</td>\n",
       "      <td id=\"T_de6b2_row22_col13\" class=\"data row22 col13\" >173</td>\n",
       "      <td id=\"T_de6b2_row22_col14\" class=\"data row22 col14\" >73</td>\n",
       "      <td id=\"T_de6b2_row22_col15\" class=\"data row22 col15\" >4</td>\n",
       "      <td id=\"T_de6b2_row22_col16\" class=\"data row22 col16\" >0</td>\n",
       "      <td id=\"T_de6b2_row22_col17\" class=\"data row22 col17\" >0</td>\n",
       "      <td id=\"T_de6b2_row22_col18\" class=\"data row22 col18\" >0</td>\n",
       "      <td id=\"T_de6b2_row22_col19\" class=\"data row22 col19\" >0</td>\n",
       "      <td id=\"T_de6b2_row22_col20\" class=\"data row22 col20\" >0</td>\n",
       "      <td id=\"T_de6b2_row22_col21\" class=\"data row22 col21\" >0</td>\n",
       "      <td id=\"T_de6b2_row22_col22\" class=\"data row22 col22\" >0</td>\n",
       "      <td id=\"T_de6b2_row22_col23\" class=\"data row22 col23\" >0</td>\n",
       "      <td id=\"T_de6b2_row22_col24\" class=\"data row22 col24\" >0</td>\n",
       "      <td id=\"T_de6b2_row22_col25\" class=\"data row22 col25\" >0</td>\n",
       "      <td id=\"T_de6b2_row22_col26\" class=\"data row22 col26\" >0</td>\n",
       "      <td id=\"T_de6b2_row22_col27\" class=\"data row22 col27\" >0</td>\n",
       "    </tr>\n",
       "    <tr>\n",
       "      <th id=\"T_de6b2_level0_row23\" class=\"row_heading level0 row23\" >23</th>\n",
       "      <td id=\"T_de6b2_row23_col0\" class=\"data row23 col0\" >0</td>\n",
       "      <td id=\"T_de6b2_row23_col1\" class=\"data row23 col1\" >0</td>\n",
       "      <td id=\"T_de6b2_row23_col2\" class=\"data row23 col2\" >0</td>\n",
       "      <td id=\"T_de6b2_row23_col3\" class=\"data row23 col3\" >0</td>\n",
       "      <td id=\"T_de6b2_row23_col4\" class=\"data row23 col4\" >0</td>\n",
       "      <td id=\"T_de6b2_row23_col5\" class=\"data row23 col5\" >0</td>\n",
       "      <td id=\"T_de6b2_row23_col6\" class=\"data row23 col6\" >0</td>\n",
       "      <td id=\"T_de6b2_row23_col7\" class=\"data row23 col7\" >0</td>\n",
       "      <td id=\"T_de6b2_row23_col8\" class=\"data row23 col8\" >0</td>\n",
       "      <td id=\"T_de6b2_row23_col9\" class=\"data row23 col9\" >0</td>\n",
       "      <td id=\"T_de6b2_row23_col10\" class=\"data row23 col10\" >0</td>\n",
       "      <td id=\"T_de6b2_row23_col11\" class=\"data row23 col11\" >0</td>\n",
       "      <td id=\"T_de6b2_row23_col12\" class=\"data row23 col12\" >0</td>\n",
       "      <td id=\"T_de6b2_row23_col13\" class=\"data row23 col13\" >0</td>\n",
       "      <td id=\"T_de6b2_row23_col14\" class=\"data row23 col14\" >0</td>\n",
       "      <td id=\"T_de6b2_row23_col15\" class=\"data row23 col15\" >0</td>\n",
       "      <td id=\"T_de6b2_row23_col16\" class=\"data row23 col16\" >0</td>\n",
       "      <td id=\"T_de6b2_row23_col17\" class=\"data row23 col17\" >0</td>\n",
       "      <td id=\"T_de6b2_row23_col18\" class=\"data row23 col18\" >0</td>\n",
       "      <td id=\"T_de6b2_row23_col19\" class=\"data row23 col19\" >0</td>\n",
       "      <td id=\"T_de6b2_row23_col20\" class=\"data row23 col20\" >0</td>\n",
       "      <td id=\"T_de6b2_row23_col21\" class=\"data row23 col21\" >0</td>\n",
       "      <td id=\"T_de6b2_row23_col22\" class=\"data row23 col22\" >0</td>\n",
       "      <td id=\"T_de6b2_row23_col23\" class=\"data row23 col23\" >0</td>\n",
       "      <td id=\"T_de6b2_row23_col24\" class=\"data row23 col24\" >0</td>\n",
       "      <td id=\"T_de6b2_row23_col25\" class=\"data row23 col25\" >0</td>\n",
       "      <td id=\"T_de6b2_row23_col26\" class=\"data row23 col26\" >0</td>\n",
       "      <td id=\"T_de6b2_row23_col27\" class=\"data row23 col27\" >0</td>\n",
       "    </tr>\n",
       "    <tr>\n",
       "      <th id=\"T_de6b2_level0_row24\" class=\"row_heading level0 row24\" >24</th>\n",
       "      <td id=\"T_de6b2_row24_col0\" class=\"data row24 col0\" >0</td>\n",
       "      <td id=\"T_de6b2_row24_col1\" class=\"data row24 col1\" >0</td>\n",
       "      <td id=\"T_de6b2_row24_col2\" class=\"data row24 col2\" >0</td>\n",
       "      <td id=\"T_de6b2_row24_col3\" class=\"data row24 col3\" >0</td>\n",
       "      <td id=\"T_de6b2_row24_col4\" class=\"data row24 col4\" >0</td>\n",
       "      <td id=\"T_de6b2_row24_col5\" class=\"data row24 col5\" >0</td>\n",
       "      <td id=\"T_de6b2_row24_col6\" class=\"data row24 col6\" >0</td>\n",
       "      <td id=\"T_de6b2_row24_col7\" class=\"data row24 col7\" >0</td>\n",
       "      <td id=\"T_de6b2_row24_col8\" class=\"data row24 col8\" >0</td>\n",
       "      <td id=\"T_de6b2_row24_col9\" class=\"data row24 col9\" >0</td>\n",
       "      <td id=\"T_de6b2_row24_col10\" class=\"data row24 col10\" >0</td>\n",
       "      <td id=\"T_de6b2_row24_col11\" class=\"data row24 col11\" >0</td>\n",
       "      <td id=\"T_de6b2_row24_col12\" class=\"data row24 col12\" >0</td>\n",
       "      <td id=\"T_de6b2_row24_col13\" class=\"data row24 col13\" >0</td>\n",
       "      <td id=\"T_de6b2_row24_col14\" class=\"data row24 col14\" >0</td>\n",
       "      <td id=\"T_de6b2_row24_col15\" class=\"data row24 col15\" >0</td>\n",
       "      <td id=\"T_de6b2_row24_col16\" class=\"data row24 col16\" >0</td>\n",
       "      <td id=\"T_de6b2_row24_col17\" class=\"data row24 col17\" >0</td>\n",
       "      <td id=\"T_de6b2_row24_col18\" class=\"data row24 col18\" >0</td>\n",
       "      <td id=\"T_de6b2_row24_col19\" class=\"data row24 col19\" >0</td>\n",
       "      <td id=\"T_de6b2_row24_col20\" class=\"data row24 col20\" >0</td>\n",
       "      <td id=\"T_de6b2_row24_col21\" class=\"data row24 col21\" >0</td>\n",
       "      <td id=\"T_de6b2_row24_col22\" class=\"data row24 col22\" >0</td>\n",
       "      <td id=\"T_de6b2_row24_col23\" class=\"data row24 col23\" >0</td>\n",
       "      <td id=\"T_de6b2_row24_col24\" class=\"data row24 col24\" >0</td>\n",
       "      <td id=\"T_de6b2_row24_col25\" class=\"data row24 col25\" >0</td>\n",
       "      <td id=\"T_de6b2_row24_col26\" class=\"data row24 col26\" >0</td>\n",
       "      <td id=\"T_de6b2_row24_col27\" class=\"data row24 col27\" >0</td>\n",
       "    </tr>\n",
       "    <tr>\n",
       "      <th id=\"T_de6b2_level0_row25\" class=\"row_heading level0 row25\" >25</th>\n",
       "      <td id=\"T_de6b2_row25_col0\" class=\"data row25 col0\" >0</td>\n",
       "      <td id=\"T_de6b2_row25_col1\" class=\"data row25 col1\" >0</td>\n",
       "      <td id=\"T_de6b2_row25_col2\" class=\"data row25 col2\" >0</td>\n",
       "      <td id=\"T_de6b2_row25_col3\" class=\"data row25 col3\" >0</td>\n",
       "      <td id=\"T_de6b2_row25_col4\" class=\"data row25 col4\" >0</td>\n",
       "      <td id=\"T_de6b2_row25_col5\" class=\"data row25 col5\" >0</td>\n",
       "      <td id=\"T_de6b2_row25_col6\" class=\"data row25 col6\" >0</td>\n",
       "      <td id=\"T_de6b2_row25_col7\" class=\"data row25 col7\" >0</td>\n",
       "      <td id=\"T_de6b2_row25_col8\" class=\"data row25 col8\" >0</td>\n",
       "      <td id=\"T_de6b2_row25_col9\" class=\"data row25 col9\" >0</td>\n",
       "      <td id=\"T_de6b2_row25_col10\" class=\"data row25 col10\" >0</td>\n",
       "      <td id=\"T_de6b2_row25_col11\" class=\"data row25 col11\" >0</td>\n",
       "      <td id=\"T_de6b2_row25_col12\" class=\"data row25 col12\" >0</td>\n",
       "      <td id=\"T_de6b2_row25_col13\" class=\"data row25 col13\" >0</td>\n",
       "      <td id=\"T_de6b2_row25_col14\" class=\"data row25 col14\" >0</td>\n",
       "      <td id=\"T_de6b2_row25_col15\" class=\"data row25 col15\" >0</td>\n",
       "      <td id=\"T_de6b2_row25_col16\" class=\"data row25 col16\" >0</td>\n",
       "      <td id=\"T_de6b2_row25_col17\" class=\"data row25 col17\" >0</td>\n",
       "      <td id=\"T_de6b2_row25_col18\" class=\"data row25 col18\" >0</td>\n",
       "      <td id=\"T_de6b2_row25_col19\" class=\"data row25 col19\" >0</td>\n",
       "      <td id=\"T_de6b2_row25_col20\" class=\"data row25 col20\" >0</td>\n",
       "      <td id=\"T_de6b2_row25_col21\" class=\"data row25 col21\" >0</td>\n",
       "      <td id=\"T_de6b2_row25_col22\" class=\"data row25 col22\" >0</td>\n",
       "      <td id=\"T_de6b2_row25_col23\" class=\"data row25 col23\" >0</td>\n",
       "      <td id=\"T_de6b2_row25_col24\" class=\"data row25 col24\" >0</td>\n",
       "      <td id=\"T_de6b2_row25_col25\" class=\"data row25 col25\" >0</td>\n",
       "      <td id=\"T_de6b2_row25_col26\" class=\"data row25 col26\" >0</td>\n",
       "      <td id=\"T_de6b2_row25_col27\" class=\"data row25 col27\" >0</td>\n",
       "    </tr>\n",
       "    <tr>\n",
       "      <th id=\"T_de6b2_level0_row26\" class=\"row_heading level0 row26\" >26</th>\n",
       "      <td id=\"T_de6b2_row26_col0\" class=\"data row26 col0\" >0</td>\n",
       "      <td id=\"T_de6b2_row26_col1\" class=\"data row26 col1\" >0</td>\n",
       "      <td id=\"T_de6b2_row26_col2\" class=\"data row26 col2\" >0</td>\n",
       "      <td id=\"T_de6b2_row26_col3\" class=\"data row26 col3\" >0</td>\n",
       "      <td id=\"T_de6b2_row26_col4\" class=\"data row26 col4\" >0</td>\n",
       "      <td id=\"T_de6b2_row26_col5\" class=\"data row26 col5\" >0</td>\n",
       "      <td id=\"T_de6b2_row26_col6\" class=\"data row26 col6\" >0</td>\n",
       "      <td id=\"T_de6b2_row26_col7\" class=\"data row26 col7\" >0</td>\n",
       "      <td id=\"T_de6b2_row26_col8\" class=\"data row26 col8\" >0</td>\n",
       "      <td id=\"T_de6b2_row26_col9\" class=\"data row26 col9\" >0</td>\n",
       "      <td id=\"T_de6b2_row26_col10\" class=\"data row26 col10\" >0</td>\n",
       "      <td id=\"T_de6b2_row26_col11\" class=\"data row26 col11\" >0</td>\n",
       "      <td id=\"T_de6b2_row26_col12\" class=\"data row26 col12\" >0</td>\n",
       "      <td id=\"T_de6b2_row26_col13\" class=\"data row26 col13\" >0</td>\n",
       "      <td id=\"T_de6b2_row26_col14\" class=\"data row26 col14\" >0</td>\n",
       "      <td id=\"T_de6b2_row26_col15\" class=\"data row26 col15\" >0</td>\n",
       "      <td id=\"T_de6b2_row26_col16\" class=\"data row26 col16\" >0</td>\n",
       "      <td id=\"T_de6b2_row26_col17\" class=\"data row26 col17\" >0</td>\n",
       "      <td id=\"T_de6b2_row26_col18\" class=\"data row26 col18\" >0</td>\n",
       "      <td id=\"T_de6b2_row26_col19\" class=\"data row26 col19\" >0</td>\n",
       "      <td id=\"T_de6b2_row26_col20\" class=\"data row26 col20\" >0</td>\n",
       "      <td id=\"T_de6b2_row26_col21\" class=\"data row26 col21\" >0</td>\n",
       "      <td id=\"T_de6b2_row26_col22\" class=\"data row26 col22\" >0</td>\n",
       "      <td id=\"T_de6b2_row26_col23\" class=\"data row26 col23\" >0</td>\n",
       "      <td id=\"T_de6b2_row26_col24\" class=\"data row26 col24\" >0</td>\n",
       "      <td id=\"T_de6b2_row26_col25\" class=\"data row26 col25\" >0</td>\n",
       "      <td id=\"T_de6b2_row26_col26\" class=\"data row26 col26\" >0</td>\n",
       "      <td id=\"T_de6b2_row26_col27\" class=\"data row26 col27\" >0</td>\n",
       "    </tr>\n",
       "    <tr>\n",
       "      <th id=\"T_de6b2_level0_row27\" class=\"row_heading level0 row27\" >27</th>\n",
       "      <td id=\"T_de6b2_row27_col0\" class=\"data row27 col0\" >0</td>\n",
       "      <td id=\"T_de6b2_row27_col1\" class=\"data row27 col1\" >0</td>\n",
       "      <td id=\"T_de6b2_row27_col2\" class=\"data row27 col2\" >0</td>\n",
       "      <td id=\"T_de6b2_row27_col3\" class=\"data row27 col3\" >0</td>\n",
       "      <td id=\"T_de6b2_row27_col4\" class=\"data row27 col4\" >0</td>\n",
       "      <td id=\"T_de6b2_row27_col5\" class=\"data row27 col5\" >0</td>\n",
       "      <td id=\"T_de6b2_row27_col6\" class=\"data row27 col6\" >0</td>\n",
       "      <td id=\"T_de6b2_row27_col7\" class=\"data row27 col7\" >0</td>\n",
       "      <td id=\"T_de6b2_row27_col8\" class=\"data row27 col8\" >0</td>\n",
       "      <td id=\"T_de6b2_row27_col9\" class=\"data row27 col9\" >0</td>\n",
       "      <td id=\"T_de6b2_row27_col10\" class=\"data row27 col10\" >0</td>\n",
       "      <td id=\"T_de6b2_row27_col11\" class=\"data row27 col11\" >0</td>\n",
       "      <td id=\"T_de6b2_row27_col12\" class=\"data row27 col12\" >0</td>\n",
       "      <td id=\"T_de6b2_row27_col13\" class=\"data row27 col13\" >0</td>\n",
       "      <td id=\"T_de6b2_row27_col14\" class=\"data row27 col14\" >0</td>\n",
       "      <td id=\"T_de6b2_row27_col15\" class=\"data row27 col15\" >0</td>\n",
       "      <td id=\"T_de6b2_row27_col16\" class=\"data row27 col16\" >0</td>\n",
       "      <td id=\"T_de6b2_row27_col17\" class=\"data row27 col17\" >0</td>\n",
       "      <td id=\"T_de6b2_row27_col18\" class=\"data row27 col18\" >0</td>\n",
       "      <td id=\"T_de6b2_row27_col19\" class=\"data row27 col19\" >0</td>\n",
       "      <td id=\"T_de6b2_row27_col20\" class=\"data row27 col20\" >0</td>\n",
       "      <td id=\"T_de6b2_row27_col21\" class=\"data row27 col21\" >0</td>\n",
       "      <td id=\"T_de6b2_row27_col22\" class=\"data row27 col22\" >0</td>\n",
       "      <td id=\"T_de6b2_row27_col23\" class=\"data row27 col23\" >0</td>\n",
       "      <td id=\"T_de6b2_row27_col24\" class=\"data row27 col24\" >0</td>\n",
       "      <td id=\"T_de6b2_row27_col25\" class=\"data row27 col25\" >0</td>\n",
       "      <td id=\"T_de6b2_row27_col26\" class=\"data row27 col26\" >0</td>\n",
       "      <td id=\"T_de6b2_row27_col27\" class=\"data row27 col27\" >0</td>\n",
       "    </tr>\n",
       "  </tbody>\n",
       "</table>\n"
      ],
      "text/plain": [
       "<pandas.io.formats.style.Styler at 0x7ffac0b9a510>"
      ]
     },
     "execution_count": 11,
     "metadata": {},
     "output_type": "execute_result"
    }
   ],
   "source": [
    "import pandas as pd\n",
    "\n",
    "df = pd.DataFrame(im3_t)\n",
    "df.style.set_properties(**{\"font-size\": \"6pt\"}).background_gradient(\"Greys\")"
   ]
  },
  {
   "cell_type": "markdown",
   "id": "b653c5ef",
   "metadata": {},
   "source": [
    "### Prediction using averages\n",
    "First, we use the most simple classification method, we calculate an \"ideal\" images of 3s and 7s with averages, then we use a loss function to calculate test images' distance with the 3 and 8, and classify the image based on the lower loss score."
   ]
  },
  {
   "cell_type": "code",
   "execution_count": 12,
   "id": "ab001318",
   "metadata": {},
   "outputs": [
    {
     "data": {
      "text/plain": [
       "torch.Size([346, 28, 28])"
      ]
     },
     "execution_count": 12,
     "metadata": {},
     "output_type": "execute_result"
    }
   ],
   "source": [
    "# convert images to tensors arrays\n",
    "seven_tensors = [torch.as_tensor(array(Image.open(o))) for o in sevens]\n",
    "three_tensors = [torch.as_tensor(array(Image.open(o))) for o in threes]\n",
    "\n",
    "# convert tensor array to individual tensors\n",
    "stacked_sevens = torch.stack(seven_tensors).float() / 255\n",
    "stacked_threes = torch.stack(three_tensors).float() / 255\n",
    "stacked_threes.shape\n"
   ]
  },
  {
   "cell_type": "markdown",
   "id": "852bc363",
   "metadata": {},
   "source": [
    "we will create our ideal 3 and 7"
   ]
  },
  {
   "cell_type": "code",
   "execution_count": 13,
   "id": "26f0446a",
   "metadata": {},
   "outputs": [],
   "source": [
    "mean3 = stacked_threes.mean(0)\n",
    "mean7 = stacked_sevens.mean(0)"
   ]
  },
  {
   "cell_type": "code",
   "execution_count": 14,
   "id": "fb73773c",
   "metadata": {},
   "outputs": [
    {
     "data": {
      "image/jpeg": "[encoded data removed]",
      "image/png": "[encoded data removed]",
      "text/plain": [
       "<PIL.Image.Image image mode=L size=28x28>"
      ]
     },
     "execution_count": 14,
     "metadata": {},
     "output_type": "execute_result"
    }
   ],
   "source": [
    "import torchvision.transforms as T\n",
    "\n",
    "\n",
    "def tensor_image(t):\n",
    "    return T.ToPILImage()((t * 255).byte())\n",
    "\n",
    "\n",
    "# Convert tensor to PIL Image (scale values to 0-255 and convert to uint8)\n",
    "mean3_pil = tensor_image(mean3)\n",
    "mean3_pil"
   ]
  },
  {
   "cell_type": "markdown",
   "id": "d3bfa343",
   "metadata": {},
   "source": [
    "let's pick a test image"
   ]
  },
  {
   "cell_type": "code",
   "execution_count": 15,
   "id": "2224346a",
   "metadata": {},
   "outputs": [
    {
     "data": {
      "image/jpeg": "[encoded data removed]",
      "image/png": "[encoded data removed]",
      "text/plain": [
       "<PIL.Image.Image image mode=L size=28x28>"
      ]
     },
     "execution_count": 15,
     "metadata": {},
     "output_type": "execute_result"
    }
   ],
   "source": [
    "sample = stacked_threes[32]\n",
    "tensor_image(sample)"
   ]
  },
  {
   "cell_type": "markdown",
   "id": "7659ccbf",
   "metadata": {},
   "source": [
    "we will calculate mean absolute error (L1 norm) the mean square error (L2 norm)"
   ]
  },
  {
   "cell_type": "code",
   "execution_count": 16,
   "id": "92b41540",
   "metadata": {},
   "outputs": [
    {
     "data": {
      "text/plain": [
       "(tensor(0.1350), tensor(0.2499))"
      ]
     },
     "execution_count": 16,
     "metadata": {},
     "output_type": "execute_result"
    }
   ],
   "source": [
    "dist_3_abs = (sample - mean3).abs().mean()\n",
    "dist_3_sqr = ((sample - mean3) ** 2).mean().sqrt()\n",
    "dist_3_abs, dist_3_sqr\n"
   ]
  },
  {
   "cell_type": "code",
   "execution_count": 17,
   "id": "f9a03a57",
   "metadata": {},
   "outputs": [
    {
     "data": {
      "text/plain": [
       "(tensor(0.1233), tensor(0.2432))"
      ]
     },
     "execution_count": 17,
     "metadata": {},
     "output_type": "execute_result"
    }
   ],
   "source": [
    "dist_7_abs = (sample - mean7).abs().mean()\n",
    "dist_7_sqr = ((sample - mean7) ** 2).mean().sqrt()\n",
    "dist_7_abs, dist_7_sqr\n"
   ]
  },
  {
   "cell_type": "code",
   "execution_count": 18,
   "id": "9eb8a96e",
   "metadata": {},
   "outputs": [
    {
     "data": {
      "text/plain": [
       "(tensor(0.1350), tensor(0.0625))"
      ]
     },
     "execution_count": 18,
     "metadata": {},
     "output_type": "execute_result"
    }
   ],
   "source": [
    "# use built in loss functions\n",
    "(\n",
    "    torch.nn.functional.l1_loss(sample.float(), mean3),\n",
    "    torch.nn.functional.mse_loss(sample, mean3),\n",
    ")"
   ]
  },
  {
   "cell_type": "code",
   "execution_count": 19,
   "id": "c5980c7c",
   "metadata": {},
   "outputs": [
    {
     "name": "stdout",
     "output_type": "stream",
     "text": [
      "Is the sample a 3?  tensor(True)\n"
     ]
    }
   ],
   "source": [
    "print(\"Is the sample a 3? \", dist_3_sqr > dist_7_sqr)"
   ]
  },
  {
   "cell_type": "markdown",
   "id": "6692539a",
   "metadata": {},
   "source": [
    "Next, we will will apply our classification on the validation set"
   ]
  },
  {
   "cell_type": "code",
   "execution_count": 20,
   "id": "e99148b3",
   "metadata": {},
   "outputs": [],
   "source": [
    "valid_threes = sorted((path / \"valid\" / \"3\").iterdir())\n",
    "valid_sevens = sorted((path / \"valid\" / \"7\").iterdir())\n",
    "valid_seven_tensors = [torch.as_tensor(array(Image.open(o))) for o in valid_sevens]\n",
    "valid_three_tensors = [torch.as_tensor(array(Image.open(o))) for o in valid_threes]\n",
    "\n",
    "# convert tensor array to individual tensors\n",
    "valid_sevens_stacked = torch.stack(valid_seven_tensors).float() / 255\n",
    "valid_three_stacked = torch.stack(valid_three_tensors).float() / 255\n"
   ]
  },
  {
   "cell_type": "code",
   "execution_count": 21,
   "id": "81471f7c",
   "metadata": {},
   "outputs": [
    {
     "data": {
      "text/plain": [
       "(torch.Size([346, 28, 28]), torch.Size([353, 28, 28]))"
      ]
     },
     "execution_count": 21,
     "metadata": {},
     "output_type": "execute_result"
    }
   ],
   "source": [
    "valid_three_stacked.shape, valid_sevens_stacked.shape"
   ]
  },
  {
   "cell_type": "markdown",
   "id": "76c6afd2",
   "metadata": {},
   "source": [
    "Define our loss function with l1 loss"
   ]
  },
  {
   "cell_type": "code",
   "execution_count": 22,
   "id": "742ff78f",
   "metadata": {},
   "outputs": [
    {
     "data": {
      "text/plain": [
       "tensor(0.1350)"
      ]
     },
     "execution_count": 22,
     "metadata": {},
     "output_type": "execute_result"
    }
   ],
   "source": [
    "# loss function\n",
    "def mnist_l1_loss(a, b):\n",
    "    return (a - b).abs().mean((-1, -2))\n",
    "\n",
    "\n",
    "mnist_l1_loss(sample, mean3)"
   ]
  },
  {
   "cell_type": "code",
   "execution_count": 23,
   "id": "631bc46d",
   "metadata": {},
   "outputs": [
    {
     "data": {
      "text/plain": [
       "torch.Size([346])"
      ]
     },
     "execution_count": 23,
     "metadata": {},
     "output_type": "execute_result"
    }
   ],
   "source": [
    "valid_three_distance = mnist_l1_loss(valid_three_stacked, mean3)\n",
    "\n",
    "valid_three_distance.shape"
   ]
  },
  {
   "cell_type": "code",
   "execution_count": 24,
   "id": "b6400cef",
   "metadata": {},
   "outputs": [
    {
     "data": {
      "text/plain": [
       "torch.Size([346, 28, 28])"
      ]
     },
     "execution_count": 24,
     "metadata": {},
     "output_type": "execute_result"
    }
   ],
   "source": [
    "# leverage broadcast to calculate the distance between samples and the idea 3\n",
    "(valid_three_stacked - mean3).shape"
   ]
  },
  {
   "cell_type": "markdown",
   "id": "72f8e776",
   "metadata": {},
   "source": [
    "classify each sample in the validation set, calculate the accuracy"
   ]
  },
  {
   "cell_type": "code",
   "execution_count": 25,
   "id": "63d7581f",
   "metadata": {},
   "outputs": [
    {
     "data": {
      "text/plain": [
       "(tensor(0.9335), tensor(0.9972), tensor(0.9653))"
      ]
     },
     "execution_count": 25,
     "metadata": {},
     "output_type": "execute_result"
    }
   ],
   "source": [
    "def is_3(x):\n",
    "    return mnist_l1_loss(x, mean3) < mnist_l1_loss(x, mean7)\n",
    "\n",
    "\n",
    "accuracy_3s = is_3(valid_three_stacked).float().mean()\n",
    "accuracy_7s = (1 - is_3(valid_sevens_stacked).float()).mean()\n",
    "\n",
    "accuracy_3s, accuracy_7s, (accuracy_3s + accuracy_7s) / 2\n"
   ]
  },
  {
   "cell_type": "markdown",
   "id": "3a7df7ca",
   "metadata": {},
   "source": [
    "we can see that the accuracy is very high in both cases."
   ]
  },
  {
   "cell_type": "markdown",
   "id": "0fbe57cd",
   "metadata": {},
   "source": [
    "### Train a linear model for classification"
   ]
  },
  {
   "cell_type": "markdown",
   "id": "3526a6aa",
   "metadata": {},
   "source": [
    "Prepare the training data"
   ]
  },
  {
   "cell_type": "code",
   "execution_count": 26,
   "id": "8e0b5fba",
   "metadata": {},
   "outputs": [
    {
     "data": {
      "text/plain": [
       "(torch.Size([709, 784]), torch.Size([346, 28, 28]), torch.Size([363, 28, 28]))"
      ]
     },
     "execution_count": 26,
     "metadata": {},
     "output_type": "execute_result"
    }
   ],
   "source": [
    "# concat all images into a tensor, flatten each image into an array\n",
    "train_x = torch.cat([stacked_threes, stacked_sevens]).view(-1, 28 * 28)\n",
    "train_x.shape, stacked_threes.shape, stacked_sevens.shape"
   ]
  },
  {
   "cell_type": "markdown",
   "id": "cb9d707a",
   "metadata": {},
   "source": [
    "We will create labels, where 1s are three and 0s are seven."
   ]
  },
  {
   "cell_type": "code",
   "execution_count": 27,
   "id": "e9e17774",
   "metadata": {},
   "outputs": [
    {
     "data": {
      "text/plain": [
       "torch.Size([709, 1])"
      ]
     },
     "execution_count": 27,
     "metadata": {},
     "output_type": "execute_result"
    }
   ],
   "source": [
    "train_y = torch.tensor([1] * len(threes) + [0] * len(sevens)).unsqueeze(1)\n",
    "train_y.shape\n"
   ]
  },
  {
   "cell_type": "markdown",
   "id": "bc338516",
   "metadata": {},
   "source": [
    "we need to put x and y together into `(x,y)` tuples"
   ]
  },
  {
   "cell_type": "code",
   "execution_count": 28,
   "id": "91f679a0",
   "metadata": {},
   "outputs": [
    {
     "data": {
      "text/plain": [
       "(torch.Size([784]), tensor([1]))"
      ]
     },
     "execution_count": 28,
     "metadata": {},
     "output_type": "execute_result"
    }
   ],
   "source": [
    "dset = list(zip(train_x, train_y))\n",
    "x, y = dset[0]\n",
    "x.shape, y"
   ]
  },
  {
   "cell_type": "markdown",
   "id": "9b0228cd",
   "metadata": {},
   "source": [
    "Prepare the validation set"
   ]
  },
  {
   "cell_type": "code",
   "execution_count": 29,
   "id": "cc2b0dba",
   "metadata": {},
   "outputs": [],
   "source": [
    "valid_x = torch.cat([valid_three_stacked, valid_sevens_stacked]).view(-1, 28 * 28)\n",
    "valid_y = torch.tensor(\n",
    "    [1] * len(valid_three_stacked) + [0] * len(valid_sevens_stacked)\n",
    ").unsqueeze(1)\n",
    "# zip them together\n",
    "valid_dset = list(zip(valid_x, valid_y))"
   ]
  },
  {
   "cell_type": "markdown",
   "id": "62884c27",
   "metadata": {},
   "source": [
    "initialize weights"
   ]
  },
  {
   "cell_type": "code",
   "execution_count": 30,
   "id": "73676785",
   "metadata": {},
   "outputs": [],
   "source": [
    "def init_params(size, std=1.0):\n",
    "    return (torch.randn(size) * std).requires_grad_()\n",
    "\n",
    "\n",
    "weights = init_params((28 * 28, 1))\n",
    "bias = init_params(1)"
   ]
  },
  {
   "cell_type": "markdown",
   "id": "a3926d5e",
   "metadata": {},
   "source": [
    "calculate the prediction"
   ]
  },
  {
   "cell_type": "code",
   "execution_count": 31,
   "id": "f52802bc",
   "metadata": {},
   "outputs": [
    {
     "data": {
      "text/plain": [
       "tensor([10.6083], grad_fn=<AddBackward0>)"
      ]
     },
     "execution_count": 31,
     "metadata": {},
     "output_type": "execute_result"
    }
   ],
   "source": [
    "(train_x[0] * weights.T).sum() + bias\n"
   ]
  },
  {
   "cell_type": "markdown",
   "id": "344d307c",
   "metadata": {},
   "source": [
    "instead of use for-loop, we use matrix multiplication, `@` in pytorch"
   ]
  },
  {
   "cell_type": "code",
   "execution_count": 32,
   "id": "65b2d3e3",
   "metadata": {},
   "outputs": [],
   "source": [
    "def linear1(xb):\n",
    "    return xb @ weights + bias\n",
    "\n",
    "\n",
    "preds = linear1(train_x)"
   ]
  },
  {
   "cell_type": "markdown",
   "id": "d977dfd7",
   "metadata": {},
   "source": [
    "predictions are correct when they are the same with the labels, if the prediction is greater than 0, then it is three, otherwise 1"
   ]
  },
  {
   "cell_type": "code",
   "execution_count": 33,
   "id": "a7023c58",
   "metadata": {},
   "outputs": [
    {
     "data": {
      "text/plain": [
       "0.4668547213077545"
      ]
     },
     "execution_count": 33,
     "metadata": {},
     "output_type": "execute_result"
    }
   ],
   "source": [
    "corrects = (preds > 0.0).float() == train_y\n",
    "corrects.float().mean().item()"
   ]
  },
  {
   "cell_type": "markdown",
   "id": "75748351",
   "metadata": {},
   "source": [
    "We need a loss function now to perform SGD, but accuracy can't serve as a loss function, because small change in weights is insignificant to change the results of accuracy."
   ]
  },
  {
   "cell_type": "code",
   "execution_count": 34,
   "id": "025ce758",
   "metadata": {},
   "outputs": [
    {
     "data": {
      "text/plain": [
       "0.4668547213077545"
      ]
     },
     "execution_count": 34,
     "metadata": {},
     "output_type": "execute_result"
    }
   ],
   "source": [
    "with torch.no_grad():\n",
    "    weights[0] *= 1.01\n",
    "\n",
    "\n",
    "preds = linear1(train_x)\n",
    "((preds > 0.0).float() == train_y).float().mean().item()\n"
   ]
  },
  {
   "cell_type": "markdown",
   "id": "f0ea162a",
   "metadata": {},
   "source": [
    "how `torch.where` work?"
   ]
  },
  {
   "cell_type": "code",
   "execution_count": 35,
   "id": "b197393d",
   "metadata": {},
   "outputs": [
    {
     "data": {
      "text/plain": [
       "tensor([0.1000, 0.4000, 0.8000, 0.0000])"
      ]
     },
     "execution_count": 35,
     "metadata": {},
     "output_type": "execute_result"
    }
   ],
   "source": [
    "trgts = torch.tensor([1, 0, 1, 1])\n",
    "prds = torch.tensor([0.9, 0.4, 0.2, 1])\n",
    "torch.where(trgts == 1, 1 - prds, prds)"
   ]
  },
  {
   "cell_type": "markdown",
   "id": "360b6ec7",
   "metadata": {},
   "source": [
    "we define a loss function as the distance between prediction and the true values with `where`"
   ]
  },
  {
   "cell_type": "code",
   "execution_count": 36,
   "id": "0d32a955",
   "metadata": {},
   "outputs": [],
   "source": [
    "def mnist_loss_v1(predictions, targets):\n",
    "    return torch.where(targets == 1, 1 - predictions, predictions).mean()"
   ]
  },
  {
   "cell_type": "markdown",
   "id": "5262ca90",
   "metadata": {},
   "source": [
    "we use sigmoid to restrict input to the loss function to 0 and 1"
   ]
  },
  {
   "cell_type": "code",
   "execution_count": 37,
   "id": "dcbbcf67",
   "metadata": {},
   "outputs": [],
   "source": [
    "def sigmoid(x):\n",
    "    return 1 / (1 + torch.exp(-x))\n",
    "\n",
    "\n",
    "def mnist_loss(predictions, targets):\n",
    "    predictions = predictions.sigmoid()\n",
    "    return torch.where(targets == 1, 1 - predictions, predictions).mean()\n"
   ]
  },
  {
   "cell_type": "markdown",
   "id": "768e833e",
   "metadata": {},
   "source": [
    "we use `DataLoader` to handle shuffling between episodes when training in batches"
   ]
  },
  {
   "cell_type": "code",
   "execution_count": 38,
   "id": "e4524718",
   "metadata": {},
   "outputs": [
    {
     "data": {
      "text/plain": [
       "[tensor([ 1,  5,  8,  2, 13]),\n",
       " tensor([ 6, 10, 14,  4,  3]),\n",
       " tensor([ 7,  9, 11,  0, 12])]"
      ]
     },
     "execution_count": 38,
     "metadata": {},
     "output_type": "execute_result"
    }
   ],
   "source": [
    "from torch.utils.data import DataLoader\n",
    "\n",
    "coll = range(15)\n",
    "dl = DataLoader(coll, batch_size=5, shuffle=True)\n",
    "list(dl)\n"
   ]
  },
  {
   "cell_type": "markdown",
   "id": "574521a3",
   "metadata": {},
   "source": [
    "However, an collection like above is not enough, we need both independent and dependent vars (training data and target values), which is similar to this:"
   ]
  },
  {
   "cell_type": "code",
   "execution_count": 39,
   "id": "6ac657c8",
   "metadata": {},
   "outputs": [
    {
     "data": {
      "text/plain": [
       "([(0, 'a'), (1, 'b'), (2, 'c')],\n",
       " [[tensor([10,  5, 19, 18,  2, 25]), ('k', 'f', 't', 's', 'c', 'z')],\n",
       "  [tensor([14,  7,  3,  4,  6, 17]), ('o', 'h', 'd', 'e', 'g', 'r')],\n",
       "  [tensor([13, 22, 24,  8, 20,  9]), ('n', 'w', 'y', 'i', 'u', 'j')],\n",
       "  [tensor([23, 11,  0, 12, 21, 15]), ('x', 'l', 'a', 'm', 'v', 'p')],\n",
       "  [tensor([16,  1]), ('q', 'b')]])"
      ]
     },
     "execution_count": 39,
     "metadata": {},
     "output_type": "execute_result"
    }
   ],
   "source": [
    "import string\n",
    "\n",
    "ds = list(enumerate(string.ascii_lowercase))\n",
    "dl = DataLoader(ds, batch_size=6, shuffle=True)\n",
    "ds[:3], list(dl)"
   ]
  },
  {
   "cell_type": "markdown",
   "id": "f09c2f7f",
   "metadata": {},
   "source": [
    "Now we will implement SGD, our algorithm will look like this:\n",
    "```python\n",
    "for x,y in dl:\n",
    "    pred = model(x)\n",
    "    loss = loss_func(pred, y)\n",
    "    loss.backward()\n",
    "    parameters -= parameters.grad * lr\n",
    "```"
   ]
  },
  {
   "cell_type": "code",
   "execution_count": 40,
   "id": "d80a6b21",
   "metadata": {},
   "outputs": [
    {
     "data": {
      "text/plain": [
       "(torch.Size([256, 784]), torch.Size([256, 1]))"
      ]
     },
     "execution_count": 40,
     "metadata": {},
     "output_type": "execute_result"
    }
   ],
   "source": [
    "weights = init_params((28 * 28, 1))\n",
    "bias = init_params(1)\n",
    "\n",
    "\n",
    "dl = DataLoader(dset, batch_size=256)\n",
    "valid_dl = DataLoader(valid_dset, batch_size=256)\n",
    "xb, yb = next(iter(dl))\n",
    "xb.shape, yb.shape\n"
   ]
  },
  {
   "cell_type": "markdown",
   "id": "0d40a894",
   "metadata": {},
   "source": [
    "at a basic level, we implement SGD as such"
   ]
  },
  {
   "cell_type": "code",
   "execution_count": 41,
   "id": "7418775d",
   "metadata": {},
   "outputs": [],
   "source": [
    "def calc_grad(xb, yb, model):\n",
    "    preds = model(xb)\n",
    "    loss = mnist_loss(preds, yb)\n",
    "    loss.backward()\n"
   ]
  },
  {
   "cell_type": "markdown",
   "id": "9a89e65f",
   "metadata": {},
   "source": [
    "notice how the gradients have changed as a result of SGD"
   ]
  },
  {
   "cell_type": "code",
   "execution_count": 42,
   "id": "0f7cdb0d",
   "metadata": {},
   "outputs": [
    {
     "name": "stdout",
     "output_type": "stream",
     "text": [
      "tensor(-0.0187) tensor([-0.1239])\n",
      "tensor(-0.0374) tensor([-0.2478])\n"
     ]
    }
   ],
   "source": [
    "batch = train_x[:4]\n",
    "calc_grad(batch, train_y[:4], linear1)\n",
    "print(weights.grad.mean(), bias.grad)\n",
    "calc_grad(batch, train_y[:4], linear1)\n",
    "print(weights.grad.mean(), bias.grad)"
   ]
  },
  {
   "cell_type": "markdown",
   "id": "1dcfff16",
   "metadata": {},
   "source": [
    "Put it all together"
   ]
  },
  {
   "cell_type": "code",
   "execution_count": 43,
   "id": "a7656a03",
   "metadata": {},
   "outputs": [],
   "source": [
    "# train all samples in the dataloader\n",
    "def train_epoch(model, lr, params):\n",
    "    for xb, yb in dl:\n",
    "        calc_grad(xb, yb, model)\n",
    "        for p in params:\n",
    "            p.data -= p.grad * lr\n",
    "            p.grad.zero_()\n",
    "\n",
    "\n",
    "# calculate accuracy in a batch\n",
    "def batch_accuracy(xb, yb):\n",
    "    preds = xb.sigmoid()\n",
    "    correct = (preds > 0.5) == yb\n",
    "    return correct.float().mean()\n",
    "\n",
    "\n",
    "# calculate accuracy for all batches in the validation dataloader\n",
    "def validate_epoch(model):\n",
    "    accs = [batch_accuracy(model(xb), yb) for xb, yb in valid_dl]\n",
    "    return round(torch.stack(accs).mean().item(), 4)\n"
   ]
  },
  {
   "cell_type": "code",
   "execution_count": 44,
   "id": "327a0bb6",
   "metadata": {},
   "outputs": [
    {
     "data": {
      "text/plain": [
       "0.28"
      ]
     },
     "execution_count": 44,
     "metadata": {},
     "output_type": "execute_result"
    }
   ],
   "source": [
    "validate_epoch(linear1)"
   ]
  },
  {
   "cell_type": "markdown",
   "id": "f4d59353",
   "metadata": {},
   "source": [
    "As shown above, our starting point accuracy is `validate_epoch(linear1)`. We will train 1 epoch."
   ]
  },
  {
   "cell_type": "code",
   "execution_count": 45,
   "id": "0fc58f84",
   "metadata": {},
   "outputs": [
    {
     "data": {
      "text/plain": [
       "0.3951"
      ]
     },
     "execution_count": 45,
     "metadata": {},
     "output_type": "execute_result"
    }
   ],
   "source": [
    "lr = 0.3\n",
    "params = weights, bias\n",
    "train_epoch(linear1, lr, params)\n",
    "validate_epoch(linear1)"
   ]
  },
  {
   "cell_type": "markdown",
   "id": "ea976a22",
   "metadata": {},
   "source": [
    "The accuracy has improved. We will train for another 20 epochs."
   ]
  },
  {
   "cell_type": "code",
   "execution_count": 46,
   "id": "4b4851bc",
   "metadata": {},
   "outputs": [
    {
     "name": "stdout",
     "output_type": "stream",
     "text": [
      "0.4107 0.4172 0.425 0.4355 0.4472 0.4472 0.4589 0.4646 0.4698 0.4786 0.4821 0.4906 0.4977 0.5126 0.5337 0.5664 0.6048 0.673 0.7423 0.7887 "
     ]
    }
   ],
   "source": [
    "for i in range(20):\n",
    "    train_epoch(linear1, lr, params)\n",
    "    print(validate_epoch(linear1), end=\" \")\n"
   ]
  },
  {
   "cell_type": "markdown",
   "id": "9cdbdce6",
   "metadata": {},
   "source": [
    "Next, we will create an optimizer that handles SGD"
   ]
  },
  {
   "cell_type": "code",
   "execution_count": 47,
   "id": "b9feebaf",
   "metadata": {},
   "outputs": [],
   "source": [
    "class BasicOptim:\n",
    "    def __init__(self, params, lr):\n",
    "        self.params, self.lr = list(params), lr\n",
    "\n",
    "    def step(self, *args, **kwargs):\n",
    "        for p in self.params:\n",
    "            p.data -= p.grad.data * self.lr\n",
    "\n",
    "    def zero_grad(self, *args, **kwargs):\n",
    "        for p in self.params:\n",
    "            p.grad = None"
   ]
  },
  {
   "cell_type": "markdown",
   "id": "a813519d",
   "metadata": {},
   "source": [
    "use `nn.Linear` to create a linear function that has helper function to extract parameters"
   ]
  },
  {
   "cell_type": "code",
   "execution_count": 48,
   "id": "cb83fd31",
   "metadata": {},
   "outputs": [],
   "source": [
    "linear_model = torch.nn.Linear(28 * 28, 1)\n",
    "opt = BasicOptim(linear_model.parameters(), lr)"
   ]
  },
  {
   "cell_type": "markdown",
   "id": "f3bf7a2a",
   "metadata": {},
   "source": [
    "rewrite the training loop with the optimizer"
   ]
  },
  {
   "cell_type": "code",
   "execution_count": 49,
   "id": "177c6885",
   "metadata": {},
   "outputs": [
    {
     "name": "stdout",
     "output_type": "stream",
     "text": [
      "0.8543 0.8529 0.9574 0.9717 0.9756 0.9756 0.9751 0.9751 0.9777 0.9777 0.9777 0.979 0.979 0.979 0.979 0.979 0.979 0.9803 0.9803 0.9816 "
     ]
    }
   ],
   "source": [
    "def train_epoch(model):\n",
    "    for xb, yb in dl:\n",
    "        calc_grad(xb, yb, model)\n",
    "        opt.step()\n",
    "        opt.zero_grad()\n",
    "\n",
    "\n",
    "def train_model(model, epochs):\n",
    "    for i in range(epochs):\n",
    "        train_epoch(model)\n",
    "        print(validate_epoch(model), end=\" \")\n",
    "\n",
    "\n",
    "train_model(linear_model, 20)"
   ]
  },
  {
   "cell_type": "markdown",
   "id": "bb2d752f",
   "metadata": {},
   "source": [
    "### Train an NN for classification"
   ]
  },
  {
   "cell_type": "markdown",
   "id": "033dce50",
   "metadata": {},
   "source": [
    "Now we are in a position to introduce neural network with non-linearity with a `max` function"
   ]
  },
  {
   "cell_type": "code",
   "execution_count": 50,
   "id": "edc00947",
   "metadata": {},
   "outputs": [],
   "source": [
    "w1 = init_params((28 * 28, 30))\n",
    "b1 = init_params(30)\n",
    "w2 = init_params((30, 1))\n",
    "b2 = init_params(1)\n",
    "\n",
    "\n",
    "def simple_net(xb):\n",
    "    res = xb @ w1 + b1\n",
    "    res = res.max(torch.tensor(0.0))\n",
    "    res = res @ w2 + b2\n",
    "    return res\n"
   ]
  },
  {
   "cell_type": "code",
   "execution_count": 51,
   "id": "8f57fea0",
   "metadata": {},
   "outputs": [],
   "source": [
    "import matplotlib.pyplot as plt\n",
    "\n",
    "\n",
    "def plot_function(f, tx=None, ty=None, title=None, min=-2, max=2, figsize=(6, 4)):\n",
    "    x = torch.linspace(min, max, 100)\n",
    "    fig, ax = plt.subplots(figsize=figsize)\n",
    "    ax.plot(x, f(x))\n",
    "    if tx is not None:\n",
    "        ax.set_xlabel(tx)\n",
    "    if ty is not None:\n",
    "        ax.set_ylabel(ty)\n",
    "    if title is not None:\n",
    "        ax.set_title(title)\n"
   ]
  },
  {
   "cell_type": "code",
   "execution_count": 52,
   "id": "dd9171e8",
   "metadata": {},
   "outputs": [
    {
     "data": {
      "image/png": "[encoded data removed]",
      "text/plain": [
       "<Figure size 600x400 with 1 Axes>"
      ]
     },
     "metadata": {},
     "output_type": "display_data"
    }
   ],
   "source": [
    "plot_function(torch.nn.functional.relu)"
   ]
  },
  {
   "cell_type": "code",
   "execution_count": 53,
   "id": "ba17c261",
   "metadata": {},
   "outputs": [
    {
     "name": "stdout",
     "output_type": "stream",
     "text": [
      "0.599 0.7904 0.888 0.9375 0.9552 0.9644 0.9709 0.9717 0.9704 0.9743 0.9743 0.9743 0.9756 0.9756 0.9769 0.9769 0.9795 0.9795 0.9795 0.9795 "
     ]
    }
   ],
   "source": [
    "neural_net_example = torch.nn.Sequential(\n",
    "    torch.nn.Linear(28 * 28, 30), torch.nn.ReLU(), torch.nn.Linear(30, 1)\n",
    ")\n",
    "\n",
    "opt = BasicOptim(neural_net_example.parameters(), lr=0.1)\n",
    "\n",
    "\n",
    "train_model(neural_net_example, 20)\n"
   ]
  },
  {
   "cell_type": "markdown",
   "id": "bc58547f",
   "metadata": {},
   "source": [
    "# Collaborative Filtering"
   ]
  },
  {
   "cell_type": "markdown",
   "id": "2e4d67e0",
   "metadata": {},
   "source": []
  }
 ],
 "metadata": {
  "kernelspec": {
   "display_name": "ml",
   "language": "python",
   "name": "python3"
  },
  "language_info": {
   "codemirror_mode": {
    "name": "ipython",
    "version": 3
   },
   "file_extension": ".py",
   "mimetype": "text/x-python",
   "name": "python",
   "nbconvert_exporter": "python",
   "pygments_lexer": "ipython3",
   "version": "3.12.3"
  }
 },
 "nbformat": 4,
 "nbformat_minor": 5
}
