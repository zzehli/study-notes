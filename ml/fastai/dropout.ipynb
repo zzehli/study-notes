{
 "cells": [
  {
   "cell_type": "markdown",
   "id": "74eb9a6e",
   "metadata": {},
   "source": [
    "Dropout is a **regularization** technique to prevent overfitting. According to wikipedia, regularization is a general method to convert answer to a problem to a simpler one. Dropout works by randomly change activations to zero at training time. Intuitively, this technique makes sure all neurons actively work toward the output.\n",
    "\n",
    "A problem of dropout is the total sum of activations become less after dropout. Therefore, if we apply a dropout rate of $p$ to all activations, we rescale the *rest* of activations by dividing them by $1 - p$ so that their sum are the same as before. For example, say the sum of activations is $s$, and we apply a dropout rate of $p$, we will rescale the rest of activations by performing the following: \n",
    "$$\n",
    "\\frac{s - sp}{1 - p} = s\n",
    "$$ \n",
    "\n",
    "In the following example, we have a minimum example of applying dropout with a probability of 50% to a 2d tensor. We can see that some of the elements are turned into 0 and the remaining terms are doubled."
   ]
  },
  {
   "cell_type": "code",
   "execution_count": 6,
   "id": "3ced121f",
   "metadata": {},
   "outputs": [
    {
     "name": "stdout",
     "output_type": "stream",
     "text": [
      "Input:  tensor([[2., 4., 6., 8.]])\n",
      "After dropout:  tensor([[ 0.,  8., 12.,  0.]])\n",
      "Input:  tensor([[2., 4., 6., 8.]])\n",
      "After dropout:  tensor([[ 4.,  8., 12., 16.]])\n",
      "Input:  tensor([[2., 4., 6., 8.]])\n",
      "After dropout:  tensor([[ 4.,  0., 12., 16.]])\n",
      "Input:  tensor([[2., 4., 6., 8.]])\n",
      "After dropout:  tensor([[ 0.,  8., 12.,  0.]])\n",
      "Input:  tensor([[2., 4., 6., 8.]])\n",
      "After dropout:  tensor([[ 0.,  0.,  0., 16.]])\n"
     ]
    }
   ],
   "source": [
    "import torch\n",
    "import torch.nn as nn\n",
    "\n",
    "x = torch.tensor([[2.0, 4.0, 6.0, 8.0]])\n",
    "\n",
    "# Step 2: Define dropout with p=0.5 (50% chance of zeroing each value)\n",
    "dropout = nn.Dropout(p=0.5)\n",
    "\n",
    "for i in range(5):\n",
    "    dropout.train()  # make sure dropout is \"on\"\n",
    "    y = dropout(x)\n",
    "\n",
    "    print(\"Input: \", x)\n",
    "    print(\"After dropout: \", y)"
   ]
  }
 ],
 "metadata": {
  "kernelspec": {
   "display_name": "ml",
   "language": "python",
   "name": "python3"
  },
  "language_info": {
   "codemirror_mode": {
    "name": "ipython",
    "version": 3
   },
   "file_extension": ".py",
   "mimetype": "text/x-python",
   "name": "python",
   "nbconvert_exporter": "python",
   "pygments_lexer": "ipython3",
   "version": "3.12.3"
  }
 },
 "nbformat": 4,
 "nbformat_minor": 5
}
