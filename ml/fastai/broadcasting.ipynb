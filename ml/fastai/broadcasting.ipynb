{
 "cells": [
  {
   "cell_type": "markdown",
   "id": "f911d23b",
   "metadata": {},
   "source": [
    "Broadcasting is a mechanism in numpy and pytorch that allows arithmetic operation on two arrays (including high dimensional) of different shapes possible. It makes adjustments to the array shapes to make them compatible. By default, numpy operations are done on an element-by-element basis, broadcasting can be seen as a way to conform to turn a smaller array to a bigger one before performing element-wise operations. Under the hood, broadcasting provides a means of vectorizing array operations so that looping occurs in C instead of Python. The basic rules of broadcasting is the following: two dimensions are compatible when\n",
    "1. they are equal, or\n",
    "2. one of them is 1 (we are not referring to the # of dimension, but the *size* of each dimension)\n",
    "\n",
    "The resulting dimensions are calculated as the following:\n",
    "\n",
    "1. If the number of dimensions are not equal, prepend 1 to the dimensions of the array with fewer dimensions to make them equal length\n",
    "2. Then, for each dimension size, the resulting dimension size is the max of the sizes of the two along that dimension\n",
    "\n"
   ]
  },
  {
   "cell_type": "markdown",
   "id": "4679e96a",
   "metadata": {},
   "source": [
    "Before we diving into broadcasting, we address a common misunderstanding of numpy array and python array. The following array dimensions conform to the rules above since ar2 has dimension 1, but the array type is python list, not a numpy array, therefore broadcasting does not apply here. Instead, what we got is list repetition."
   ]
  },
  {
   "cell_type": "code",
   "execution_count": 43,
   "id": "c563183b",
   "metadata": {},
   "outputs": [
    {
     "data": {
      "text/plain": [
       "[1, 3, 4, 1, 3, 4]"
      ]
     },
     "execution_count": 43,
     "metadata": {},
     "output_type": "execute_result"
    }
   ],
   "source": [
    "ar1 = [1, 3, 4]  # Python list, not a NumPy array\n",
    "ar2 = 2\n",
    "ar1 * ar2"
   ]
  },
  {
   "cell_type": "markdown",
   "id": "0325736d",
   "metadata": {},
   "source": [
    "# Numpy Array\n",
    "Now we look at a basic example of array broadcasting in numpy (same for pytorch). Here the `ar2` has dimension 1, in multiplication, it is stretched to match the size of `ar1` and an element-wise multiplication is performed."
   ]
  },
  {
   "cell_type": "code",
   "execution_count": null,
   "id": "a6ce4269",
   "metadata": {},
   "outputs": [
    {
     "data": {
      "text/plain": [
       "array([2, 6, 8])"
      ]
     },
     "execution_count": 44,
     "metadata": {},
     "output_type": "execute_result"
    }
   ],
   "source": [
    "import numpy as np\n",
    "\n",
    "ar1 = np.array([1, 3, 4])\n",
    "ar2 = 2\n",
    "ar1 * ar2"
   ]
  },
  {
   "cell_type": "markdown",
   "id": "fddf6cd3",
   "metadata": {},
   "source": [
    "Note that this is also different from dot product, although in this case the result will be the same."
   ]
  },
  {
   "cell_type": "code",
   "execution_count": 45,
   "id": "a16e6a8d",
   "metadata": {},
   "outputs": [
    {
     "data": {
      "text/plain": [
       "array([2, 6, 8])"
      ]
     },
     "execution_count": 45,
     "metadata": {},
     "output_type": "execute_result"
    }
   ],
   "source": [
    "np.dot(ar2, ar1)"
   ]
  },
  {
   "cell_type": "markdown",
   "id": "0796df8a",
   "metadata": {},
   "source": [
    "This is apparent when we perform dot product and element-wise multiplication on two arrays of the same shape:"
   ]
  },
  {
   "cell_type": "code",
   "execution_count": null,
   "id": "af55344b",
   "metadata": {},
   "outputs": [
    {
     "data": {
      "text/plain": [
       "(np.int64(22), array([ 1,  9, 12]))"
      ]
     },
     "execution_count": 46,
     "metadata": {},
     "output_type": "execute_result"
    }
   ],
   "source": [
    "ar3 = [1, 3, 3]\n",
    "np.dot(ar1, ar3), ar1 * ar3"
   ]
  },
  {
   "cell_type": "markdown",
   "id": "7a60b2e3",
   "metadata": {},
   "source": [
    "A simple way to understand the how broadcasting works is two align the dimensions of the two arrays:\n",
    "```\n",
    "A      (4d array):  8 x 1 x 6 x 1\n",
    "B      (3d array):      7 x 1 x 5\n",
    "Result (4d array):  8 x 7 x 6 x 5\n",
    "```\n",
    "Here we can see that we are performing operation on a 4d and a 3d array. We align the dimensions, if the dimension size is 1, we will stretch that dimension to match the larger size. Notice that all we care about is the size of a particular dimension, not the # of dimensions. Also, broadcasting is done the same way regardless of what operation we perform on them."
   ]
  },
  {
   "cell_type": "code",
   "execution_count": null,
   "id": "34d7e46d",
   "metadata": {},
   "outputs": [
    {
     "data": {
      "text/plain": [
       "((8, 1, 6, 1), (7, 1, 5), (8, 7, 6, 5), (8, 7, 6, 5))"
      ]
     },
     "execution_count": 48,
     "metadata": {},
     "output_type": "execute_result"
    }
   ],
   "source": [
    "ar4 = np.random.rand(8, 1, 6, 1)\n",
    "ar5 = np.random.rand(7, 1, 5)\n",
    "ar4.shape, ar5.shape, (ar4 + ar5).shape, (ar4 * ar5).shape\n"
   ]
  },
  {
   "cell_type": "markdown",
   "id": "f94776a1",
   "metadata": {},
   "source": [
    "Next, we look at examples where broadcasting doesn't apply."
   ]
  },
  {
   "cell_type": "code",
   "execution_count": null,
   "id": "6e25bedb",
   "metadata": {},
   "outputs": [
    {
     "name": "stdout",
     "output_type": "stream",
     "text": [
      "(3,) (2,)\n"
     ]
    },
    {
     "ename": "ValueError",
     "evalue": "operands could not be broadcast together with shapes (3,) (2,) ",
     "output_type": "error",
     "traceback": [
      "\u001b[31m---------------------------------------------------------------------------\u001b[39m",
      "\u001b[31mValueError\u001b[39m                                Traceback (most recent call last)",
      "\u001b[36mCell\u001b[39m\u001b[36m \u001b[39m\u001b[32mIn[54]\u001b[39m\u001b[32m, line 4\u001b[39m\n\u001b[32m      2\u001b[39m l2 = np.array([\u001b[32m1\u001b[39m, \u001b[32m3\u001b[39m])\n\u001b[32m      3\u001b[39m \u001b[38;5;28mprint\u001b[39m(l1.shape, l2.shape)\n\u001b[32m----> \u001b[39m\u001b[32m4\u001b[39m \u001b[43ml1\u001b[49m\u001b[43m \u001b[49m\u001b[43m*\u001b[49m\u001b[43m \u001b[49m\u001b[43ml2\u001b[49m\n",
      "\u001b[31mValueError\u001b[39m: operands could not be broadcast together with shapes (3,) (2,) "
     ]
    }
   ],
   "source": [
    "l1 = np.array([1, 2, 3])\n",
    "l2 = np.array([1, 3])\n",
    "print(l1.shape, l2.shape)\n",
    "l1 * l2"
   ]
  },
  {
   "cell_type": "markdown",
   "id": "91a3aef1",
   "metadata": {},
   "source": [
    "This operation fails because the size of the dimensions of the two arrays don't align. Although both are 1-d array (# of dimension match), but we have:\n",
    "```\n",
    "A      (1d array):  3\n",
    "B      (1d array):  2\n",
    "```\n",
    "For dimension 1, we have a 3 and a 2, this doesn't work since one of them needs to be 1, or both the same, according to the rule above."
   ]
  },
  {
   "cell_type": "code",
   "execution_count": 64,
   "id": "132c383a",
   "metadata": {},
   "outputs": [
    {
     "ename": "ValueError",
     "evalue": "operands could not be broadcast together with shapes (2,) (4,3) ",
     "output_type": "error",
     "traceback": [
      "\u001b[31m---------------------------------------------------------------------------\u001b[39m",
      "\u001b[31mValueError\u001b[39m                                Traceback (most recent call last)",
      "\u001b[36mCell\u001b[39m\u001b[36m \u001b[39m\u001b[32mIn[64]\u001b[39m\u001b[32m, line 2\u001b[39m\n\u001b[32m      1\u001b[39m l3 = np.array([[\u001b[32m1\u001b[39m, \u001b[32m3\u001b[39m, \u001b[32m3\u001b[39m], [\u001b[32m2\u001b[39m, \u001b[32m3\u001b[39m, \u001b[32m3\u001b[39m], [\u001b[32m1\u001b[39m, \u001b[32m3\u001b[39m, \u001b[32m3\u001b[39m], [\u001b[32m2\u001b[39m, \u001b[32m3\u001b[39m, \u001b[32m3\u001b[39m]])\n\u001b[32m----> \u001b[39m\u001b[32m2\u001b[39m \u001b[43ml2\u001b[49m\u001b[43m \u001b[49m\u001b[43m*\u001b[49m\u001b[43m \u001b[49m\u001b[43ml3\u001b[49m\n",
      "\u001b[31mValueError\u001b[39m: operands could not be broadcast together with shapes (2,) (4,3) "
     ]
    }
   ],
   "source": [
    "l3 = np.array([[1, 3, 3], [2, 3, 3], [1, 3, 3], [2, 3, 3]])\n",
    "l2 * l3"
   ]
  },
  {
   "cell_type": "markdown",
   "id": "8fcea09f",
   "metadata": {},
   "source": [
    "Similarly, the above example fails because dimension 1 sizes doesn't align\n",
    "```\n",
    "A      (1d array):     2\n",
    "B      (2d array): 4 x 3\n",
    "```"
   ]
  },
  {
   "cell_type": "markdown",
   "id": "0383e25e",
   "metadata": {},
   "source": [
    "# PyTorch Tensor\n",
    "Broadcasting works the same way in pytorch as numpy."
   ]
  },
  {
   "cell_type": "code",
   "execution_count": null,
   "id": "00ffef8c",
   "metadata": {},
   "outputs": [
    {
     "data": {
      "text/plain": [
       "torch.Size([2, 5, 3])"
      ]
     },
     "execution_count": 69,
     "metadata": {},
     "output_type": "execute_result"
    }
   ],
   "source": [
    "import torch\n",
    "\n",
    "x = torch.empty(1, 3)\n",
    "y = torch.empty(2, 5, 1)\n",
    "(x + y).size()"
   ]
  },
  {
   "cell_type": "markdown",
   "id": "a38e24b8",
   "metadata": {},
   "source": [
    "As a general rule, when defining an array/tensor with dimension sizes, align the from the right to make the reading easier:"
   ]
  },
  {
   "cell_type": "code",
   "execution_count": null,
   "id": "6de614df",
   "metadata": {},
   "outputs": [
    {
     "data": {
      "text/plain": [
       "torch.Size([2, 5, 3])"
      ]
     },
     "execution_count": 70,
     "metadata": {},
     "output_type": "execute_result"
    }
   ],
   "source": [
    "# x = torch.empty(   1, 3)\n",
    "# y = torch.empty(2, 5, 1)\n",
    "(x + y).size()\n"
   ]
  }
 ],
 "metadata": {
  "kernelspec": {
   "display_name": "ml",
   "language": "python",
   "name": "python3"
  },
  "language_info": {
   "codemirror_mode": {
    "name": "ipython",
    "version": 3
   },
   "file_extension": ".py",
   "mimetype": "text/x-python",
   "name": "python",
   "nbconvert_exporter": "python",
   "pygments_lexer": "ipython3",
   "version": "3.12.3"
  }
 },
 "nbformat": 4,
 "nbformat_minor": 5
}
