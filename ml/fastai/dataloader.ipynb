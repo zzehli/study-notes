{
 "cells": [
  {
   "cell_type": "markdown",
   "id": "2121fb25",
   "metadata": {},
   "source": [
    "[`DataLoader`](https://docs.pytorch.org/docs/stable/data.html) is a pytorch class that wraps around a dataset to create a iterator that makes it easy to shuffle and create batches for training."
   ]
  },
  {
   "cell_type": "code",
   "execution_count": 9,
   "id": "4d106503",
   "metadata": {},
   "outputs": [],
   "source": [
    "from torch.utils.data import DataLoader"
   ]
  },
  {
   "cell_type": "code",
   "execution_count": 10,
   "id": "4b023e90",
   "metadata": {},
   "outputs": [
    {
     "data": {
      "text/plain": [
       "([tensor([ 8, 12,  4,  1,  7]),\n",
       "  tensor([ 0,  3,  5, 13,  9]),\n",
       "  tensor([11,  6, 10, 14,  2])],\n",
       " tensor([ 1,  5,  9,  2, 12]))"
      ]
     },
     "execution_count": 10,
     "metadata": {},
     "output_type": "execute_result"
    }
   ],
   "source": [
    "coll = range(15)\n",
    "dl = DataLoader(coll, batch_size=5, shuffle=True)\n",
    "list(dl), next(iter(dl))\n"
   ]
  },
  {
   "cell_type": "markdown",
   "id": "95beadfb",
   "metadata": {},
   "source": [
    "There are two kinds of datasets that can be supplied to a pytorch `DataLoader`, a **iterable-style** dataset or a **map-style** dataset. \n",
    "\n",
    "A iterable dataset can iterable over a data collection. The easiest way to test it is to use `iter()` over the dataset. For example, a range object is a iterable dataset:"
   ]
  },
  {
   "cell_type": "code",
   "execution_count": 11,
   "id": "97f490e9",
   "metadata": {},
   "outputs": [
    {
     "data": {
      "text/plain": [
       "(range, <range_iterator at 0x7fc7f8111950>)"
      ]
     },
     "execution_count": 11,
     "metadata": {},
     "output_type": "execute_result"
    }
   ],
   "source": [
    "type(coll), iter(coll)"
   ]
  },
  {
   "cell_type": "markdown",
   "id": "24ed1208",
   "metadata": {},
   "source": [
    "A map-style dataset represents a map from (possibly non-integral) indices/keys to data samples (should have key-value pairs). It also implements the `__getitem__()` and `__len__()` methods."
   ]
  },
  {
   "cell_type": "code",
   "execution_count": 12,
   "id": "3fe1d055",
   "metadata": {},
   "outputs": [
    {
     "data": {
      "text/plain": [
       "['o', 'v', 'k', 's', 't', 'p']"
      ]
     },
     "execution_count": 12,
     "metadata": {},
     "output_type": "execute_result"
    }
   ],
   "source": [
    "import string\n",
    "\n",
    "\n",
    "class AlphabetDataset:\n",
    "    def __init__(self, letters):\n",
    "        self.letters = list(letters)\n",
    "\n",
    "    def __len__(self):\n",
    "        return len(self.letters)\n",
    "\n",
    "    def __getitem__(self, idx):\n",
    "        return self.letters[idx]\n",
    "\n",
    "\n",
    "dataset = AlphabetDataset(string.ascii_lowercase)\n",
    "dataloader = DataLoader(dataset, batch_size=6, shuffle=True)\n",
    "next(iter(dataloader))\n"
   ]
  },
  {
   "cell_type": "markdown",
   "id": "9b19035f",
   "metadata": {},
   "source": [
    "or more simply, use a dictionary"
   ]
  },
  {
   "cell_type": "code",
   "execution_count": 13,
   "id": "93194456",
   "metadata": {},
   "outputs": [
    {
     "data": {
      "text/plain": [
       "('c', 26)"
      ]
     },
     "execution_count": 13,
     "metadata": {},
     "output_type": "execute_result"
    }
   ],
   "source": [
    "dt = dict(enumerate(string.ascii_lowercase))\n",
    "dt.__getitem__(2), dt.__len__()"
   ]
  },
  {
   "cell_type": "code",
   "execution_count": 14,
   "id": "45a0425d",
   "metadata": {},
   "outputs": [
    {
     "data": {
      "text/plain": [
       "['w', 's', 't', 'm', 'c', 'd']"
      ]
     },
     "execution_count": 14,
     "metadata": {},
     "output_type": "execute_result"
    }
   ],
   "source": [
    "dicLoader = DataLoader(dt, batch_size=6, shuffle=True)\n",
    "next(iter(dicLoader))"
   ]
  }
 ],
 "metadata": {
  "kernelspec": {
   "display_name": "ml",
   "language": "python",
   "name": "python3"
  },
  "language_info": {
   "codemirror_mode": {
    "name": "ipython",
    "version": 3
   },
   "file_extension": ".py",
   "mimetype": "text/x-python",
   "name": "python",
   "nbconvert_exporter": "python",
   "pygments_lexer": "ipython3",
   "version": "3.12.3"
  }
 },
 "nbformat": 4,
 "nbformat_minor": 5
}
