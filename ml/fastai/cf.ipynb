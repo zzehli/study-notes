{
 "cells": [
  {
   "cell_type": "markdown",
   "id": "0068608c",
   "metadata": {},
   "source": [
    "Collaborative filtering is a way to predict users' preferences with data of other users' preferences. It is used in recommendation systems. Collaborative filtering construct similarities of users as well as items. This differs from content-based filtering, where only item features are used to make recommendations."
   ]
  },
  {
   "cell_type": "markdown",
   "id": "25eac79c",
   "metadata": {},
   "source": [
    "For this entry, we use linear model to perform collaborative filtering. The basic idea is the following. We construct **embedding matrices** for movies and users. These embedding matrices are parameters of our linear model. For each user and movie, we create the same number of embedding factors, their dot product (plus a bias term) is the predicted value of user's rating. \n",
    "\n",
    "Let's say we have $n\\_item$ movies and $n\\_user$ users, we use 5 embedding factors (or **latent factor**) for each movie and user. As an example, a user $u$'s rating of item $i$ is modeled by the following equation, where the first term in the dot product is the user's embedding and the second term is the items' embedding.\n",
    "\n",
    "$$\n",
    "r_{ui} = \\begin{bmatrix} 0.5 & -0.2 & 0.1 & 0.8 & -0.3 \\end{bmatrix} \n",
    "\\begin{bmatrix} 0.4 \\\\ 0.6 \\\\ -0.3 \\\\ 0.2 \\\\ 0.7 \\end{bmatrix} + b_u + b_i\n",
    "$$\n",
    "\n",
    "\n",
    "These embedding matrices are initialized with random numbers. We improve these embedding matrices with our dataset of user ratings with SGD."
   ]
  },
  {
   "cell_type": "markdown",
   "id": "aa5d88ef",
   "metadata": {},
   "source": [
    "# Data exploration"
   ]
  },
  {
   "cell_type": "code",
   "execution_count": 350,
   "id": "5f775ab1",
   "metadata": {},
   "outputs": [],
   "source": [
    "import torch\n",
    "import pandas as pd"
   ]
  },
  {
   "cell_type": "code",
   "execution_count": 351,
   "id": "14ebb833",
   "metadata": {},
   "outputs": [],
   "source": [
    "#!wget \"https://files.grouplens.org/datasets/movielens/ml-100k.zip\" -O \"../data/ml-100k.zip\" && unzip \"../data/ml-100k.zip\" -d ../data/"
   ]
  },
  {
   "cell_type": "code",
   "execution_count": 352,
   "id": "045d2fd0",
   "metadata": {},
   "outputs": [],
   "source": [
    "from pathlib import Path\n",
    "\n",
    "path = Path(\"../data/ml-100k/\")\n"
   ]
  },
  {
   "cell_type": "code",
   "execution_count": 353,
   "id": "a449612c",
   "metadata": {},
   "outputs": [
    {
     "data": {
      "text/html": [
       "<div>\n",
       "<style scoped>\n",
       "    .dataframe tbody tr th:only-of-type {\n",
       "        vertical-align: middle;\n",
       "    }\n",
       "\n",
       "    .dataframe tbody tr th {\n",
       "        vertical-align: top;\n",
       "    }\n",
       "\n",
       "    .dataframe thead th {\n",
       "        text-align: right;\n",
       "    }\n",
       "</style>\n",
       "<table border=\"1\" class=\"dataframe\">\n",
       "  <thead>\n",
       "    <tr style=\"text-align: right;\">\n",
       "      <th></th>\n",
       "      <th>user</th>\n",
       "      <th>movie</th>\n",
       "      <th>rating</th>\n",
       "      <th>timestamp</th>\n",
       "    </tr>\n",
       "  </thead>\n",
       "  <tbody>\n",
       "    <tr>\n",
       "      <th>0</th>\n",
       "      <td>196</td>\n",
       "      <td>242</td>\n",
       "      <td>3</td>\n",
       "      <td>881250949</td>\n",
       "    </tr>\n",
       "    <tr>\n",
       "      <th>1</th>\n",
       "      <td>186</td>\n",
       "      <td>302</td>\n",
       "      <td>3</td>\n",
       "      <td>891717742</td>\n",
       "    </tr>\n",
       "    <tr>\n",
       "      <th>2</th>\n",
       "      <td>22</td>\n",
       "      <td>377</td>\n",
       "      <td>1</td>\n",
       "      <td>878887116</td>\n",
       "    </tr>\n",
       "    <tr>\n",
       "      <th>3</th>\n",
       "      <td>244</td>\n",
       "      <td>51</td>\n",
       "      <td>2</td>\n",
       "      <td>880606923</td>\n",
       "    </tr>\n",
       "    <tr>\n",
       "      <th>4</th>\n",
       "      <td>166</td>\n",
       "      <td>346</td>\n",
       "      <td>1</td>\n",
       "      <td>886397596</td>\n",
       "    </tr>\n",
       "  </tbody>\n",
       "</table>\n",
       "</div>"
      ],
      "text/plain": [
       "   user  movie  rating  timestamp\n",
       "0   196    242       3  881250949\n",
       "1   186    302       3  891717742\n",
       "2    22    377       1  878887116\n",
       "3   244     51       2  880606923\n",
       "4   166    346       1  886397596"
      ]
     },
     "execution_count": 353,
     "metadata": {},
     "output_type": "execute_result"
    }
   ],
   "source": [
    "ratings = pd.read_csv(\n",
    "    path / \"u.data\",\n",
    "    delimiter=\"\\t\",\n",
    "    header=None,\n",
    "    names=[\"user\", \"movie\", \"rating\", \"timestamp\"],\n",
    ")\n",
    "ratings.head()\n"
   ]
  },
  {
   "cell_type": "code",
   "execution_count": 354,
   "id": "d0d9e4d0",
   "metadata": {},
   "outputs": [
    {
     "data": {
      "text/html": [
       "<div>\n",
       "<style scoped>\n",
       "    .dataframe tbody tr th:only-of-type {\n",
       "        vertical-align: middle;\n",
       "    }\n",
       "\n",
       "    .dataframe tbody tr th {\n",
       "        vertical-align: top;\n",
       "    }\n",
       "\n",
       "    .dataframe thead th {\n",
       "        text-align: right;\n",
       "    }\n",
       "</style>\n",
       "<table border=\"1\" class=\"dataframe\">\n",
       "  <thead>\n",
       "    <tr style=\"text-align: right;\">\n",
       "      <th></th>\n",
       "      <th>movie</th>\n",
       "      <th>title</th>\n",
       "    </tr>\n",
       "  </thead>\n",
       "  <tbody>\n",
       "    <tr>\n",
       "      <th>0</th>\n",
       "      <td>1</td>\n",
       "      <td>Toy Story (1995)</td>\n",
       "    </tr>\n",
       "    <tr>\n",
       "      <th>1</th>\n",
       "      <td>2</td>\n",
       "      <td>GoldenEye (1995)</td>\n",
       "    </tr>\n",
       "    <tr>\n",
       "      <th>2</th>\n",
       "      <td>3</td>\n",
       "      <td>Four Rooms (1995)</td>\n",
       "    </tr>\n",
       "    <tr>\n",
       "      <th>3</th>\n",
       "      <td>4</td>\n",
       "      <td>Get Shorty (1995)</td>\n",
       "    </tr>\n",
       "    <tr>\n",
       "      <th>4</th>\n",
       "      <td>5</td>\n",
       "      <td>Copycat (1995)</td>\n",
       "    </tr>\n",
       "  </tbody>\n",
       "</table>\n",
       "</div>"
      ],
      "text/plain": [
       "   movie              title\n",
       "0      1   Toy Story (1995)\n",
       "1      2   GoldenEye (1995)\n",
       "2      3  Four Rooms (1995)\n",
       "3      4  Get Shorty (1995)\n",
       "4      5     Copycat (1995)"
      ]
     },
     "execution_count": 354,
     "metadata": {},
     "output_type": "execute_result"
    }
   ],
   "source": [
    "movies = pd.read_csv(\n",
    "    path / \"u.item\",\n",
    "    delimiter=\"|\",\n",
    "    encoding=\"latin-1\",\n",
    "    usecols=(0, 1),\n",
    "    names=(\"movie\", \"title\"),\n",
    "    header=None,\n",
    ")\n",
    "movies.head()"
   ]
  },
  {
   "cell_type": "markdown",
   "id": "08209251",
   "metadata": {},
   "source": [
    "We merge the two datasets to get movie titles:"
   ]
  },
  {
   "cell_type": "code",
   "execution_count": 355,
   "id": "87e0deea",
   "metadata": {},
   "outputs": [
    {
     "data": {
      "text/html": [
       "<div>\n",
       "<style scoped>\n",
       "    .dataframe tbody tr th:only-of-type {\n",
       "        vertical-align: middle;\n",
       "    }\n",
       "\n",
       "    .dataframe tbody tr th {\n",
       "        vertical-align: top;\n",
       "    }\n",
       "\n",
       "    .dataframe thead th {\n",
       "        text-align: right;\n",
       "    }\n",
       "</style>\n",
       "<table border=\"1\" class=\"dataframe\">\n",
       "  <thead>\n",
       "    <tr style=\"text-align: right;\">\n",
       "      <th></th>\n",
       "      <th>user</th>\n",
       "      <th>movie</th>\n",
       "      <th>rating</th>\n",
       "      <th>timestamp</th>\n",
       "      <th>title</th>\n",
       "    </tr>\n",
       "  </thead>\n",
       "  <tbody>\n",
       "    <tr>\n",
       "      <th>0</th>\n",
       "      <td>196</td>\n",
       "      <td>242</td>\n",
       "      <td>3</td>\n",
       "      <td>881250949</td>\n",
       "      <td>Kolya (1996)</td>\n",
       "    </tr>\n",
       "    <tr>\n",
       "      <th>1</th>\n",
       "      <td>186</td>\n",
       "      <td>302</td>\n",
       "      <td>3</td>\n",
       "      <td>891717742</td>\n",
       "      <td>L.A. Confidential (1997)</td>\n",
       "    </tr>\n",
       "    <tr>\n",
       "      <th>2</th>\n",
       "      <td>22</td>\n",
       "      <td>377</td>\n",
       "      <td>1</td>\n",
       "      <td>878887116</td>\n",
       "      <td>Heavyweights (1994)</td>\n",
       "    </tr>\n",
       "    <tr>\n",
       "      <th>3</th>\n",
       "      <td>244</td>\n",
       "      <td>51</td>\n",
       "      <td>2</td>\n",
       "      <td>880606923</td>\n",
       "      <td>Legends of the Fall (1994)</td>\n",
       "    </tr>\n",
       "    <tr>\n",
       "      <th>4</th>\n",
       "      <td>166</td>\n",
       "      <td>346</td>\n",
       "      <td>1</td>\n",
       "      <td>886397596</td>\n",
       "      <td>Jackie Brown (1997)</td>\n",
       "    </tr>\n",
       "  </tbody>\n",
       "</table>\n",
       "</div>"
      ],
      "text/plain": [
       "   user  movie  rating  timestamp                       title\n",
       "0   196    242       3  881250949                Kolya (1996)\n",
       "1   186    302       3  891717742    L.A. Confidential (1997)\n",
       "2    22    377       1  878887116         Heavyweights (1994)\n",
       "3   244     51       2  880606923  Legends of the Fall (1994)\n",
       "4   166    346       1  886397596         Jackie Brown (1997)"
      ]
     },
     "execution_count": 355,
     "metadata": {},
     "output_type": "execute_result"
    }
   ],
   "source": [
    "ratings = ratings.merge(movies)\n",
    "ratings.head()"
   ]
  },
  {
   "cell_type": "code",
   "execution_count": 356,
   "id": "678d6198",
   "metadata": {},
   "outputs": [
    {
     "data": {
      "text/plain": [
       "(943, 1664)"
      ]
     },
     "execution_count": 356,
     "metadata": {},
     "output_type": "execute_result"
    }
   ],
   "source": [
    "len(ratings.user.unique()), len(ratings.title.unique())"
   ]
  },
  {
   "cell_type": "markdown",
   "id": "6fbf63ba",
   "metadata": {},
   "source": [
    "# Data preparation"
   ]
  },
  {
   "cell_type": "markdown",
   "id": "29caf6a6",
   "metadata": {},
   "source": [
    "Create a DataLoader from the pandas dataframe, our the input are user and titles (same as movie), and the output is rating. When we create the Dataset, we make the input/output distinction by telling the `__getitem__` function to stack user and titles together. This way, instead of 3, the iterator will give us only 2 items, input and output, as described above."
   ]
  },
  {
   "cell_type": "code",
   "execution_count": 357,
   "id": "f692a5be",
   "metadata": {},
   "outputs": [],
   "source": [
    "from torch.utils.data import DataLoader\n",
    "\n",
    "batch_size = 64\n",
    "\n",
    "\n",
    "class CollabDataset:\n",
    "    def __init__(self, ratings, user_col, item_col, rating_col):\n",
    "        # notice here we reindexed the user col, the user index is original + 1\n",
    "        self.users = torch.tensor(\n",
    "            ratings[user_col].astype(\"category\").cat.codes.values, dtype=torch.int\n",
    "        )\n",
    "        self.items = torch.tensor(\n",
    "            ratings[item_col].astype(\"category\").cat.codes.values, dtype=torch.int\n",
    "        )\n",
    "        self.ratings = torch.tensor(ratings[rating_col].values, dtype=torch.float32)\n",
    "\n",
    "    def __len__(self):\n",
    "        return len(self.ratings)\n",
    "\n",
    "    def __getitem__(self, idx):\n",
    "        return torch.stack([self.users[idx], self.items[idx]]), self.ratings[idx]\n",
    "\n",
    "\n",
    "user_col = \"user\"\n",
    "item_col = \"title\"\n",
    "ratings_col = \"rating\"\n",
    "dataset = CollabDataset(ratings, user_col, item_col, ratings_col)\n",
    "dls = DataLoader(dataset, batch_size=64, shuffle=True)"
   ]
  },
  {
   "cell_type": "markdown",
   "id": "d4d3b916",
   "metadata": {},
   "source": [
    "For the user column, the original index is 1 based, which isn't allowed in torch training. So we reindex it based on categories, which make the new user index $new\\_index = old\\_index - 1$\n",
    "\n",
    "Now we can see that the DataLoader iterator give a list of 2 items a time, the first are an array of user, item pairs, the second are ratings. This is what we need for training."
   ]
  },
  {
   "cell_type": "code",
   "execution_count": 358,
   "id": "0207a34f",
   "metadata": {},
   "outputs": [
    {
     "data": {
      "text/plain": [
       "[tensor([[ 888,  865],\n",
       "         [  15, 1227],\n",
       "         [  58,  319],\n",
       "         [ 192,  793],\n",
       "         [ 732,  333],\n",
       "         [ 310, 1393],\n",
       "         [  37,  559],\n",
       "         [ 379,   82],\n",
       "         [ 654,  920],\n",
       "         [ 325,  296],\n",
       "         [ 261,  773],\n",
       "         [ 550,  313],\n",
       "         [  30,  528],\n",
       "         [ 392,  312],\n",
       "         [ 316,  453],\n",
       "         [ 252, 1204],\n",
       "         [ 311,  153],\n",
       "         [ 388, 1008],\n",
       "         [  38, 1482],\n",
       "         [ 860,  272],\n",
       "         [ 386, 1491],\n",
       "         [ 312, 1210],\n",
       "         [  14,  780],\n",
       "         [ 681,  302],\n",
       "         [ 845, 1572],\n",
       "         [ 397,  960],\n",
       "         [ 646, 1251],\n",
       "         [   6,  890],\n",
       "         [ 598, 1570],\n",
       "         [ 881,  494],\n",
       "         [ 213,  910],\n",
       "         [ 780,  339],\n",
       "         [ 312,  337],\n",
       "         [ 184,  389],\n",
       "         [ 449,  314],\n",
       "         [ 827, 1167],\n",
       "         [ 384, 1038],\n",
       "         [ 104,  339],\n",
       "         [ 617,  930],\n",
       "         [ 398,  769],\n",
       "         [ 898, 1146],\n",
       "         [ 795,  232],\n",
       "         [ 304,  627],\n",
       "         [ 822,   88],\n",
       "         [ 642,  950],\n",
       "         [ 346,  493],\n",
       "         [ 876, 1016],\n",
       "         [ 133,  733],\n",
       "         [ 372, 1597],\n",
       "         [ 591,  554],\n",
       "         [ 180,  991],\n",
       "         [ 168,  618],\n",
       "         [ 647, 1019],\n",
       "         [ 214,  179],\n",
       "         [ 893,  519],\n",
       "         [ 298,  450],\n",
       "         [ 294, 1410],\n",
       "         [ 805, 1214],\n",
       "         [ 654, 1401],\n",
       "         [ 857,  378],\n",
       "         [ 621, 1178],\n",
       "         [ 351, 1534],\n",
       "         [ 415,  378],\n",
       "         [ 676,  860]], dtype=torch.int32),\n",
       " tensor([5., 1., 4., 3., 3., 4., 5., 2., 3., 1., 3., 5., 4., 3., 4., 1., 5., 4.,\n",
       "         5., 4., 3., 3., 3., 4., 5., 4., 3., 5., 5., 5., 4., 4., 5., 4., 4., 4.,\n",
       "         4., 4., 3., 3., 3., 3., 2., 3., 4., 2., 3., 2., 5., 4., 1., 4., 3., 4.,\n",
       "         4., 4., 4., 3., 3., 2., 5., 3., 3., 5.])]"
      ]
     },
     "execution_count": 358,
     "metadata": {},
     "output_type": "execute_result"
    }
   ],
   "source": [
    "next(iter(dls))"
   ]
  },
  {
   "cell_type": "markdown",
   "id": "4a362b72",
   "metadata": {},
   "source": [
    "We need a way to retrieve movie titles with index. We can verify our DataLoader work by picking a row in the iterator, ([803, 1214], 1), which means user 804 (old index) rated movie 1214 a score of 1. We verify the corresponding row in `ratings` dataframe."
   ]
  },
  {
   "cell_type": "code",
   "execution_count": null,
   "id": "b4096c11",
   "metadata": {},
   "outputs": [
    {
     "data": {
      "text/plain": [
       "'Reality Bites (1994)'"
      ]
     },
     "execution_count": 370,
     "metadata": {},
     "output_type": "execute_result"
    }
   ],
   "source": [
    "item_codes_to_titles = dict(\n",
    "    enumerate(ratings[item_col].astype(\"category\").cat.categories)\n",
    ")\n",
    "item_codes_to_titles[1214]"
   ]
  },
  {
   "cell_type": "code",
   "execution_count": null,
   "id": "ab2d20b5",
   "metadata": {},
   "outputs": [
    {
     "data": {
      "text/html": [
       "<div>\n",
       "<style scoped>\n",
       "    .dataframe tbody tr th:only-of-type {\n",
       "        vertical-align: middle;\n",
       "    }\n",
       "\n",
       "    .dataframe tbody tr th {\n",
       "        vertical-align: top;\n",
       "    }\n",
       "\n",
       "    .dataframe thead th {\n",
       "        text-align: right;\n",
       "    }\n",
       "</style>\n",
       "<table border=\"1\" class=\"dataframe\">\n",
       "  <thead>\n",
       "    <tr style=\"text-align: right;\">\n",
       "      <th></th>\n",
       "      <th>user</th>\n",
       "      <th>movie</th>\n",
       "      <th>rating</th>\n",
       "      <th>timestamp</th>\n",
       "      <th>title</th>\n",
       "    </tr>\n",
       "  </thead>\n",
       "  <tbody>\n",
       "    <tr>\n",
       "      <th>62087</th>\n",
       "      <td>804</td>\n",
       "      <td>1074</td>\n",
       "      <td>1</td>\n",
       "      <td>879447476</td>\n",
       "      <td>Reality Bites (1994)</td>\n",
       "    </tr>\n",
       "  </tbody>\n",
       "</table>\n",
       "</div>"
      ],
      "text/plain": [
       "       user  movie  rating  timestamp                 title\n",
       "62087   804   1074       1  879447476  Reality Bites (1994)"
      ]
     },
     "execution_count": 360,
     "metadata": {},
     "output_type": "execute_result"
    }
   ],
   "source": [
    "ratings[(ratings[user_col] == 804) & (ratings[item_col] == \"Reality Bites (1994)\")]"
   ]
  },
  {
   "cell_type": "markdown",
   "id": "4b0761f1",
   "metadata": {},
   "source": [
    "# Elements of collaborative filtering"
   ]
  },
  {
   "cell_type": "markdown",
   "id": "679a9b91",
   "metadata": {},
   "source": [
    "We need to create embedding matrix with latent factors `user_factors` and `movie_factors`, we initialize them with random numbers:"
   ]
  },
  {
   "cell_type": "code",
   "execution_count": 361,
   "id": "3b2900f4",
   "metadata": {},
   "outputs": [
    {
     "name": "stdout",
     "output_type": "stream",
     "text": [
      "943 1664\n",
      "torch.Size([943, 5]) torch.Size([1664, 5])\n"
     ]
    }
   ],
   "source": [
    "n_users = len(ratings[user_col].astype(\"category\").cat.categories)\n",
    "n_movies = len(ratings[item_col].astype(\"category\").cat.categories)\n",
    "n_factors = 5\n",
    "\n",
    "user_factors = torch.randn(n_users, n_factors)\n",
    "movie_factors = torch.randn(n_movies, n_factors)\n",
    "print(n_users, n_movies)\n",
    "print(user_factors.shape, movie_factors.shape)"
   ]
  },
  {
   "cell_type": "markdown",
   "id": "3e0c8df9",
   "metadata": {},
   "source": [
    "We simplify this process with a helper function that takes a shape and output the embedding matrix:"
   ]
  },
  {
   "cell_type": "code",
   "execution_count": 362,
   "id": "f2663fad",
   "metadata": {},
   "outputs": [
    {
     "data": {
      "text/plain": [
       "Parameter containing:\n",
       "tensor([[-0.0121, -0.0043,  0.0041],\n",
       "        [ 0.0078, -0.0008,  0.0028]], requires_grad=True)"
      ]
     },
     "execution_count": 362,
     "metadata": {},
     "output_type": "execute_result"
    }
   ],
   "source": [
    "def create_params(size):\n",
    "    return torch.nn.Parameter(torch.zeros(*size).normal_(0, 0.01))\n",
    "\n",
    "\n",
    "create_params([2, 3])"
   ]
  },
  {
   "cell_type": "markdown",
   "id": "c827f47c",
   "metadata": {},
   "source": [
    "Next we define a sigmoid function to be used in our training model:"
   ]
  },
  {
   "cell_type": "code",
   "execution_count": 363,
   "id": "9e242c63",
   "metadata": {},
   "outputs": [],
   "source": [
    "def sigmoid_range(x, low, high):\n",
    "    \"Sigmoid function with range `(low, high)`\"\n",
    "    return torch.sigmoid(x) * (high - low) + low"
   ]
  },
  {
   "cell_type": "markdown",
   "id": "2b088a43",
   "metadata": {},
   "source": [
    "We define our linear model using dot product and a bias term. The model need to be an instantiation of the `torch.nn.Module` and instantiation the `__init__` and `forward` methods"
   ]
  },
  {
   "cell_type": "code",
   "execution_count": 364,
   "id": "ec2b1777",
   "metadata": {},
   "outputs": [],
   "source": [
    "class DotProductBias(torch.nn.Module):\n",
    "    def __init__(self, n_users, n_movies, n_factors, y_range=(0, 5.5)):\n",
    "        super().__init__()\n",
    "        self.user_factors = create_params([n_users, n_factors])\n",
    "        self.user_bias = create_params([n_users])\n",
    "        self.movie_factors = create_params([n_movies, n_factors])\n",
    "        self.movie_bias = create_params([n_movies])\n",
    "        self.y_range = y_range\n",
    "\n",
    "    def forward(self, x):\n",
    "        users = self.user_factors[x[:, 0]]\n",
    "        movies = self.movie_factors[x[:, 1]]\n",
    "        res = (users * movies).sum(dim=1)\n",
    "        res += self.user_bias[x[:, 0]] + self.movie_bias[x[:, 1]]\n",
    "        return sigmoid_range(res, *self.y_range)\n"
   ]
  },
  {
   "cell_type": "markdown",
   "id": "87987443",
   "metadata": {},
   "source": [
    "We instantiate our model:"
   ]
  },
  {
   "cell_type": "code",
   "execution_count": 365,
   "id": "b20a7737",
   "metadata": {},
   "outputs": [],
   "source": [
    "model = DotProductBias(n_users, n_movies, 5)\n"
   ]
  },
  {
   "cell_type": "code",
   "execution_count": 366,
   "id": "8384f0b6",
   "metadata": {},
   "outputs": [
    {
     "data": {
      "text/plain": [
       "(torch.Size([64, 2]), torch.Size([64]))"
      ]
     },
     "execution_count": 366,
     "metadata": {},
     "output_type": "execute_result"
    }
   ],
   "source": [
    "xb, yb = next(iter(dls))\n",
    "xb.shape, yb.shape"
   ]
  },
  {
   "cell_type": "markdown",
   "id": "c5289f82",
   "metadata": {},
   "source": [
    "We can call the model to create a simple prediction, under the hood, the model uses the `forward` method we just defined. "
   ]
  },
  {
   "cell_type": "code",
   "execution_count": 367,
   "id": "d210d6da",
   "metadata": {},
   "outputs": [
    {
     "data": {
      "text/plain": [
       "(torch.Size([64]),\n",
       " torch.Size([64]),\n",
       " tensor(1.5828, grad_fn=<MseLossBackward0>))"
      ]
     },
     "execution_count": 367,
     "metadata": {},
     "output_type": "execute_result"
    }
   ],
   "source": [
    "pred = model(xb)\n",
    "loss = torch.nn.functional.mse_loss(yb, pred)\n",
    "pred.shape, yb.shape, loss"
   ]
  },
  {
   "cell_type": "markdown",
   "id": "8cc8054b",
   "metadata": {},
   "source": [
    "To train the model with SGD, we implement the following algorithm:\n",
    "```python\n",
    "for (item, user), rating in dls:\n",
    "    pred = model(item, user)\n",
    "    loss = loss_func(pred, rating)\n",
    "    loss.backward()\n",
    "    parameters -= parameters.grad * lr\n",
    "```"
   ]
  },
  {
   "cell_type": "code",
   "execution_count": 368,
   "id": "e489c10a",
   "metadata": {},
   "outputs": [
    {
     "name": "stdout",
     "output_type": "stream",
     "text": [
      "Average loss: 1.7865\n",
      "Average loss: 1.6328\n",
      "Average loss: 1.5120\n",
      "Average loss: 1.4171\n",
      "Average loss: 1.3417\n"
     ]
    }
   ],
   "source": [
    "epochs = 5\n",
    "lr = 5e-3\n",
    "wd = 0.1\n",
    "for epoch in range(epochs):\n",
    "    epoch_loss = 0\n",
    "    batch_num = 0\n",
    "    for xb, yb in dls:\n",
    "        pred = model(xb)\n",
    "        loss = torch.nn.functional.mse_loss(pred, yb)\n",
    "\n",
    "        loss.backward()\n",
    "        with torch.no_grad():\n",
    "            for p in model.parameters():\n",
    "                # p.grad += wd * 2 * p\n",
    "                p -= p.grad * lr\n",
    "            model.zero_grad()\n",
    "        epoch_loss += loss.item()\n",
    "        batch_num += 1\n",
    "    avg_loss = epoch_loss / batch_num\n",
    "    print(f\"Average loss: {avg_loss:.4f}\")"
   ]
  },
  {
   "cell_type": "markdown",
   "id": "1c52e164",
   "metadata": {},
   "source": [
    "From our model, we now have embeddings of movies and users. We can use movie embeddings to find similar movies. For example, we want to find movies similar to 'Chinatown (1974)'"
   ]
  },
  {
   "cell_type": "code",
   "execution_count": 371,
   "id": "16fb0794",
   "metadata": {},
   "outputs": [
    {
     "name": "stdout",
     "output_type": "stream",
     "text": [
      "Movies similar to 'Chinatown (1974)':\n",
      "\n",
      "Chinatown (1974)                                   (similarity: 1.000)\n",
      "Trial and Error (1997)                             (similarity: 0.981)\n",
      "Men With Guns (1997)                               (similarity: 0.978)\n",
      "Forget Paris (1995)                                (similarity: 0.953)\n",
      "Lashou shentan (1992)                              (similarity: 0.943)\n",
      "Cook the Thief His Wife & Her Lover, The (1989)    (similarity: 0.936)\n",
      "Further Gesture, A (1996)                          (similarity: 0.930)\n",
      "Cool Hand Luke (1967)                              (similarity: 0.927)\n",
      "Spellbound (1945)                                  (similarity: 0.917)\n",
      "Liar Liar (1997)                                   (similarity: 0.916)\n"
     ]
    }
   ],
   "source": [
    "title = \"Chinatown (1974)\"\n",
    "item_idx = list(item_codes_to_titles.values()).index(title)\n",
    "item_factors = model.movie_factors[item_idx].detach()\n",
    "\n",
    "# Calculate cosine similarity between this movie and all others\n",
    "similarities = torch.nn.functional.cosine_similarity(\n",
    "    model.movie_factors.detach(), item_factors.unsqueeze(0)\n",
    ")\n",
    "\n",
    "# Get top similar movies\n",
    "_, indices = torch.topk(similarities, 10)\n",
    "\n",
    "print(f\"Movies similar to '{title}':\\n\")\n",
    "for idx in indices:\n",
    "    similar_title = item_codes_to_titles[idx.item()]\n",
    "    similarity = similarities[idx].item()\n",
    "    print(f\"{similar_title:<50} (similarity: {similarity:.3f})\")\n"
   ]
  }
 ],
 "metadata": {
  "kernelspec": {
   "display_name": "ml",
   "language": "python",
   "name": "python3"
  },
  "language_info": {
   "codemirror_mode": {
    "name": "ipython",
    "version": 3
   },
   "file_extension": ".py",
   "mimetype": "text/x-python",
   "name": "python",
   "nbconvert_exporter": "python",
   "pygments_lexer": "ipython3",
   "version": "3.12.3"
  }
 },
 "nbformat": 4,
 "nbformat_minor": 5
}
