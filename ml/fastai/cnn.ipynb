{
 "cells": [
  {
   "cell_type": "markdown",
   "id": "2c15a4ef",
   "metadata": {},
   "source": [
    "Convolutional Neural Network (CNN) is a type of neural network commonly used in computer vision. CNN uses convolutions layers to detect image features. Within a convolution layer, a **kernel**/**filter** is applied to an image, which produces a **feature map**/**activation map**. Next, use **pooling** to scale down the activation map. Two common techniques of pooling are **max pooling** and **average pooling**."
   ]
  },
  {
   "cell_type": "markdown",
   "id": "b482fef3",
   "metadata": {},
   "source": [
    "Here we start with a reduced MNIST dataset to classify digit 3 and 7. Then we will expand to all ten digits towards the end."
   ]
  },
  {
   "cell_type": "markdown",
   "id": "0f2e239a",
   "metadata": {},
   "source": [
    "# Kernel"
   ]
  },
  {
   "cell_type": "code",
   "execution_count": 43,
   "id": "96c8d459",
   "metadata": {},
   "outputs": [],
   "source": [
    "import torch"
   ]
  },
  {
   "cell_type": "code",
   "execution_count": 44,
   "id": "032073be",
   "metadata": {},
   "outputs": [],
   "source": [
    "# !wget \"https://s3.amazonaws.com/fast-ai-sample/mnist_sample.tgz\" -O \"../data/mnist_sample.tgz\" && tar -xzf \"../data/mnist_sample.tgz\" -C ../data/\n",
    "# !wget \"https://s3.amazonaws.com/fast-ai-imageclas/mnist_png.tgz\" -O \"../data/mnist_png.tgz\" && tar -xzf \"../data/mnist_png.tgz\" -C ../data/"
   ]
  },
  {
   "cell_type": "code",
   "execution_count": 45,
   "id": "55f2e718",
   "metadata": {},
   "outputs": [
    {
     "name": "stdout",
     "output_type": "stream",
     "text": [
      "[PosixPath('../data/mnist_sample/labels.csv'), PosixPath('../data/mnist_sample/valid'), PosixPath('../data/mnist_sample/train')]\n"
     ]
    }
   ],
   "source": [
    "from pathlib import Path\n",
    "\n",
    "sample_path = Path(\"../data/mnist_sample\")\n",
    "print(list(sample_path.iterdir()))\n"
   ]
  },
  {
   "cell_type": "code",
   "execution_count": 46,
   "id": "70e0f70a",
   "metadata": {},
   "outputs": [
    {
     "data": {
      "image/jpeg": "[encoded data removed]",
      "image/png": "[encoded data removed]",
      "text/plain": [
       "<PIL.PngImagePlugin.PngImageFile image mode=L size=28x28>"
      ]
     },
     "execution_count": 46,
     "metadata": {},
     "output_type": "execute_result"
    }
   ],
   "source": [
    "from PIL import Image\n",
    "\n",
    "im3 = Image.open(sample_path / \"train\" / \"3\" / \"12.png\")\n",
    "im3\n"
   ]
  },
  {
   "cell_type": "code",
   "execution_count": 47,
   "id": "08ce7f49",
   "metadata": {},
   "outputs": [
    {
     "data": {
      "text/plain": [
       "tensor([[  0,   0,   0,   0,   0],\n",
       "        [  0,   0,   0,   0,   0],\n",
       "        [ 91, 142, 155, 246, 182],\n",
       "        [254, 254, 254, 254, 254],\n",
       "        [254, 254, 235, 189, 189],\n",
       "        [ 35,  35,  25,   0,   0],\n",
       "        [  0,   0,   0,   0,   0]], dtype=torch.uint8)"
      ]
     },
     "execution_count": 47,
     "metadata": {},
     "output_type": "execute_result"
    }
   ],
   "source": [
    "from numpy import array\n",
    "\n",
    "im3_t = torch.as_tensor(array(im3))\n",
    "im3_t[3:10, 5:10]\n"
   ]
  },
  {
   "cell_type": "markdown",
   "id": "db1ea803",
   "metadata": {},
   "source": [
    "We define a 3 x 3 matrix, it serves as a **kernel** in CNN. It is responsible for detecting image features. We define a kernel that detect top edge of an object. To apply on kernel on an image, we perform **element-wise multiplication** (`*` in pytorch). This kernel has -1s on the top row and 1s on third row. What this says is if the image has greater values on the bottom than top, we get a large positive number after we apply the kernel."
   ]
  },
  {
   "cell_type": "code",
   "execution_count": 48,
   "id": "1535108b",
   "metadata": {},
   "outputs": [],
   "source": [
    "top_edge = torch.tensor([[-1, -1, -1], [0, 0, 0], [1, 1, 1]]).float()"
   ]
  },
  {
   "cell_type": "markdown",
   "id": "b7bee670",
   "metadata": {},
   "source": [
    "We pick the part of the image that has a top edge, boundary of the figure 3, and apply the kernel. We get a large number:"
   ]
  },
  {
   "cell_type": "code",
   "execution_count": 49,
   "id": "f1e0f928",
   "metadata": {},
   "outputs": [
    {
     "data": {
      "text/plain": [
       "tensor(762.)"
      ]
     },
     "execution_count": 49,
     "metadata": {},
     "output_type": "execute_result"
    }
   ],
   "source": [
    "(im3_t[4:7, 6:9] * top_edge).sum()"
   ]
  },
  {
   "cell_type": "markdown",
   "id": "293e70cb",
   "metadata": {},
   "source": [
    "We will simplify that process with a func"
   ]
  },
  {
   "cell_type": "code",
   "execution_count": 50,
   "id": "553d12fd",
   "metadata": {},
   "outputs": [],
   "source": [
    "def apply_kernel(row, col, kernel):\n",
    "    return (im3_t[row - 1 : row + 2, col - 1 : col + 2] * kernel).sum()"
   ]
  },
  {
   "cell_type": "markdown",
   "id": "8d6c2cc0",
   "metadata": {},
   "source": [
    "To apply a kernel on an image, we swipe it scans an image one position at a time. We use nested list comprehension to call `apply_kernel` iteratively. This will give all all top edges of the image:"
   ]
  },
  {
   "cell_type": "code",
   "execution_count": 51,
   "id": "47da161c",
   "metadata": {},
   "outputs": [],
   "source": [
    "import matplotlib.pyplot as plt\n",
    "import numpy as np\n",
    "\n",
    "\n",
    "def show_image(im, title=None, **kwargs):\n",
    "    \"\"\"\n",
    "    Show a PIL, NumPy array, or PyTorch tensor image on matplotlib axes.\n",
    "\n",
    "    Args:\n",
    "        im: Image as PIL.Image, numpy.ndarray, or torch.Tensor\n",
    "        title: string title for the image (optional)\n",
    "        **kwargs: additional arguments passed to ax.imshow()\n",
    "    \"\"\"\n",
    "\n",
    "    # Handle PyTorch tensors\n",
    "    if hasattr(im, \"data\") and hasattr(im, \"cpu\") and hasattr(im, \"permute\"):\n",
    "        im = im.data.cpu()\n",
    "        # Convert to numpy\n",
    "        if hasattr(im, \"numpy\"):\n",
    "            im = im.numpy()\n",
    "        else:\n",
    "            im = np.array(im)\n",
    "        # Handle channel-first format (C, H, W) -> (H, W, C)\n",
    "        if (\n",
    "            len(im.shape) == 3 and im.shape[0] < 5\n",
    "        ):  # Assume channels first if first dim < 5\n",
    "            im = np.transpose(im, (1, 2, 0))\n",
    "\n",
    "    # Handle single channel images (squeeze last dimension if it's 1)\n",
    "    if len(im.shape) == 3 and im.shape[-1] == 1:\n",
    "        im = im.squeeze(-1)\n",
    "\n",
    "    # Calculate default figure size based on image dimensions\n",
    "    height, width = im.shape[:2]\n",
    "    max_size = 1\n",
    "    if height > width:\n",
    "        figsize = (max_size * width / height, max_size)\n",
    "    else:\n",
    "        figsize = (max_size, max_size * height / width)\n",
    "\n",
    "    fig, ax = plt.subplots(figsize=figsize)\n",
    "\n",
    "    if \"cmap\" not in kwargs:\n",
    "        kwargs[\"cmap\"] = \"Grays\"\n",
    "\n",
    "    # Display the image\n",
    "    ax.imshow(im, **kwargs)\n",
    "\n",
    "    ax.axis(\"off\")\n",
    "    # Set title if provided\n",
    "    if title is not None:\n",
    "        ax.set_title(title)\n"
   ]
  },
  {
   "cell_type": "code",
   "execution_count": 52,
   "id": "c295b2e2",
   "metadata": {},
   "outputs": [
    {
     "data": {
      "image/png": "[encoded data removed]",
      "text/plain": [
       "<Figure size 100x100 with 1 Axes>"
      ]
     },
     "metadata": {},
     "output_type": "display_data"
    }
   ],
   "source": [
    "rng = range(1, 27)\n",
    "top_edge3 = torch.tensor([[apply_kernel(i, j, top_edge) for j in rng] for i in rng])\n",
    "\n",
    "show_image(top_edge3)"
   ]
  },
  {
   "cell_type": "markdown",
   "id": "9029a390",
   "metadata": {},
   "source": [
    "Here, we can see the top boundaries of the figure 3 are darker, since the kernel has identified those parts of the image as top edge.\n",
    "\n",
    "As another example, we define a left edge kernel and apply it to the same image."
   ]
  },
  {
   "cell_type": "code",
   "execution_count": 53,
   "id": "0b008519",
   "metadata": {},
   "outputs": [
    {
     "data": {
      "image/png": "[encoded data removed]",
      "text/plain": [
       "<Figure size 100x100 with 1 Axes>"
      ]
     },
     "metadata": {},
     "output_type": "display_data"
    }
   ],
   "source": [
    "left_edge = torch.tensor([[-1, 1, 0], [-1, 1, 0], [-1, 1, 0]]).float()\n",
    "\n",
    "left_edge3_tensor = torch.tensor(\n",
    "    [[apply_kernel(i, j, left_edge) for j in rng] for i in rng]\n",
    ")\n",
    "\n",
    "show_image(left_edge3_tensor);\n"
   ]
  },
  {
   "cell_type": "markdown",
   "id": "37d25071",
   "metadata": {},
   "source": [
    "# Create a convolution in Pytorch "
   ]
  },
  {
   "cell_type": "markdown",
   "id": "35a52243",
   "metadata": {},
   "source": [
    "Now we use pytorch to create a CNN: `F.conv2d(input, weight)`, where input is the input tensor of shape `(minibatch, in_channels, iH, iW)` and weight is filters of shape `(out_channels, in_channels, kH, kW)`. **Channel** is the number of basic color to represent an image. In our case, we use greyscale for training images, which means our input channel is 1. We will create 4 kernels, so we can detect 4 features, therefore our output channel is 4. Note that pytorch represent images with dimension `(channels, height, width)`"
   ]
  },
  {
   "cell_type": "code",
   "execution_count": 56,
   "id": "6ce37992",
   "metadata": {},
   "outputs": [
    {
     "data": {
      "text/plain": [
       "torch.Size([4, 3, 3])"
      ]
     },
     "execution_count": 56,
     "metadata": {},
     "output_type": "execute_result"
    }
   ],
   "source": [
    "diag1_edge = torch.tensor([[0, -1, 1], [-1, 1, 0], [1, 0, 0]]).float()\n",
    "diag2_edge = torch.tensor([[1, -1, 0], [0, 1, -1], [0, 0, 1]]).float()\n",
    "\n",
    "edge_kernels = torch.stack([left_edge, top_edge, diag1_edge, diag2_edge])\n",
    "edge_kernels.shape"
   ]
  },
  {
   "cell_type": "markdown",
   "id": "c25a0b72",
   "metadata": {},
   "source": [
    "Notice that the kernel shape has rank 3, missing the `in_channels` param. We use `unsqueeze` to add a new dimension of size 1 at position 1."
   ]
  },
  {
   "cell_type": "code",
   "execution_count": 57,
   "id": "bcc7508a",
   "metadata": {},
   "outputs": [
    {
     "data": {
      "text/plain": [
       "(torch.Size([4, 3, 3]), torch.Size([4, 1, 3, 3]))"
      ]
     },
     "execution_count": 57,
     "metadata": {},
     "output_type": "execute_result"
    }
   ],
   "source": [
    "edge_kernels.shape, edge_kernels.unsqueeze(1).shape"
   ]
  },
  {
   "cell_type": "code",
   "execution_count": 58,
   "id": "057bab7e",
   "metadata": {},
   "outputs": [],
   "source": [
    "edge_kernels = edge_kernels.unsqueeze(1)"
   ]
  },
  {
   "cell_type": "markdown",
   "id": "23394fb1",
   "metadata": {},
   "source": [
    "Next, we create dataloaders for the images with minibatch size of 64"
   ]
  },
  {
   "cell_type": "code",
   "execution_count": 59,
   "id": "98c5b9e3",
   "metadata": {},
   "outputs": [],
   "source": [
    "from pathlib import Path\n",
    "\n",
    "import torch\n",
    "from PIL import Image\n",
    "from torch.utils.data import DataLoader, Dataset\n",
    "from torchvision import transforms\n",
    "\n",
    "\n",
    "class MNISTDataset(Dataset):\n",
    "    \"\"\"Custom Dataset for loading MNIST images from directory structure\"\"\"\n",
    "\n",
    "    def __init__(self, root_dir, transform=None):\n",
    "        self.root_dir = Path(root_dir)\n",
    "        self.transform = transform\n",
    "        self.classes = sorted([d.name for d in self.root_dir.iterdir() if d.is_dir()])\n",
    "        self.class_to_idx = {cls_name: i for i, cls_name in enumerate(self.classes)}\n",
    "\n",
    "        # Get all image files\n",
    "        self.images = []\n",
    "        self.labels = []\n",
    "\n",
    "        for class_name in self.classes:\n",
    "            class_dir = self.root_dir / class_name\n",
    "            if class_dir.is_dir():\n",
    "                for img_file in class_dir.glob(\"*.png\"):\n",
    "                    self.images.append(str(img_file))\n",
    "                    self.labels.append(self.class_to_idx[class_name])\n",
    "\n",
    "    def __len__(self):\n",
    "        return len(self.images)\n",
    "\n",
    "    def __getitem__(self, idx):\n",
    "        img_path = self.images[idx]\n",
    "        label = self.labels[idx]\n",
    "\n",
    "        # Load image as PIL Image (grayscale)\n",
    "        image = Image.open(img_path).convert(\"L\")\n",
    "\n",
    "        if self.transform:\n",
    "            image = self.transform(image)\n",
    "\n",
    "        return image, label\n",
    "\n",
    "\n",
    "def create_mnist_dataloaders(path, batch_size=64):\n",
    "    path = Path(path)\n",
    "\n",
    "    # Define transforms\n",
    "    transform = transforms.Compose(\n",
    "        [\n",
    "            transforms.ToTensor(),  # Convert PIL to tensor and normalize to [0, 1]\n",
    "        ]\n",
    "    )\n",
    "\n",
    "    # Check if train and valid directories exist\n",
    "    train_path = path / \"train\" if (path / \"train\").exists() else path / \"training\"\n",
    "    valid_path = path / \"valid\" if (path / \"valid\").exists() else path / \"testing\"\n",
    "\n",
    "    if train_path.exists() and valid_path.exists():\n",
    "        train_dataset = MNISTDataset(train_path, transform=transform)\n",
    "        print(train_dataset.class_to_idx)\n",
    "        print(\"train set len, \", len(train_dataset.images))\n",
    "        valid_dataset = MNISTDataset(valid_path, transform=transform)\n",
    "        print(valid_dataset.class_to_idx)\n",
    "        print(\"valid set len, \", len(valid_dataset.images))\n",
    "\n",
    "    else:\n",
    "        print(\"Using existing train/valid split\")\n",
    "\n",
    "    # Create dataloaders\n",
    "    train_loader = DataLoader(\n",
    "        train_dataset, batch_size=batch_size, shuffle=True, num_workers=2\n",
    "    )\n",
    "\n",
    "    valid_loader = DataLoader(\n",
    "        valid_dataset, batch_size=batch_size, shuffle=False, num_workers=2\n",
    "    )\n",
    "\n",
    "    return train_loader, valid_loader"
   ]
  },
  {
   "cell_type": "markdown",
   "id": "eb440df5",
   "metadata": {},
   "source": [
    "Now take a look at the input dataset's shape"
   ]
  },
  {
   "cell_type": "code",
   "execution_count": 60,
   "id": "d6af1a24",
   "metadata": {},
   "outputs": [
    {
     "name": "stdout",
     "output_type": "stream",
     "text": [
      "{'3': 0, '7': 1}\n",
      "train set len,  12396\n",
      "{'3': 0, '7': 1}\n",
      "valid set len,  2038\n"
     ]
    },
    {
     "data": {
      "text/plain": [
       "torch.Size([64, 1, 28, 28])"
      ]
     },
     "execution_count": 16,
     "metadata": {},
     "output_type": "execute_result"
    }
   ],
   "source": [
    "train_loader, valid_loader = create_mnist_dataloaders(\"../data/mnist_sample\")\n",
    "\n",
    "xb, yb = next(iter(train_loader))\n",
    "xb.shape"
   ]
  },
  {
   "cell_type": "markdown",
   "id": "3b60fac2",
   "metadata": {},
   "source": [
    "Now we are ready to create a convolutional layer. Notice that it gives use individuals images of shape (4, 26, 26), where each image has 4 out channels (4 edges). Notice the output image has height and width of 26, this is because the filters cannot give use the same shape without padding on the edges."
   ]
  },
  {
   "cell_type": "code",
   "execution_count": 61,
   "id": "50710fa9",
   "metadata": {},
   "outputs": [
    {
     "data": {
      "text/plain": [
       "torch.Size([64, 4, 26, 26])"
      ]
     },
     "execution_count": 61,
     "metadata": {},
     "output_type": "execute_result"
    }
   ],
   "source": [
    "import torch.nn as nn\n",
    "import torch.nn.functional as F\n",
    "\n",
    "batch_features = F.conv2d(xb, edge_kernels)\n",
    "batch_features.shape"
   ]
  },
  {
   "cell_type": "code",
   "execution_count": 62,
   "id": "b19b3872",
   "metadata": {},
   "outputs": [
    {
     "data": {
      "image/png": "[encoded data removed]",
      "text/plain": [
       "<Figure size 100x100 with 1 Axes>"
      ]
     },
     "metadata": {},
     "output_type": "display_data"
    }
   ],
   "source": [
    "show_image(batch_features[1, 0])"
   ]
  },
  {
   "cell_type": "markdown",
   "id": "81cb252e",
   "metadata": {},
   "source": [
    "# Math of the convolution layer"
   ]
  },
  {
   "cell_type": "markdown",
   "id": "4303c746",
   "metadata": {},
   "source": [
    "A crucial aspect of CNN is to figure out the shape of the **activation map** (output of the convolution) after a kernel is applied. For example, for a 5 x 5 image, applying a 3 x 3 kernel gives a 2 x 2 activation map. As shown in the gif, a 6 x 6 image turns into a 4 x 4 activation map after applying a 3 x 3 kernel.\n",
    "\n",
    "TODO: image\n",
    "\n",
    "Oftentimes, we want the activation map the same size as the input image. To do that we need to add **padding** grids on each side of the input image. If the kernel size is `ks` by `ks`, we need add `ks//2` padding on each side to keep the activation map the same shape. In our previous example, our kenels are 3 x 3, we need `3 // 2 = 1` padding on each side of the original image to keep the same dimension.\n",
    "\n",
    "To reduce the size of the activation map, we use **stride**, which means we move the kernel in steps of n instead of 1 grid at a time. When we take stripe of 2, we reduce the size of one side by 1/2, which means the activation map is 1/4 the original size.\n",
    "\n",
    "In general, the formula for each dimension is `(n + 2*pad - ks)//stride + 1`, where `n` is the size of the original image on that dimension, `pad` is the padding, `ks`, the size of our kernel, and `stride` is the stride. For example, with a 5×5 input, 4×4 kernel, and 2 pixels of padding, we have `(5 + 2 * 2 - 4)//1 + 1 = 5//1 + 1 = 6`, as shown in the image below TODO: image"
   ]
  },
  {
   "cell_type": "markdown",
   "id": "cc03fb43",
   "metadata": {},
   "source": [
    "# Create a CNN"
   ]
  },
  {
   "cell_type": "markdown",
   "id": "7b346d15",
   "metadata": {},
   "source": [
    "In Pytorch, a convolution layer is `nn.Conv2d`, where it takes  `(in_channels, out_channels, kernel_size)` for required args. It initializes weight matrix automatically."
   ]
  },
  {
   "cell_type": "code",
   "execution_count": 63,
   "id": "919c58df",
   "metadata": {},
   "outputs": [
    {
     "data": {
      "text/plain": [
       "torch.Size([64, 1, 28, 28])"
      ]
     },
     "execution_count": 63,
     "metadata": {},
     "output_type": "execute_result"
    }
   ],
   "source": [
    "broken_cnn = nn.Sequential(\n",
    "    nn.Conv2d(1, 30, kernel_size=3, padding=1),\n",
    "    nn.ReLU(),\n",
    "    nn.Conv2d(30, 1, kernel_size=3, padding=1),\n",
    ")\n",
    "broken_cnn(xb).shape"
   ]
  },
  {
   "cell_type": "markdown",
   "id": "00def13b",
   "metadata": {},
   "source": [
    "This CNN won't be able to classify our digits, since the final activation is 28 x 28. To perform classification, we need a single output with 2 levels (3 and 7). To achieve that, we use `stride=2` to reduce the size of the activation maps. We create a helper function to create convolution layer as well as an optional activation function."
   ]
  },
  {
   "cell_type": "code",
   "execution_count": 64,
   "id": "a1fabdbe",
   "metadata": {},
   "outputs": [],
   "source": [
    "def conv(ni, nf, ks=3, act=True):\n",
    "    res = nn.Conv2d(ni, nf, stride=2, kernel_size=ks, padding=ks // 2)\n",
    "    if act:\n",
    "        res = nn.Sequential(res, nn.ReLU())\n",
    "    return res\n"
   ]
  },
  {
   "cell_type": "markdown",
   "id": "1914f280",
   "metadata": {},
   "source": [
    "The stride 2 is baked into the `conv` definition. For our cnn, we add more layers to compensate for the fact that the activation maps are getting smaller. Notice the `Flatten` function removes the extra 1 x 1 dimension."
   ]
  },
  {
   "cell_type": "code",
   "execution_count": 65,
   "id": "5c2104fe",
   "metadata": {},
   "outputs": [],
   "source": [
    "simple_cnn = nn.Sequential(\n",
    "    conv(1, 4),  # 14x14\n",
    "    conv(4, 8),  # 7x7\n",
    "    conv(8, 16),  # 4x4\n",
    "    conv(16, 32),  # 2x2\n",
    "    conv(32, 2, act=False),  # 1x1\n",
    "    nn.Flatten(),\n",
    ")"
   ]
  },
  {
   "cell_type": "markdown",
   "id": "1fdfa11d",
   "metadata": {},
   "source": [
    "Below is the a summary from the fastai learner's summary() function:\n",
    "\n",
    "```\n",
    "Sequential (Input shape: ['64 x 1 x 28 x 28'])\n",
    "================================================================\n",
    "Layer (type)         Output Shape         Param #    Trainable \n",
    "================================================================\n",
    "Conv2d               64 x 4 x 14 x 14     40         True      \n",
    "________________________________________________________________\n",
    "ReLU                 64 x 4 x 14 x 14     0          False     \n",
    "________________________________________________________________\n",
    "Conv2d               64 x 8 x 7 x 7       296        True      \n",
    "________________________________________________________________\n",
    "ReLU                 64 x 8 x 7 x 7       0          False     \n",
    "________________________________________________________________\n",
    "Conv2d               64 x 16 x 4 x 4      1,168      True      \n",
    "________________________________________________________________\n",
    "ReLU                 64 x 16 x 4 x 4      0          False     \n",
    "________________________________________________________________\n",
    "Conv2d               64 x 32 x 2 x 2      4,640      True      \n",
    "________________________________________________________________\n",
    "ReLU                 64 x 32 x 2 x 2      0          False     \n",
    "________________________________________________________________\n",
    "Conv2d               64 x 2 x 1 x 1       578        True      \n",
    "________________________________________________________________\n",
    "Flatten              64 x 2               0          False     \n",
    "________________________________________________________________\n",
    "\n",
    "Total params: 6,722\n",
    "Total trainable params: 6,722\n",
    "Total non-trainable params: 0\n",
    "```"
   ]
  },
  {
   "cell_type": "markdown",
   "id": "d7f687e0",
   "metadata": {},
   "source": [
    "We interpret the shape as `batch,channel,height,width`. Notice that the # of parameters are increasing, this compensate the fact that the activation maps are getting smaller. Let's see why that's needed.\n",
    "\n",
    "We look at the first layer of this cnn, the output shape is 14 x 14. The next layer has 296 parameters. These weights include n_channel = n_bias bias weights. In this case, we 8 bias weights. So each activation in the map will multiply 296 - 8 parameters, which is 14 * 14 * 288 = 56448 operations\n",
    "\n",
    "For the next layer, we have 1169 - 16 params as well as 4 x 4 activation maps. This gives us 1153 * 4 * 4 = 56448 operations, which equals the operation we perform in the previous layer.\n",
    "\n",
    "So although we decreased the output dimension, we does not decrease the amount of computation we perform. Since later layers computer more complex features, this is the desired outcome. As a rule of thumb, we generally want to double the number of filters each time we have a stride-2 layer.\n",
    "\n",
    "> Note that the terms here are a big confusing. Sometimes channels are called features or filters when they are not input channels. TODO: reformat in blog"
   ]
  },
  {
   "cell_type": "markdown",
   "id": "7f643176",
   "metadata": {},
   "source": [
    "Below is how to count the total params of a layer, parameters of its weight and bias."
   ]
  },
  {
   "cell_type": "code",
   "execution_count": 66,
   "id": "be6cd981",
   "metadata": {},
   "outputs": [
    {
     "name": "stdout",
     "output_type": "stream",
     "text": [
      "Parameter count for simple_cnn[0]: 40\n",
      "36\n",
      "4\n"
     ]
    }
   ],
   "source": [
    "m = simple_cnn[0]\n",
    "out = m(xb)  # xb is your input batch\n",
    "param_count = sum(p.numel() for p in m.parameters())\n",
    "print(f\"Parameter count for simple_cnn[0]: {param_count}\")\n",
    "for p in m.parameters():\n",
    "    print(p.numel())"
   ]
  },
  {
   "cell_type": "markdown",
   "id": "e4f3d2f7",
   "metadata": {},
   "source": [
    "Finally, we apply the cnn to a training batch and look at its shape."
   ]
  },
  {
   "cell_type": "code",
   "execution_count": 67,
   "id": "f837edd8",
   "metadata": {},
   "outputs": [
    {
     "data": {
      "text/plain": [
       "(torch.Size([64, 2]),\n",
       " tensor([[0.0364, 0.0341],\n",
       "         [0.0370, 0.0353],\n",
       "         [0.0365, 0.0352],\n",
       "         [0.0371, 0.0348],\n",
       "         [0.0371, 0.0330],\n",
       "         [0.0364, 0.0356],\n",
       "         [0.0379, 0.0349],\n",
       "         [0.0356, 0.0335],\n",
       "         [0.0360, 0.0343],\n",
       "         [0.0342, 0.0342]], grad_fn=<SliceBackward0>))"
      ]
     },
     "execution_count": 67,
     "metadata": {},
     "output_type": "execute_result"
    }
   ],
   "source": [
    "simple_cnn(xb).shape, simple_cnn(xb)[:10]"
   ]
  },
  {
   "cell_type": "markdown",
   "id": "337e1692",
   "metadata": {},
   "source": [
    "This is exactly what we want, for each of the 64 images in a batch, we got two scores, logits, each corresponds to a digit.\n",
    "\n",
    "We pick an image from the training batch."
   ]
  },
  {
   "cell_type": "code",
   "execution_count": 68,
   "id": "16f011be",
   "metadata": {},
   "outputs": [
    {
     "data": {
      "text/plain": [
       "(torch.Size([64, 1, 28, 28]), None)"
      ]
     },
     "execution_count": 24,
     "metadata": {},
     "output_type": "execute_result"
    },
    {
     "data": {
      "image/png": "[encoded data removed]",
      "text/plain": [
       "<Figure size 100x100 with 1 Axes>"
      ]
     },
     "metadata": {},
     "output_type": "display_data"
    }
   ],
   "source": [
    "xb.shape, show_image(xb[3, 0])"
   ]
  },
  {
   "cell_type": "markdown",
   "id": "4cfdec19",
   "metadata": {},
   "source": [
    "We convert the logits to probability and we can see that the classification with higher probability is 0, which according to our dataset (`class_to_idx`) above, is 3. This is an incorrect classification. We will see if the training improves the result."
   ]
  },
  {
   "cell_type": "code",
   "execution_count": 69,
   "id": "f024a0ea",
   "metadata": {},
   "outputs": [
    {
     "data": {
      "text/plain": [
       "(tensor([0.0371, 0.0348], grad_fn=<SelectBackward0>),\n",
       " tensor([0.5006, 0.4994], grad_fn=<SelectBackward0>),\n",
       " tensor(0))"
      ]
     },
     "execution_count": 69,
     "metadata": {},
     "output_type": "execute_result"
    }
   ],
   "source": [
    "logits = simple_cnn(xb)  # [64, 2]\n",
    "probs = logits.softmax(dim=1)  # [64, 2], rows sum to 1\n",
    "preds = probs.argmax(dim=1)\n",
    "logits[3], probs[3], preds[3]"
   ]
  },
  {
   "cell_type": "markdown",
   "id": "825ed9dd",
   "metadata": {},
   "source": [
    "Now we create a training loop"
   ]
  },
  {
   "cell_type": "code",
   "execution_count": 70,
   "id": "d1a30825",
   "metadata": {},
   "outputs": [
    {
     "name": "stdout",
     "output_type": "stream",
     "text": [
      "epoch 0, train loss: 0.6928\n",
      "validation loss tensor(0.6924)\n",
      "epoch 1, train loss: 0.6901\n",
      "validation loss tensor(0.6858)\n",
      "epoch 2, train loss: 0.4942\n",
      "validation loss tensor(0.1410)\n",
      "epoch 3, train loss: 0.0925\n",
      "validation loss tensor(0.0802)\n"
     ]
    }
   ],
   "source": [
    "def train(model, lr, epochs, train_loader, valid_loader):\n",
    "    for epoch in range(epochs):\n",
    "        epoch_loss = 0\n",
    "        batch_num = 0\n",
    "        model.train()\n",
    "        for xb, yb in train_loader:\n",
    "            pred = model(xb)\n",
    "            loss = F.cross_entropy(pred, yb)\n",
    "\n",
    "            loss.backward()\n",
    "            with torch.no_grad():\n",
    "                for p in model.parameters():\n",
    "                    p -= p.grad * lr\n",
    "                model.zero_grad()\n",
    "            epoch_loss += loss.item()\n",
    "            batch_num += 1  # number of batches within a epoch\n",
    "        avg_loss = epoch_loss / batch_num\n",
    "        model.eval()\n",
    "        with torch.no_grad():\n",
    "            batch_num_valid = 0\n",
    "            valid_loss = 0\n",
    "            for xb, yb in valid_loader:\n",
    "                valid_loss += F.cross_entropy(model(xb), yb)\n",
    "                batch_num_valid += 1\n",
    "        print(f\"epoch {epoch}, train loss: {avg_loss:.4f}\")\n",
    "        print(\"validation loss\", valid_loss / batch_num_valid)\n",
    "\n",
    "\n",
    "train(simple_cnn, 5e-2, 4, train_loader, valid_loader)\n"
   ]
  },
  {
   "cell_type": "markdown",
   "id": "ec8f4ce1",
   "metadata": {},
   "source": [
    "now we've trained the CNN, we run our example again. We got a different classification. Now it correctly classify the digit as 7. And this time the model is a lot more confident, with 7 getting a probability of 90%."
   ]
  },
  {
   "cell_type": "code",
   "execution_count": 71,
   "id": "687e7828",
   "metadata": {},
   "outputs": [
    {
     "data": {
      "text/plain": [
       "(tensor([-1.1781,  1.0745], grad_fn=<SelectBackward0>),\n",
       " tensor([0.0951, 0.9049], grad_fn=<SelectBackward0>),\n",
       " tensor(1))"
      ]
     },
     "execution_count": 71,
     "metadata": {},
     "output_type": "execute_result"
    }
   ],
   "source": [
    "logits = simple_cnn(xb)  # [64, 2]\n",
    "probs = logits.softmax(dim=1)  # [64, 2], rows sum to 1\n",
    "preds = probs.argmax(dim=1)\n",
    "logits[3], probs[3], preds[3]"
   ]
  },
  {
   "cell_type": "markdown",
   "id": "591bb799",
   "metadata": {},
   "source": [
    "Now we a ready to train the full 10 digits. Notice here we doubled the filters of every layer to increase the number of parameters.\n",
    "\n",
    "Previously, our first layer had 4 output filters. That meant that there were 4 values being computed from 9 pixels (3 x 3 kernel) at each location. Think about what happens if we double this output to 8 filters. Then when we apply our kernel we will be using 9 pixels to calculate 8 numbers. That means it isn't really learning much at all: the output size is almost the same as the input size. Neural networks will only create useful features if they're forced to do so—that is, if the number of outputs from an operation is significantly smaller than the number of inputs.\n",
    "\n",
    "To fix this, we can use a larger kernel in the first layer. If we use a kernel of 5×5 pixels then there are 25 pixels being used at each kernel application. "
   ]
  },
  {
   "cell_type": "code",
   "execution_count": 72,
   "id": "c1cee7d1",
   "metadata": {},
   "outputs": [
    {
     "name": "stdout",
     "output_type": "stream",
     "text": [
      "{'0': 0, '1': 1, '2': 2, '3': 3, '4': 4, '5': 5, '6': 6, '7': 7, '8': 8, '9': 9}\n",
      "train set len,  60000\n",
      "{'0': 0, '1': 1, '2': 2, '3': 3, '4': 4, '5': 5, '6': 6, '7': 7, '8': 8, '9': 9}\n",
      "valid set len,  10000\n",
      "epoch 0, train loss: 1.3969\n",
      "validation loss tensor(0.2357)\n",
      "epoch 1, train loss: 0.1867\n",
      "validation loss tensor(0.1531)\n",
      "epoch 2, train loss: 0.1208\n",
      "validation loss tensor(0.0973)\n",
      "epoch 3, train loss: 0.0924\n",
      "validation loss tensor(0.1001)\n",
      "epoch 4, train loss: 0.0767\n",
      "validation loss tensor(0.0702)\n"
     ]
    }
   ],
   "source": [
    "full_train_loader, full_valid_loader = create_mnist_dataloaders(\"../data/mnist_png\")\n",
    "larger_cnn = nn.Sequential(\n",
    "    conv(1, 8, ks=5),  # 14x14\n",
    "    conv(8, 16),  # 7x7\n",
    "    conv(16, 32),  # 4x4\n",
    "    conv(32, 64),  # 2x2\n",
    "    conv(64, 10, act=False),  # 1x1\n",
    "    nn.Flatten(),\n",
    ")\n",
    "\n",
    "train(larger_cnn, 5e-2, 5, full_train_loader, full_valid_loader)\n"
   ]
  },
  {
   "cell_type": "markdown",
   "id": "cc1659b9",
   "metadata": {},
   "source": [
    "Let's look at one sample image:"
   ]
  },
  {
   "cell_type": "code",
   "execution_count": 73,
   "id": "44517be3",
   "metadata": {},
   "outputs": [
    {
     "data": {
      "image/png": "[encoded data removed]",
      "text/plain": [
       "<Figure size 100x100 with 1 Axes>"
      ]
     },
     "metadata": {},
     "output_type": "display_data"
    }
   ],
   "source": [
    "xb, yb = next(iter(full_train_loader))\n",
    "show_image(xb[0, 0])"
   ]
  },
  {
   "cell_type": "markdown",
   "id": "cc6fe642",
   "metadata": {},
   "source": [
    "Use our trained model to classify this image, the prediction is 1, which is correct."
   ]
  },
  {
   "cell_type": "code",
   "execution_count": 74,
   "id": "1b730186",
   "metadata": {},
   "outputs": [
    {
     "data": {
      "text/plain": [
       "(tensor([-3.2632, 10.2683,  0.5308,  1.6681, -2.3475, -3.7332, -6.7423, -0.2727,\n",
       "          4.8563, -0.7971], grad_fn=<SelectBackward0>),\n",
       " tensor([1.3222e-06, 9.9527e-01, 5.8747e-05, 1.8320e-04, 3.3034e-06, 8.2634e-07,\n",
       "         4.0768e-08, 2.6305e-05, 4.4417e-03, 1.5571e-05],\n",
       "        grad_fn=<SelectBackward0>),\n",
       " tensor(1))"
      ]
     },
     "execution_count": 74,
     "metadata": {},
     "output_type": "execute_result"
    }
   ],
   "source": [
    "logits = larger_cnn(xb)\n",
    "probs = logits.softmax(dim=1)\n",
    "preds = probs.argmax(dim=1)\n",
    "logits[0], probs[0], preds[0]"
   ]
  },
  {
   "cell_type": "markdown",
   "id": "335132d8",
   "metadata": {},
   "source": [
    "# BatchNorm\n",
    "\n",
    "Our results from the initial training is relatively good. We can improve the results by applying **Batch Normalization** to our convolution layer. The problem with convolutions is that nearly all activations start at 0. This will affect the training results. We want to apply normalization to the activations to improve the training results.\n",
    "\n",
    "Batch normalization works by taking an average of the mean and standard deviations of the activations of a layer and using those to normalize the activations. We also add two learnable parameters `gamma` and `beta` to accommodate extreme values. The new activation after applying batchnorm is `gamma*y + beta` where `y` is normalized activation. In pytorch, we use `nn.BatchNorm2d()` to apply batchnorm."
   ]
  },
  {
   "cell_type": "code",
   "execution_count": null,
   "id": "60e6ac62",
   "metadata": {},
   "outputs": [
    {
     "name": "stdout",
     "output_type": "stream",
     "text": [
      "epoch 0, train loss: 0.2530\n",
      "validation loss tensor(0.0933)\n",
      "epoch 1, train loss: 0.0963\n",
      "validation loss tensor(0.0649)\n",
      "epoch 2, train loss: 0.0689\n",
      "validation loss tensor(0.0540)\n",
      "epoch 3, train loss: 0.0543\n",
      "validation loss tensor(0.0429)\n",
      "epoch 4, train loss: 0.0459\n",
      "validation loss tensor(0.0395)\n"
     ]
    }
   ],
   "source": [
    "def conv(ni, nf, ks=3, act=True):\n",
    "    layers = [nn.Conv2d(ni, nf, stride=2, kernel_size=ks, padding=ks // 2)]\n",
    "    if act:\n",
    "        layers.append(nn.ReLU())\n",
    "    layers.append(nn.BatchNorm2d(nf))\n",
    "    return nn.Sequential(*layers)\n",
    "\n",
    "\n",
    "cnn_bn = nn.Sequential(\n",
    "    conv(1, 8, ks=5),  # 14x14\n",
    "    conv(8, 16),  # 7x7\n",
    "    conv(16, 32),  # 4x4\n",
    "    conv(32, 64),  # 2x2\n",
    "    conv(64, 10, act=False),  # 1x1\n",
    "    nn.Flatten(),\n",
    ")\n",
    "\n",
    "train(cnn_bn, 5e-2, 5, full_train_loader, full_valid_loader)"
   ]
  },
  {
   "cell_type": "markdown",
   "id": "bce060b7",
   "metadata": {},
   "source": [
    "We can see that after applying the batch norm, the training loss goes down even further."
   ]
  }
 ],
 "metadata": {
  "kernelspec": {
   "display_name": "ml",
   "language": "python",
   "name": "python3"
  },
  "language_info": {
   "codemirror_mode": {
    "name": "ipython",
    "version": 3
   },
   "file_extension": ".py",
   "mimetype": "text/x-python",
   "name": "python",
   "nbconvert_exporter": "python",
   "pygments_lexer": "ipython3",
   "version": "3.12.3"
  }
 },
 "nbformat": 4,
 "nbformat_minor": 5
}
